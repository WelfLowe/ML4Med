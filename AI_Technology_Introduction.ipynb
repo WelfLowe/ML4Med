{
  "cells": [
    {
      "cell_type": "markdown",
      "metadata": {
        "id": "view-in-github",
        "colab_type": "text"
      },
      "source": [
        "<a href=\"https://colab.research.google.com/github/WelfLowe/ML4non-programmers/blob/main/AI_Technology_Introduction.ipynb\" target=\"_parent\"><img src=\"https://colab.research.google.com/assets/colab-badge.svg\" alt=\"Open In Colab\"/></a>"
      ]
    },
    {
      "cell_type": "markdown",
      "metadata": {
        "id": "mGJV_Wko_nxW"
      },
      "source": [
        "# Examples of regression and classification "
      ]
    },
    {
      "cell_type": "markdown",
      "metadata": {
        "id": "gwnDJ6V7_nxZ"
      },
      "source": [
        "We import some 3rd party libraries that we just use in our examples."
      ]
    },
    {
      "cell_type": "code",
      "execution_count": 1,
      "metadata": {
        "id": "OnMzIq7X_nxa"
      },
      "outputs": [],
      "source": [
        "import pandas as pd\n",
        "import numpy as np\n",
        "from sklearn.linear_model import LinearRegression\n",
        "from scipy.stats import norm, multivariate_normal\n",
        "from sklearn.metrics import confusion_matrix\n",
        "import matplotlib.pyplot as plt  \n",
        "import seaborn as sn"
      ]
    },
    {
      "cell_type": "markdown",
      "metadata": {
        "id": "PUziyuEL_nxb"
      },
      "source": [
        "## Collect and Preprocess the Data"
      ]
    },
    {
      "cell_type": "markdown",
      "metadata": {
        "id": "A7yb7p_6_nxb"
      },
      "source": [
        "The data has been collected. We read the structured data that is stored in a file $\\verb|heights_weights.csv|$. Recall that we imported the corresponding library: $\\verb|import pandas as pd|$.\n",
        "\n",
        "Then we map inches to cm ($\\times 2.54$) and punds to kg ($\\times 0.45$). Then we plot the first 10 datapoints of the data table."
      ]
    },
    {
      "cell_type": "code",
      "execution_count": 2,
      "metadata": {
        "scrolled": true,
        "colab": {
          "base_uri": "https://localhost:8080/",
          "height": 381
        },
        "id": "S4bGAzUb_nxc",
        "outputId": "54a4c66a-3c1a-43e3-9f9f-e4eafe7da13d"
      },
      "outputs": [
        {
          "output_type": "stream",
          "name": "stdout",
          "text": [
            "10000\n"
          ]
        },
        {
          "output_type": "execute_result",
          "data": {
            "text/plain": [
              "       Height      Weight  Gender\n",
              "0  187.571423  109.720985       1\n",
              "1  174.706036   73.622732       1\n",
              "2  188.239668   96.497550       1\n",
              "3  182.196685   99.809504       1\n",
              "4  177.499761   93.598619       1\n",
              "5  170.822660   69.042216       1\n",
              "6  174.714106   83.428219       1\n",
              "7  173.605229   76.190352       1\n",
              "8  170.228132   79.800187       1\n",
              "9  161.179495   70.941642       1"
            ],
            "text/html": [
              "\n",
              "  <div id=\"df-687ae08b-807f-4911-951e-e347f127eb8a\">\n",
              "    <div class=\"colab-df-container\">\n",
              "      <div>\n",
              "<style scoped>\n",
              "    .dataframe tbody tr th:only-of-type {\n",
              "        vertical-align: middle;\n",
              "    }\n",
              "\n",
              "    .dataframe tbody tr th {\n",
              "        vertical-align: top;\n",
              "    }\n",
              "\n",
              "    .dataframe thead th {\n",
              "        text-align: right;\n",
              "    }\n",
              "</style>\n",
              "<table border=\"1\" class=\"dataframe\">\n",
              "  <thead>\n",
              "    <tr style=\"text-align: right;\">\n",
              "      <th></th>\n",
              "      <th>Height</th>\n",
              "      <th>Weight</th>\n",
              "      <th>Gender</th>\n",
              "    </tr>\n",
              "  </thead>\n",
              "  <tbody>\n",
              "    <tr>\n",
              "      <th>0</th>\n",
              "      <td>187.571423</td>\n",
              "      <td>109.720985</td>\n",
              "      <td>1</td>\n",
              "    </tr>\n",
              "    <tr>\n",
              "      <th>1</th>\n",
              "      <td>174.706036</td>\n",
              "      <td>73.622732</td>\n",
              "      <td>1</td>\n",
              "    </tr>\n",
              "    <tr>\n",
              "      <th>2</th>\n",
              "      <td>188.239668</td>\n",
              "      <td>96.497550</td>\n",
              "      <td>1</td>\n",
              "    </tr>\n",
              "    <tr>\n",
              "      <th>3</th>\n",
              "      <td>182.196685</td>\n",
              "      <td>99.809504</td>\n",
              "      <td>1</td>\n",
              "    </tr>\n",
              "    <tr>\n",
              "      <th>4</th>\n",
              "      <td>177.499761</td>\n",
              "      <td>93.598619</td>\n",
              "      <td>1</td>\n",
              "    </tr>\n",
              "    <tr>\n",
              "      <th>5</th>\n",
              "      <td>170.822660</td>\n",
              "      <td>69.042216</td>\n",
              "      <td>1</td>\n",
              "    </tr>\n",
              "    <tr>\n",
              "      <th>6</th>\n",
              "      <td>174.714106</td>\n",
              "      <td>83.428219</td>\n",
              "      <td>1</td>\n",
              "    </tr>\n",
              "    <tr>\n",
              "      <th>7</th>\n",
              "      <td>173.605229</td>\n",
              "      <td>76.190352</td>\n",
              "      <td>1</td>\n",
              "    </tr>\n",
              "    <tr>\n",
              "      <th>8</th>\n",
              "      <td>170.228132</td>\n",
              "      <td>79.800187</td>\n",
              "      <td>1</td>\n",
              "    </tr>\n",
              "    <tr>\n",
              "      <th>9</th>\n",
              "      <td>161.179495</td>\n",
              "      <td>70.941642</td>\n",
              "      <td>1</td>\n",
              "    </tr>\n",
              "  </tbody>\n",
              "</table>\n",
              "</div>\n",
              "      <button class=\"colab-df-convert\" onclick=\"convertToInteractive('df-687ae08b-807f-4911-951e-e347f127eb8a')\"\n",
              "              title=\"Convert this dataframe to an interactive table.\"\n",
              "              style=\"display:none;\">\n",
              "        \n",
              "  <svg xmlns=\"http://www.w3.org/2000/svg\" height=\"24px\"viewBox=\"0 0 24 24\"\n",
              "       width=\"24px\">\n",
              "    <path d=\"M0 0h24v24H0V0z\" fill=\"none\"/>\n",
              "    <path d=\"M18.56 5.44l.94 2.06.94-2.06 2.06-.94-2.06-.94-.94-2.06-.94 2.06-2.06.94zm-11 1L8.5 8.5l.94-2.06 2.06-.94-2.06-.94L8.5 2.5l-.94 2.06-2.06.94zm10 10l.94 2.06.94-2.06 2.06-.94-2.06-.94-.94-2.06-.94 2.06-2.06.94z\"/><path d=\"M17.41 7.96l-1.37-1.37c-.4-.4-.92-.59-1.43-.59-.52 0-1.04.2-1.43.59L10.3 9.45l-7.72 7.72c-.78.78-.78 2.05 0 2.83L4 21.41c.39.39.9.59 1.41.59.51 0 1.02-.2 1.41-.59l7.78-7.78 2.81-2.81c.8-.78.8-2.07 0-2.86zM5.41 20L4 18.59l7.72-7.72 1.47 1.35L5.41 20z\"/>\n",
              "  </svg>\n",
              "      </button>\n",
              "      \n",
              "  <style>\n",
              "    .colab-df-container {\n",
              "      display:flex;\n",
              "      flex-wrap:wrap;\n",
              "      gap: 12px;\n",
              "    }\n",
              "\n",
              "    .colab-df-convert {\n",
              "      background-color: #E8F0FE;\n",
              "      border: none;\n",
              "      border-radius: 50%;\n",
              "      cursor: pointer;\n",
              "      display: none;\n",
              "      fill: #1967D2;\n",
              "      height: 32px;\n",
              "      padding: 0 0 0 0;\n",
              "      width: 32px;\n",
              "    }\n",
              "\n",
              "    .colab-df-convert:hover {\n",
              "      background-color: #E2EBFA;\n",
              "      box-shadow: 0px 1px 2px rgba(60, 64, 67, 0.3), 0px 1px 3px 1px rgba(60, 64, 67, 0.15);\n",
              "      fill: #174EA6;\n",
              "    }\n",
              "\n",
              "    [theme=dark] .colab-df-convert {\n",
              "      background-color: #3B4455;\n",
              "      fill: #D2E3FC;\n",
              "    }\n",
              "\n",
              "    [theme=dark] .colab-df-convert:hover {\n",
              "      background-color: #434B5C;\n",
              "      box-shadow: 0px 1px 3px 1px rgba(0, 0, 0, 0.15);\n",
              "      filter: drop-shadow(0px 1px 2px rgba(0, 0, 0, 0.3));\n",
              "      fill: #FFFFFF;\n",
              "    }\n",
              "  </style>\n",
              "\n",
              "      <script>\n",
              "        const buttonEl =\n",
              "          document.querySelector('#df-687ae08b-807f-4911-951e-e347f127eb8a button.colab-df-convert');\n",
              "        buttonEl.style.display =\n",
              "          google.colab.kernel.accessAllowed ? 'block' : 'none';\n",
              "\n",
              "        async function convertToInteractive(key) {\n",
              "          const element = document.querySelector('#df-687ae08b-807f-4911-951e-e347f127eb8a');\n",
              "          const dataTable =\n",
              "            await google.colab.kernel.invokeFunction('convertToInteractive',\n",
              "                                                     [key], {});\n",
              "          if (!dataTable) return;\n",
              "\n",
              "          const docLinkHtml = 'Like what you see? Visit the ' +\n",
              "            '<a target=\"_blank\" href=https://colab.research.google.com/notebooks/data_table.ipynb>data table notebook</a>'\n",
              "            + ' to learn more about interactive tables.';\n",
              "          element.innerHTML = '';\n",
              "          dataTable['output_type'] = 'display_data';\n",
              "          await google.colab.output.renderOutput(dataTable, element);\n",
              "          const docLink = document.createElement('div');\n",
              "          docLink.innerHTML = docLinkHtml;\n",
              "          element.appendChild(docLink);\n",
              "        }\n",
              "      </script>\n",
              "    </div>\n",
              "  </div>\n",
              "  "
            ]
          },
          "metadata": {},
          "execution_count": 2
        }
      ],
      "source": [
        "data_url = \"https://raw.githubusercontent.com/WelfLowe/ML4non-programmers/main/heights_weights.csv\"\n",
        "data = pd.read_csv(data_url)\n",
        "\n",
        "#For local file access in a Jupyter Notebook use this line instead\n",
        "#data = pd.read_csv (r'./heights_weights.csv')\n",
        "data['Height'] = data['Height'].map(lambda x: x * 2.54)\n",
        "data['Weight'] = data['Weight'].map(lambda x: x * 0.453592)\n",
        "print(data.shape[0])\n",
        "data.head(10)"
      ]
    },
    {
      "cell_type": "markdown",
      "metadata": {
        "id": "Y3fKF4TX_nxd"
      },
      "source": [
        "We produce the table for the men ($\\verb|'Gender'==1|$) and plot the first five datapoints."
      ]
    },
    {
      "cell_type": "code",
      "execution_count": 3,
      "metadata": {
        "scrolled": true,
        "colab": {
          "base_uri": "https://localhost:8080/",
          "height": 206
        },
        "id": "6jN1PUjq_nxd",
        "outputId": "791d8af7-16a5-4926-8e0f-17e6a65e4a9c"
      },
      "outputs": [
        {
          "output_type": "execute_result",
          "data": {
            "text/plain": [
              "       Height      Weight\n",
              "0  187.571423  109.720985\n",
              "1  174.706036   73.622732\n",
              "2  188.239668   96.497550\n",
              "3  182.196685   99.809504\n",
              "4  177.499761   93.598619"
            ],
            "text/html": [
              "\n",
              "  <div id=\"df-89a77084-a781-4270-ac66-f91031778993\">\n",
              "    <div class=\"colab-df-container\">\n",
              "      <div>\n",
              "<style scoped>\n",
              "    .dataframe tbody tr th:only-of-type {\n",
              "        vertical-align: middle;\n",
              "    }\n",
              "\n",
              "    .dataframe tbody tr th {\n",
              "        vertical-align: top;\n",
              "    }\n",
              "\n",
              "    .dataframe thead th {\n",
              "        text-align: right;\n",
              "    }\n",
              "</style>\n",
              "<table border=\"1\" class=\"dataframe\">\n",
              "  <thead>\n",
              "    <tr style=\"text-align: right;\">\n",
              "      <th></th>\n",
              "      <th>Height</th>\n",
              "      <th>Weight</th>\n",
              "    </tr>\n",
              "  </thead>\n",
              "  <tbody>\n",
              "    <tr>\n",
              "      <th>0</th>\n",
              "      <td>187.571423</td>\n",
              "      <td>109.720985</td>\n",
              "    </tr>\n",
              "    <tr>\n",
              "      <th>1</th>\n",
              "      <td>174.706036</td>\n",
              "      <td>73.622732</td>\n",
              "    </tr>\n",
              "    <tr>\n",
              "      <th>2</th>\n",
              "      <td>188.239668</td>\n",
              "      <td>96.497550</td>\n",
              "    </tr>\n",
              "    <tr>\n",
              "      <th>3</th>\n",
              "      <td>182.196685</td>\n",
              "      <td>99.809504</td>\n",
              "    </tr>\n",
              "    <tr>\n",
              "      <th>4</th>\n",
              "      <td>177.499761</td>\n",
              "      <td>93.598619</td>\n",
              "    </tr>\n",
              "  </tbody>\n",
              "</table>\n",
              "</div>\n",
              "      <button class=\"colab-df-convert\" onclick=\"convertToInteractive('df-89a77084-a781-4270-ac66-f91031778993')\"\n",
              "              title=\"Convert this dataframe to an interactive table.\"\n",
              "              style=\"display:none;\">\n",
              "        \n",
              "  <svg xmlns=\"http://www.w3.org/2000/svg\" height=\"24px\"viewBox=\"0 0 24 24\"\n",
              "       width=\"24px\">\n",
              "    <path d=\"M0 0h24v24H0V0z\" fill=\"none\"/>\n",
              "    <path d=\"M18.56 5.44l.94 2.06.94-2.06 2.06-.94-2.06-.94-.94-2.06-.94 2.06-2.06.94zm-11 1L8.5 8.5l.94-2.06 2.06-.94-2.06-.94L8.5 2.5l-.94 2.06-2.06.94zm10 10l.94 2.06.94-2.06 2.06-.94-2.06-.94-.94-2.06-.94 2.06-2.06.94z\"/><path d=\"M17.41 7.96l-1.37-1.37c-.4-.4-.92-.59-1.43-.59-.52 0-1.04.2-1.43.59L10.3 9.45l-7.72 7.72c-.78.78-.78 2.05 0 2.83L4 21.41c.39.39.9.59 1.41.59.51 0 1.02-.2 1.41-.59l7.78-7.78 2.81-2.81c.8-.78.8-2.07 0-2.86zM5.41 20L4 18.59l7.72-7.72 1.47 1.35L5.41 20z\"/>\n",
              "  </svg>\n",
              "      </button>\n",
              "      \n",
              "  <style>\n",
              "    .colab-df-container {\n",
              "      display:flex;\n",
              "      flex-wrap:wrap;\n",
              "      gap: 12px;\n",
              "    }\n",
              "\n",
              "    .colab-df-convert {\n",
              "      background-color: #E8F0FE;\n",
              "      border: none;\n",
              "      border-radius: 50%;\n",
              "      cursor: pointer;\n",
              "      display: none;\n",
              "      fill: #1967D2;\n",
              "      height: 32px;\n",
              "      padding: 0 0 0 0;\n",
              "      width: 32px;\n",
              "    }\n",
              "\n",
              "    .colab-df-convert:hover {\n",
              "      background-color: #E2EBFA;\n",
              "      box-shadow: 0px 1px 2px rgba(60, 64, 67, 0.3), 0px 1px 3px 1px rgba(60, 64, 67, 0.15);\n",
              "      fill: #174EA6;\n",
              "    }\n",
              "\n",
              "    [theme=dark] .colab-df-convert {\n",
              "      background-color: #3B4455;\n",
              "      fill: #D2E3FC;\n",
              "    }\n",
              "\n",
              "    [theme=dark] .colab-df-convert:hover {\n",
              "      background-color: #434B5C;\n",
              "      box-shadow: 0px 1px 3px 1px rgba(0, 0, 0, 0.15);\n",
              "      filter: drop-shadow(0px 1px 2px rgba(0, 0, 0, 0.3));\n",
              "      fill: #FFFFFF;\n",
              "    }\n",
              "  </style>\n",
              "\n",
              "      <script>\n",
              "        const buttonEl =\n",
              "          document.querySelector('#df-89a77084-a781-4270-ac66-f91031778993 button.colab-df-convert');\n",
              "        buttonEl.style.display =\n",
              "          google.colab.kernel.accessAllowed ? 'block' : 'none';\n",
              "\n",
              "        async function convertToInteractive(key) {\n",
              "          const element = document.querySelector('#df-89a77084-a781-4270-ac66-f91031778993');\n",
              "          const dataTable =\n",
              "            await google.colab.kernel.invokeFunction('convertToInteractive',\n",
              "                                                     [key], {});\n",
              "          if (!dataTable) return;\n",
              "\n",
              "          const docLinkHtml = 'Like what you see? Visit the ' +\n",
              "            '<a target=\"_blank\" href=https://colab.research.google.com/notebooks/data_table.ipynb>data table notebook</a>'\n",
              "            + ' to learn more about interactive tables.';\n",
              "          element.innerHTML = '';\n",
              "          dataTable['output_type'] = 'display_data';\n",
              "          await google.colab.output.renderOutput(dataTable, element);\n",
              "          const docLink = document.createElement('div');\n",
              "          docLink.innerHTML = docLinkHtml;\n",
              "          element.appendChild(docLink);\n",
              "        }\n",
              "      </script>\n",
              "    </div>\n",
              "  </div>\n",
              "  "
            ]
          },
          "metadata": {},
          "execution_count": 3
        }
      ],
      "source": [
        "male =  data['Gender']==1\n",
        "males = data[male]\n",
        "males = males.drop('Gender', axis=1)\n",
        "males.head()"
      ]
    },
    {
      "cell_type": "markdown",
      "metadata": {
        "id": "7lxu-MKN_nxe"
      },
      "source": [
        "Same for the women ($\\verb|'Gender'==0|$)."
      ]
    },
    {
      "cell_type": "code",
      "execution_count": 4,
      "metadata": {
        "scrolled": true,
        "colab": {
          "base_uri": "https://localhost:8080/",
          "height": 206
        },
        "id": "Dc4qPoAO_nxe",
        "outputId": "fe8d4aea-203e-4322-f0e5-5f17c5d84dea"
      },
      "outputs": [
        {
          "output_type": "execute_result",
          "data": {
            "text/plain": [
              "          Height     Weight\n",
              "5000  149.633259  46.306448\n",
              "5001  165.684232  64.095191\n",
              "5002  160.957270  59.439332\n",
              "5003  163.779193  58.137572\n",
              "5004  156.954464  58.867808"
            ],
            "text/html": [
              "\n",
              "  <div id=\"df-db0fe173-7538-4764-aee4-02f6ef5f25c5\">\n",
              "    <div class=\"colab-df-container\">\n",
              "      <div>\n",
              "<style scoped>\n",
              "    .dataframe tbody tr th:only-of-type {\n",
              "        vertical-align: middle;\n",
              "    }\n",
              "\n",
              "    .dataframe tbody tr th {\n",
              "        vertical-align: top;\n",
              "    }\n",
              "\n",
              "    .dataframe thead th {\n",
              "        text-align: right;\n",
              "    }\n",
              "</style>\n",
              "<table border=\"1\" class=\"dataframe\">\n",
              "  <thead>\n",
              "    <tr style=\"text-align: right;\">\n",
              "      <th></th>\n",
              "      <th>Height</th>\n",
              "      <th>Weight</th>\n",
              "    </tr>\n",
              "  </thead>\n",
              "  <tbody>\n",
              "    <tr>\n",
              "      <th>5000</th>\n",
              "      <td>149.633259</td>\n",
              "      <td>46.306448</td>\n",
              "    </tr>\n",
              "    <tr>\n",
              "      <th>5001</th>\n",
              "      <td>165.684232</td>\n",
              "      <td>64.095191</td>\n",
              "    </tr>\n",
              "    <tr>\n",
              "      <th>5002</th>\n",
              "      <td>160.957270</td>\n",
              "      <td>59.439332</td>\n",
              "    </tr>\n",
              "    <tr>\n",
              "      <th>5003</th>\n",
              "      <td>163.779193</td>\n",
              "      <td>58.137572</td>\n",
              "    </tr>\n",
              "    <tr>\n",
              "      <th>5004</th>\n",
              "      <td>156.954464</td>\n",
              "      <td>58.867808</td>\n",
              "    </tr>\n",
              "  </tbody>\n",
              "</table>\n",
              "</div>\n",
              "      <button class=\"colab-df-convert\" onclick=\"convertToInteractive('df-db0fe173-7538-4764-aee4-02f6ef5f25c5')\"\n",
              "              title=\"Convert this dataframe to an interactive table.\"\n",
              "              style=\"display:none;\">\n",
              "        \n",
              "  <svg xmlns=\"http://www.w3.org/2000/svg\" height=\"24px\"viewBox=\"0 0 24 24\"\n",
              "       width=\"24px\">\n",
              "    <path d=\"M0 0h24v24H0V0z\" fill=\"none\"/>\n",
              "    <path d=\"M18.56 5.44l.94 2.06.94-2.06 2.06-.94-2.06-.94-.94-2.06-.94 2.06-2.06.94zm-11 1L8.5 8.5l.94-2.06 2.06-.94-2.06-.94L8.5 2.5l-.94 2.06-2.06.94zm10 10l.94 2.06.94-2.06 2.06-.94-2.06-.94-.94-2.06-.94 2.06-2.06.94z\"/><path d=\"M17.41 7.96l-1.37-1.37c-.4-.4-.92-.59-1.43-.59-.52 0-1.04.2-1.43.59L10.3 9.45l-7.72 7.72c-.78.78-.78 2.05 0 2.83L4 21.41c.39.39.9.59 1.41.59.51 0 1.02-.2 1.41-.59l7.78-7.78 2.81-2.81c.8-.78.8-2.07 0-2.86zM5.41 20L4 18.59l7.72-7.72 1.47 1.35L5.41 20z\"/>\n",
              "  </svg>\n",
              "      </button>\n",
              "      \n",
              "  <style>\n",
              "    .colab-df-container {\n",
              "      display:flex;\n",
              "      flex-wrap:wrap;\n",
              "      gap: 12px;\n",
              "    }\n",
              "\n",
              "    .colab-df-convert {\n",
              "      background-color: #E8F0FE;\n",
              "      border: none;\n",
              "      border-radius: 50%;\n",
              "      cursor: pointer;\n",
              "      display: none;\n",
              "      fill: #1967D2;\n",
              "      height: 32px;\n",
              "      padding: 0 0 0 0;\n",
              "      width: 32px;\n",
              "    }\n",
              "\n",
              "    .colab-df-convert:hover {\n",
              "      background-color: #E2EBFA;\n",
              "      box-shadow: 0px 1px 2px rgba(60, 64, 67, 0.3), 0px 1px 3px 1px rgba(60, 64, 67, 0.15);\n",
              "      fill: #174EA6;\n",
              "    }\n",
              "\n",
              "    [theme=dark] .colab-df-convert {\n",
              "      background-color: #3B4455;\n",
              "      fill: #D2E3FC;\n",
              "    }\n",
              "\n",
              "    [theme=dark] .colab-df-convert:hover {\n",
              "      background-color: #434B5C;\n",
              "      box-shadow: 0px 1px 3px 1px rgba(0, 0, 0, 0.15);\n",
              "      filter: drop-shadow(0px 1px 2px rgba(0, 0, 0, 0.3));\n",
              "      fill: #FFFFFF;\n",
              "    }\n",
              "  </style>\n",
              "\n",
              "      <script>\n",
              "        const buttonEl =\n",
              "          document.querySelector('#df-db0fe173-7538-4764-aee4-02f6ef5f25c5 button.colab-df-convert');\n",
              "        buttonEl.style.display =\n",
              "          google.colab.kernel.accessAllowed ? 'block' : 'none';\n",
              "\n",
              "        async function convertToInteractive(key) {\n",
              "          const element = document.querySelector('#df-db0fe173-7538-4764-aee4-02f6ef5f25c5');\n",
              "          const dataTable =\n",
              "            await google.colab.kernel.invokeFunction('convertToInteractive',\n",
              "                                                     [key], {});\n",
              "          if (!dataTable) return;\n",
              "\n",
              "          const docLinkHtml = 'Like what you see? Visit the ' +\n",
              "            '<a target=\"_blank\" href=https://colab.research.google.com/notebooks/data_table.ipynb>data table notebook</a>'\n",
              "            + ' to learn more about interactive tables.';\n",
              "          element.innerHTML = '';\n",
              "          dataTable['output_type'] = 'display_data';\n",
              "          await google.colab.output.renderOutput(dataTable, element);\n",
              "          const docLink = document.createElement('div');\n",
              "          docLink.innerHTML = docLinkHtml;\n",
              "          element.appendChild(docLink);\n",
              "        }\n",
              "      </script>\n",
              "    </div>\n",
              "  </div>\n",
              "  "
            ]
          },
          "metadata": {},
          "execution_count": 4
        }
      ],
      "source": [
        "female =  data['Gender']==0\n",
        "females = data[female]\n",
        "females = females.drop('Gender', axis=1)\n",
        "females.head()"
      ]
    },
    {
      "cell_type": "markdown",
      "metadata": {
        "id": "hdYiFDZl_nxf"
      },
      "source": [
        "Convert the data table into another format, into a so-called $\\verb|numpy|$ arrays. Recall that we imported the corresponding libarary: $\\verb|import numpy as np|$."
      ]
    },
    {
      "cell_type": "code",
      "execution_count": 5,
      "metadata": {
        "id": "ZKQ0Td4x_nxf"
      },
      "outputs": [],
      "source": [
        "#Heights ad weights for males\n",
        "H_m = males.iloc[:, 0].values.reshape(-1, 1)  # values converts it into a numpy array\n",
        "W_m = males.iloc[:, 1].values.reshape(-1, 1)  # -1 means that calculate the dimension of rows, but have 1 column\n",
        "\n",
        "#Heights ad weights for females\n",
        "H_f = females.iloc[:, 0].values.reshape(-1, 1)  # values converts it into a numpy array\n",
        "W_f = females.iloc[:, 1].values.reshape(-1, 1)  # -1 means that calculate the dimension of rows, but have 1 column"
      ]
    },
    {
      "cell_type": "markdown",
      "source": [
        "Each of the four arrays, the heights and weight of males ($\\verb|H_m|$, $\\verb|W_m|$) and of females ($\\verb|H_f|$, $\\verb|W_f|$) is an array with 5000 entries. We check this:"
      ],
      "metadata": {
        "id": "LvmpuFLRHMkT"
      }
    },
    {
      "cell_type": "code",
      "source": [
        "H_m.shape"
      ],
      "metadata": {
        "colab": {
          "base_uri": "https://localhost:8080/"
        },
        "id": "lZNIT2MaHA4G",
        "outputId": "0cba8bbf-c5c3-43cf-a4a3-ca27270e98c9"
      },
      "execution_count": 6,
      "outputs": [
        {
          "output_type": "execute_result",
          "data": {
            "text/plain": [
              "(5000, 1)"
            ]
          },
          "metadata": {},
          "execution_count": 6
        }
      ]
    },
    {
      "cell_type": "markdown",
      "metadata": {
        "id": "x1_GNBTb_nxg"
      },
      "source": [
        "## Train the Models"
      ]
    },
    {
      "cell_type": "markdown",
      "metadata": {
        "id": "QC8FAvyg_nxg"
      },
      "source": [
        "### Linear Regression Models"
      ]
    },
    {
      "cell_type": "markdown",
      "source": [
        "First we build (train) two regression models to predict the weight of a person from his/her height."
      ],
      "metadata": {
        "id": "8kx-VhMVJT-C"
      }
    },
    {
      "cell_type": "markdown",
      "metadata": {
        "id": "5LgBzBk8_nxg"
      },
      "source": [
        "We define a training function. It merely uses the trainging function $\\verb|fit|$ that is predefined in $\\verb|LinearRegression|$. Note, that we imported the corresponding libarary: $\\verb|from sklearn.linear_model import LinearRegression|$.\n",
        "\n",
        "Optionally, we then plot the trained model, a linear function, and all datapoints. Note, that we imported the plotting libarary for that: $\\verb|import matplotlib.pyplot as plt|$."
      ]
    },
    {
      "cell_type": "code",
      "execution_count": 7,
      "metadata": {
        "id": "hpxs2pn5_nxh"
      },
      "outputs": [],
      "source": [
        "def linear_regression(X, Y, verbose):\n",
        "    lr = LinearRegression()  # create object for the class\n",
        "    lr.fit(X, Y)  # perform linear regression\n",
        "    Y_pred = lr.predict(X)  # make predictions\n",
        "    if verbose:\n",
        "        title = (\"Fit Values: a={:.2f} and b={:.2f}\".format(lr.coef_[0][0], lr.intercept_[0]))\n",
        "        plt.scatter(X, Y)\n",
        "        plt.plot(X, Y_pred, color='red')\n",
        "        plt.title(title)\n",
        "        plt.show()\n",
        "    return lr"
      ]
    },
    {
      "cell_type": "markdown",
      "metadata": {
        "id": "YYWac_ub_nxh"
      },
      "source": [
        "We call the training function for the men to get a linear regression model. It is defined by two parameters ($\\verb|a_m|$, $\\verb|b_m|$) that determine the red line, a visualization of our model. Each dot in the visualization shows one data point of the training with the persons height and weight."
      ]
    },
    {
      "cell_type": "code",
      "execution_count": 8,
      "metadata": {
        "scrolled": true,
        "colab": {
          "base_uri": "https://localhost:8080/",
          "height": 281
        },
        "id": "XC8Jcw4O_nxh",
        "outputId": "f17a9620-a441-4fae-a549-b4c4b5090efc"
      },
      "outputs": [
        {
          "output_type": "display_data",
          "data": {
            "text/plain": [
              "<Figure size 432x288 with 1 Axes>"
            ],
            "image/png": "[encoded data removed]"
          },
          "metadata": {
            "needs_background": "light"
          }
        }
      ],
      "source": [
        "lr = linear_regression(H_m, W_m, True)\n",
        "a_m = lr.coef_[0][0]\n",
        "b_m = lr.intercept_[0]"
      ]
    },
    {
      "cell_type": "markdown",
      "metadata": {
        "id": "y2kzPgAJ_nxh"
      },
      "source": [
        "We call the same training function to build and visualize the prediction model for the women."
      ]
    },
    {
      "cell_type": "code",
      "execution_count": 9,
      "metadata": {
        "scrolled": false,
        "colab": {
          "base_uri": "https://localhost:8080/",
          "height": 281
        },
        "id": "WMaL57dL_nxi",
        "outputId": "39206235-86ec-48e1-9940-a62914958c77"
      },
      "outputs": [
        {
          "output_type": "display_data",
          "data": {
            "text/plain": [
              "<Figure size 432x288 with 1 Axes>"
            ],
            "image/png": "[encoded data removed]"
          },
          "metadata": {
            "needs_background": "light"
          }
        }
      ],
      "source": [
        "lr = linear_regression(H_f, W_f, True)\n",
        "a_f = lr.coef_[0][0]\n",
        "b_f = lr.intercept_[0]"
      ]
    },
    {
      "cell_type": "markdown",
      "metadata": {
        "id": "ztMu3C_m_nxi"
      },
      "source": [
        "We define an additional function for visualizing two (or more) models in one plot and call this function on the trained models."
      ]
    },
    {
      "cell_type": "code",
      "execution_count": 10,
      "metadata": {
        "id": "KUoMERVp_nxi"
      },
      "outputs": [],
      "source": [
        "def plot_lines(X, aa, bb, cc):\n",
        "    for i in range(0,len(aa)):\n",
        "        Y = aa[i]*X+bb[i]\n",
        "        plt.plot(X, Y, cc[i])\n",
        "    plt.show()"
      ]
    },
    {
      "cell_type": "code",
      "execution_count": 11,
      "metadata": {
        "scrolled": true,
        "colab": {
          "base_uri": "https://localhost:8080/",
          "height": 265
        },
        "id": "S6W7P5WL_nxi",
        "outputId": "1f806d43-eb5b-4563-da6c-19875c4875fe"
      },
      "outputs": [
        {
          "output_type": "display_data",
          "data": {
            "text/plain": [
              "<Figure size 432x288 with 1 Axes>"
            ],
            "image/png": "[encoded data removed]"
          },
          "metadata": {
            "needs_background": "light"
          }
        }
      ],
      "source": [
        "X = np.arange(150, 190, 1)\n",
        "plot_lines(X, [a_m, a_f], [b_m,b_f], ['b', 'r'])"
      ]
    },
    {
      "cell_type": "markdown",
      "metadata": {
        "id": "pIroZE1j_nxj"
      },
      "source": [
        "<font color='red'>Tasks 1:</font> \n",
        "1. In the regression models, what are the predictor and what are the response variables?\n",
        "2. Specify the trained regression models mapping height to weight for men and woman, resp, by giving their parameters and parameter values.\n",
        "3. What is your interpretation of the two models when looking at the plots?\n",
        "4. Was this supervised, unsupervised, or reinforcement lerning and why?"
      ]
    },
    {
      "cell_type": "markdown",
      "source": [
        "<font color='blue'>Answers 1:</font> \n",
        "1. Your answer ...\n",
        "2. Your answer ...\n",
        "3. Your answer ...\n",
        "4. Your answer ...\n"
      ],
      "metadata": {
        "id": "SrFPup6TKVzO"
      }
    },
    {
      "cell_type": "markdown",
      "metadata": {
        "id": "p9ra2mk7_nxj"
      },
      "source": [
        "### Classification Models"
      ]
    },
    {
      "cell_type": "markdown",
      "source": [
        "Second we build (train) two classification models to classify the geder from weight and height of a person, resp."
      ],
      "metadata": {
        "id": "nqZzrk0fMEAw"
      }
    },
    {
      "cell_type": "markdown",
      "metadata": {
        "id": "qKHsqkBy_nxj"
      },
      "source": [
        "Again, we define a training function. It merely uses the trainging function $\\verb|fit|$ that is predefined in the $\\verb|norm|$ library. Note, that we imported the corresponding libarary: $\\verb|from scipy.stats import norm|$.\n",
        "\n",
        "Optionally, we then plot the trained model, a fitted normal distribution given by $\\mu$ and $\\sigma$ together with a histogram of all datapoints using again the plotting libarary."
      ]
    },
    {
      "cell_type": "code",
      "execution_count": 12,
      "metadata": {
        "id": "aW1tKhDK_nxj"
      },
      "outputs": [],
      "source": [
        "def fit_normal(X, verbose):\n",
        "    mu, std = norm.fit(X)\n",
        "    if verbose:\n",
        "        # Plot the histogram.\n",
        "        plt.hist(X, bins=25, density=True, alpha=0.6, color='b')\n",
        "        # Plot the PDF.\n",
        "        xmin, xmax = plt.xlim()\n",
        "        x = np.linspace(xmin, xmax, 100)\n",
        "        p = norm.pdf(x, mu, std)\n",
        "        plt.plot(x, p, linewidth=2, color='red')\n",
        "        title = \"Fit Values: mu {:.2f} and sigma {:.2f}\".format(mu, std)\n",
        "        plt.title(title)\n",
        "        plt.show()\n",
        "    return mu, std"
      ]
    },
    {
      "cell_type": "markdown",
      "metadata": {
        "id": "M-AJDeu-_nxj"
      },
      "source": [
        "We call the training function four times to get the model parameters for the males' hights and weights, resp., ..."
      ]
    },
    {
      "cell_type": "code",
      "execution_count": 13,
      "metadata": {
        "scrolled": false,
        "colab": {
          "base_uri": "https://localhost:8080/",
          "height": 545
        },
        "id": "3s7W_S4P_nxk",
        "outputId": "4b073551-92c9-4e79-967e-b8e0242185dc"
      },
      "outputs": [
        {
          "output_type": "display_data",
          "data": {
            "text/plain": [
              "<Figure size 432x288 with 1 Axes>"
            ],
            "image/png": "[encoded data removed]"
          },
          "metadata": {
            "needs_background": "light"
          }
        },
        {
          "output_type": "display_data",
          "data": {
            "text/plain": [
              "<Figure size 432x288 with 1 Axes>"
            ],
            "image/png": "[encoded data removed]"
          },
          "metadata": {
            "needs_background": "light"
          }
        }
      ],
      "source": [
        "mu_H_m, sigma_H_m = fit_normal(H_m, True)\n",
        "mu_W_m, sigma_W_m = fit_normal(W_m, True)"
      ]
    },
    {
      "cell_type": "markdown",
      "metadata": {
        "id": "6rOgArR1_nxk"
      },
      "source": [
        "... and for the hights and weights of the females."
      ]
    },
    {
      "cell_type": "code",
      "execution_count": 14,
      "metadata": {
        "scrolled": false,
        "colab": {
          "base_uri": "https://localhost:8080/",
          "height": 545
        },
        "id": "RucVnqIB_nxk",
        "outputId": "6fbcfba4-7401-4797-c099-448f4124b305"
      },
      "outputs": [
        {
          "output_type": "display_data",
          "data": {
            "text/plain": [
              "<Figure size 432x288 with 1 Axes>"
            ],
            "image/png": "[encoded data removed]"
          },
          "metadata": {
            "needs_background": "light"
          }
        },
        {
          "output_type": "display_data",
          "data": {
            "text/plain": [
              "<Figure size 432x288 with 1 Axes>"
            ],
            "image/png": "[encoded data removed]"
          },
          "metadata": {
            "needs_background": "light"
          }
        }
      ],
      "source": [
        "mu_H_f, sigma_H_f = fit_normal(H_f, True)\n",
        "mu_W_f, sigma_W_f = fit_normal(W_f, True)"
      ]
    },
    {
      "cell_type": "markdown",
      "metadata": {
        "id": "4r5UfH0p_nxk"
      },
      "source": [
        "We define an additional function for plotting the classification models, i.e.,  two distributions of males and females. It can be called for both the height and for the weight distributions."
      ]
    },
    {
      "cell_type": "code",
      "execution_count": 15,
      "metadata": {
        "id": "b_kj34Wf_nxk"
      },
      "outputs": [],
      "source": [
        "def plot_norm(mus, sigmas, cc):\n",
        "    low = mus[0]-4*sigmas[0]\n",
        "    high = mus[0]+4*sigmas[0]\n",
        "    for i in range(1,len(mus)):\n",
        "        low = min(low, mus[i]-4*sigmas[i])\n",
        "        high = max(high, mus[i]+4*sigmas[i])\n",
        "    x_axis = np.arange(low, high, 0.1)\n",
        "    for i in range(0,len(mus)):\n",
        "        plt.plot(x_axis, norm.pdf(x_axis, mus[i], sigmas[i]), cc[i])\n",
        "    plt.show()"
      ]
    },
    {
      "cell_type": "markdown",
      "metadata": {
        "id": "9xFw2lZ7_nxk"
      },
      "source": [
        "We call it for plotting the weight distributions ..."
      ]
    },
    {
      "cell_type": "code",
      "execution_count": 16,
      "metadata": {
        "scrolled": true,
        "colab": {
          "base_uri": "https://localhost:8080/",
          "height": 265
        },
        "id": "NqGDWPf6_nxl",
        "outputId": "182bc868-ff63-4c01-8b3e-944511bd479e"
      },
      "outputs": [
        {
          "output_type": "display_data",
          "data": {
            "text/plain": [
              "<Figure size 432x288 with 1 Axes>"
            ],
            "image/png": "[encoded data removed]"
          },
          "metadata": {
            "needs_background": "light"
          }
        }
      ],
      "source": [
        "plot_norm([mu_W_m,mu_W_f],[sigma_W_m,sigma_W_f], ['b','r'])"
      ]
    },
    {
      "cell_type": "markdown",
      "metadata": {
        "id": "0itxnVhO_nxl"
      },
      "source": [
        "... and the height distributions."
      ]
    },
    {
      "cell_type": "code",
      "execution_count": 17,
      "metadata": {
        "scrolled": true,
        "colab": {
          "base_uri": "https://localhost:8080/",
          "height": 265
        },
        "id": "_AXmZBVJ_nxl",
        "outputId": "1726a3ca-7ef5-4838-db33-e30b282604a0"
      },
      "outputs": [
        {
          "output_type": "display_data",
          "data": {
            "text/plain": [
              "<Figure size 432x288 with 1 Axes>"
            ],
            "image/png": "[encoded data removed]"
          },
          "metadata": {
            "needs_background": "light"
          }
        }
      ],
      "source": [
        "plot_norm([mu_H_m,mu_H_f],[sigma_H_m,sigma_H_f], ['b','r'])"
      ]
    },
    {
      "cell_type": "markdown",
      "source": [
        "As there are differences for women and men, we can use the variables weight and height for classifying the gender of a person. This leads to a (bivariate Naive Bayesian) classification model."
      ],
      "metadata": {
        "id": "IiqY8jF_n-ms"
      }
    },
    {
      "cell_type": "markdown",
      "metadata": {
        "id": "WcjpUo3i_nxl"
      },
      "source": [
        "<font color='red'>Tasks 2:</font> \n",
        "1. We defined two classification models, what are their predictors and responses, respectively?\n",
        "2. Specify the two trained classification models by giving their parameters and parameter values, resp.\n",
        "3. What is your interpretation of the two models when looking at the plots?\n",
        "4. What are implicit assumptions on the collected data making the models valid?"
      ]
    },
    {
      "cell_type": "markdown",
      "source": [
        "<font color='blue'>Answers 2:</font> \n",
        "1. Your answer ...\n",
        "2. Your answer ...\n",
        "3. Your answer ...\n",
        "4. Your answer ...\n"
      ],
      "metadata": {
        "id": "aVbTnw96PA6F"
      }
    },
    {
      "cell_type": "markdown",
      "metadata": {
        "id": "E_xAd05H_nxl"
      },
      "source": [
        "## Evaluate and Use the Models"
      ]
    },
    {
      "cell_type": "markdown",
      "metadata": {
        "id": "9HK4ldd5_nxl"
      },
      "source": [
        "### Use Linear Regression for Prediction"
      ]
    },
    {
      "cell_type": "markdown",
      "metadata": {
        "id": "knRkpQQk_nxm"
      },
      "source": [
        "We use the regression models to predict the weight based on height and gender. Therefore, we apply the male or female model on the actual persons height."
      ]
    },
    {
      "cell_type": "code",
      "execution_count": 18,
      "metadata": {
        "colab": {
          "base_uri": "https://localhost:8080/"
        },
        "id": "ZLSynX8h_nxm",
        "outputId": "7ad2b512-48f0-4205-bf87-8d6efcb7d2a9"
      },
      "outputs": [
        {
          "output_type": "execute_result",
          "data": {
            "text/plain": [
              "-9.159749477266047"
            ]
          },
          "metadata": {},
          "execution_count": 18
        }
      ],
      "source": [
        "def predict_weight(male, height):\n",
        "    if male:\n",
        "        return a_m*height + b_m\n",
        "    else:\n",
        "        return a_f*height + b_f\n",
        "\n",
        "welfs_act_weight = 70 #in kg\n",
        "welfs_act_height = 170 #in cm\n",
        "welfs_predicted_weight = predict_weight(male=True, height=welfs_act_height) #result in kg\n",
        "welfs_err = welfs_act_weight-welfs_predicted_weight #in kg\n",
        "welfs_err "
      ]
    },
    {
      "cell_type": "markdown",
      "source": [
        "You could add a new code box right after the one you displayed. In there, you could define new variables, e.g., $\\verb|my_actual_weight|$, $\\verb|my_actual_height|$ and set the actual values in kg and cm, resp. Then you could call the $\\verb|predict_weight|$ function that *uses* the trained model. If you are a woman, you would set $\\verb|male=False|$; set the height to $\\verb|my_actual_height|$. Then you could print the predicted weight and the error, i.e., the difference between the actual and the predicted weights. See the code box below. Don’t forget to run the code by pushing the “play” button (white triangle in black circle) on every code box in the document from top to this one."
      ],
      "metadata": {
        "id": "IPM147xAJUJg"
      }
    },
    {
      "cell_type": "code",
      "source": [
        "my_act_weight = 70 #in kg\n",
        "my_act_height = 170 #in cm\n",
        "my_predicted_weight = predict_weight(male=False, height=my_act_height) #result in kg\n",
        "print(my_predicted_weight)\n",
        "my_prediction_err = my_act_weight-my_predicted_weight #in kg\n",
        "print(my_prediction_err) "
      ],
      "metadata": {
        "id": "6Rq3FIlCFkIf",
        "outputId": "563b4ce5-47e5-4139-a4e4-53106f9a5e2f",
        "colab": {
          "base_uri": "https://localhost:8080/"
        }
      },
      "execution_count": 19,
      "outputs": [
        {
          "output_type": "stream",
          "name": "stdout",
          "text": [
            "70.38073291330946\n",
            "-0.38073291330945835\n"
          ]
        }
      ]
    },
    {
      "cell_type": "markdown",
      "metadata": {
        "id": "U1ZsGnuX_nxm"
      },
      "source": [
        "### Use the Classification Models for (Naive Bayesian) Classification"
      ]
    },
    {
      "cell_type": "markdown",
      "metadata": {
        "id": "wDxLgTq1_nxm"
      },
      "source": [
        "We use the trained classification models for classifying whether a person is likely to be (fe-)male based on weight and height. Under Naive Bayesian assumption, we multiply the probabilities of of a weight and height to occur in the male and female distributions. The higher joint probability determines the suggested gender. "
      ]
    },
    {
      "cell_type": "code",
      "execution_count": 20,
      "metadata": {
        "id": "HO4R4pW-_nxm"
      },
      "outputs": [],
      "source": [
        "def male_female(act_weight,act_height): \n",
        "    p_male = norm.pdf(act_weight, mu_W_m, sigma_W_m)*norm.pdf(act_height, mu_H_m, sigma_H_m)\n",
        "    p_female = norm.pdf(act_weight, mu_W_f, sigma_W_f)*norm.pdf(act_height, mu_H_f, sigma_H_f)\n",
        "    if p_male > p_female:\n",
        "        return 1\n",
        "    else:\n",
        "        return 0    "
      ]
    },
    {
      "cell_type": "code",
      "execution_count": 21,
      "metadata": {
        "scrolled": false,
        "colab": {
          "base_uri": "https://localhost:8080/"
        },
        "id": "xvr2y9hE_nxm",
        "outputId": "4bd396fd-1c1b-4eba-ea71-51538e304418"
      },
      "outputs": [
        {
          "output_type": "stream",
          "name": "stdout",
          "text": [
            "Female\n"
          ]
        }
      ],
      "source": [
        "if male_female(welfs_act_weight, welfs_act_height):\n",
        "    print(\"Male\")\n",
        "else:\n",
        "    print(\"Female\")    "
      ]
    },
    {
      "cell_type": "markdown",
      "metadata": {
        "id": "kmrWribU_nxn"
      },
      "source": [
        ":)"
      ]
    },
    {
      "cell_type": "markdown",
      "metadata": {
        "id": "-rgY5GWo_nxn"
      },
      "source": [
        "Classify all datapoints."
      ]
    },
    {
      "cell_type": "code",
      "execution_count": 22,
      "metadata": {
        "scrolled": false,
        "colab": {
          "base_uri": "https://localhost:8080/",
          "height": 363
        },
        "id": "IiI3Ce0F_nxn",
        "outputId": "a9ce9e8b-977e-4071-f6c2-91be1847a742"
      },
      "outputs": [
        {
          "output_type": "execute_result",
          "data": {
            "text/plain": [
              "   True Gender  Pred Gender\n",
              "0            1            1\n",
              "1            1            1\n",
              "2            1            1\n",
              "3            1            1\n",
              "4            1            1\n",
              "5            1            0\n",
              "6            1            1\n",
              "7            1            1\n",
              "8            1            1\n",
              "9            1            0"
            ],
            "text/html": [
              "\n",
              "  <div id=\"df-903f8e60-9976-47b2-a356-52043f17d570\">\n",
              "    <div class=\"colab-df-container\">\n",
              "      <div>\n",
              "<style scoped>\n",
              "    .dataframe tbody tr th:only-of-type {\n",
              "        vertical-align: middle;\n",
              "    }\n",
              "\n",
              "    .dataframe tbody tr th {\n",
              "        vertical-align: top;\n",
              "    }\n",
              "\n",
              "    .dataframe thead th {\n",
              "        text-align: right;\n",
              "    }\n",
              "</style>\n",
              "<table border=\"1\" class=\"dataframe\">\n",
              "  <thead>\n",
              "    <tr style=\"text-align: right;\">\n",
              "      <th></th>\n",
              "      <th>True Gender</th>\n",
              "      <th>Pred Gender</th>\n",
              "    </tr>\n",
              "  </thead>\n",
              "  <tbody>\n",
              "    <tr>\n",
              "      <th>0</th>\n",
              "      <td>1</td>\n",
              "      <td>1</td>\n",
              "    </tr>\n",
              "    <tr>\n",
              "      <th>1</th>\n",
              "      <td>1</td>\n",
              "      <td>1</td>\n",
              "    </tr>\n",
              "    <tr>\n",
              "      <th>2</th>\n",
              "      <td>1</td>\n",
              "      <td>1</td>\n",
              "    </tr>\n",
              "    <tr>\n",
              "      <th>3</th>\n",
              "      <td>1</td>\n",
              "      <td>1</td>\n",
              "    </tr>\n",
              "    <tr>\n",
              "      <th>4</th>\n",
              "      <td>1</td>\n",
              "      <td>1</td>\n",
              "    </tr>\n",
              "    <tr>\n",
              "      <th>5</th>\n",
              "      <td>1</td>\n",
              "      <td>0</td>\n",
              "    </tr>\n",
              "    <tr>\n",
              "      <th>6</th>\n",
              "      <td>1</td>\n",
              "      <td>1</td>\n",
              "    </tr>\n",
              "    <tr>\n",
              "      <th>7</th>\n",
              "      <td>1</td>\n",
              "      <td>1</td>\n",
              "    </tr>\n",
              "    <tr>\n",
              "      <th>8</th>\n",
              "      <td>1</td>\n",
              "      <td>1</td>\n",
              "    </tr>\n",
              "    <tr>\n",
              "      <th>9</th>\n",
              "      <td>1</td>\n",
              "      <td>0</td>\n",
              "    </tr>\n",
              "  </tbody>\n",
              "</table>\n",
              "</div>\n",
              "      <button class=\"colab-df-convert\" onclick=\"convertToInteractive('df-903f8e60-9976-47b2-a356-52043f17d570')\"\n",
              "              title=\"Convert this dataframe to an interactive table.\"\n",
              "              style=\"display:none;\">\n",
              "        \n",
              "  <svg xmlns=\"http://www.w3.org/2000/svg\" height=\"24px\"viewBox=\"0 0 24 24\"\n",
              "       width=\"24px\">\n",
              "    <path d=\"M0 0h24v24H0V0z\" fill=\"none\"/>\n",
              "    <path d=\"M18.56 5.44l.94 2.06.94-2.06 2.06-.94-2.06-.94-.94-2.06-.94 2.06-2.06.94zm-11 1L8.5 8.5l.94-2.06 2.06-.94-2.06-.94L8.5 2.5l-.94 2.06-2.06.94zm10 10l.94 2.06.94-2.06 2.06-.94-2.06-.94-.94-2.06-.94 2.06-2.06.94z\"/><path d=\"M17.41 7.96l-1.37-1.37c-.4-.4-.92-.59-1.43-.59-.52 0-1.04.2-1.43.59L10.3 9.45l-7.72 7.72c-.78.78-.78 2.05 0 2.83L4 21.41c.39.39.9.59 1.41.59.51 0 1.02-.2 1.41-.59l7.78-7.78 2.81-2.81c.8-.78.8-2.07 0-2.86zM5.41 20L4 18.59l7.72-7.72 1.47 1.35L5.41 20z\"/>\n",
              "  </svg>\n",
              "      </button>\n",
              "      \n",
              "  <style>\n",
              "    .colab-df-container {\n",
              "      display:flex;\n",
              "      flex-wrap:wrap;\n",
              "      gap: 12px;\n",
              "    }\n",
              "\n",
              "    .colab-df-convert {\n",
              "      background-color: #E8F0FE;\n",
              "      border: none;\n",
              "      border-radius: 50%;\n",
              "      cursor: pointer;\n",
              "      display: none;\n",
              "      fill: #1967D2;\n",
              "      height: 32px;\n",
              "      padding: 0 0 0 0;\n",
              "      width: 32px;\n",
              "    }\n",
              "\n",
              "    .colab-df-convert:hover {\n",
              "      background-color: #E2EBFA;\n",
              "      box-shadow: 0px 1px 2px rgba(60, 64, 67, 0.3), 0px 1px 3px 1px rgba(60, 64, 67, 0.15);\n",
              "      fill: #174EA6;\n",
              "    }\n",
              "\n",
              "    [theme=dark] .colab-df-convert {\n",
              "      background-color: #3B4455;\n",
              "      fill: #D2E3FC;\n",
              "    }\n",
              "\n",
              "    [theme=dark] .colab-df-convert:hover {\n",
              "      background-color: #434B5C;\n",
              "      box-shadow: 0px 1px 3px 1px rgba(0, 0, 0, 0.15);\n",
              "      filter: drop-shadow(0px 1px 2px rgba(0, 0, 0, 0.3));\n",
              "      fill: #FFFFFF;\n",
              "    }\n",
              "  </style>\n",
              "\n",
              "      <script>\n",
              "        const buttonEl =\n",
              "          document.querySelector('#df-903f8e60-9976-47b2-a356-52043f17d570 button.colab-df-convert');\n",
              "        buttonEl.style.display =\n",
              "          google.colab.kernel.accessAllowed ? 'block' : 'none';\n",
              "\n",
              "        async function convertToInteractive(key) {\n",
              "          const element = document.querySelector('#df-903f8e60-9976-47b2-a356-52043f17d570');\n",
              "          const dataTable =\n",
              "            await google.colab.kernel.invokeFunction('convertToInteractive',\n",
              "                                                     [key], {});\n",
              "          if (!dataTable) return;\n",
              "\n",
              "          const docLinkHtml = 'Like what you see? Visit the ' +\n",
              "            '<a target=\"_blank\" href=https://colab.research.google.com/notebooks/data_table.ipynb>data table notebook</a>'\n",
              "            + ' to learn more about interactive tables.';\n",
              "          element.innerHTML = '';\n",
              "          dataTable['output_type'] = 'display_data';\n",
              "          await google.colab.output.renderOutput(dataTable, element);\n",
              "          const docLink = document.createElement('div');\n",
              "          docLink.innerHTML = docLinkHtml;\n",
              "          element.appendChild(docLink);\n",
              "        }\n",
              "      </script>\n",
              "    </div>\n",
              "  </div>\n",
              "  "
            ]
          },
          "metadata": {},
          "execution_count": 22
        }
      ],
      "source": [
        "df_test = pd.DataFrame()\n",
        "df_test['True Gender'] = data['Gender']\n",
        "df_test['Pred Gender'] = data.apply(lambda x: male_female(x['Weight'] , x['Height']), axis=1)\n",
        "df_test.head(10)"
      ]
    },
    {
      "cell_type": "markdown",
      "metadata": {
        "id": "iSpdMvJc_nxn"
      },
      "source": [
        "Show confusion matrix."
      ]
    },
    {
      "cell_type": "code",
      "execution_count": 23,
      "metadata": {
        "colab": {
          "base_uri": "https://localhost:8080/",
          "height": 265
        },
        "id": "SzjWgEwm_nxn",
        "outputId": "a63b3f06-4230-4b78-cd27-ce6f61d3d91b"
      },
      "outputs": [
        {
          "output_type": "display_data",
          "data": {
            "text/plain": [
              "<Figure size 432x288 with 2 Axes>"
            ],
            "image/png": "[encoded data removed]"
          },
          "metadata": {
            "needs_background": "light"
          }
        }
      ],
      "source": [
        "cf_matrix = confusion_matrix(df_test.iloc[:, 0].values.reshape(-1, 1) , df_test.iloc[:, 1].values.reshape(-1, 1)) \n",
        "df_cm = pd.DataFrame(cf_matrix, range(2), range(2))\n",
        "sn.heatmap(df_cm, annot=True)\n",
        "plt.show()"
      ]
    },
    {
      "cell_type": "markdown",
      "source": [
        "<font color='red'>Tasks 3:</font> \n",
        "\n",
        "1. What is the problem with training and validating the model using the same datapoints?\n",
        "2. How could we mitigate this problem?\n"
      ],
      "metadata": {
        "id": "cIxNm_Vxrh5S"
      }
    },
    {
      "cell_type": "markdown",
      "source": [
        "<font color='blue'>Answers 3:</font> \n",
        "1. Your answer ...\n",
        "2. Your answer ..."
      ],
      "metadata": {
        "id": "vD9GzSicscSP"
      }
    },
    {
      "cell_type": "markdown",
      "metadata": {
        "id": "qztGwDdX_nxn"
      },
      "source": [
        "### Use the univariate Classification Models for Anomaly Detection"
      ]
    },
    {
      "cell_type": "markdown",
      "metadata": {
        "id": "BAWiKkXQ_nxo"
      },
      "source": [
        "Use the trained classification models to check whether (s)he is over- or underweighted. We check how likely it is to find another person of the same gender with a equal or lower weight (in percent). "
      ]
    },
    {
      "cell_type": "markdown",
      "source": [
        "This is unsuperwised learning as we do not have used any ground truth on what should be considered over- or underweight."
      ],
      "metadata": {
        "id": "rDPf_j4btkdh"
      }
    },
    {
      "cell_type": "code",
      "execution_count": 24,
      "metadata": {
        "colab": {
          "base_uri": "https://localhost:8080/"
        },
        "id": "Xc_qXuAq_nxo",
        "outputId": "bda6b2f4-e6c8-4d38-969d-5481ef5ca058"
      },
      "outputs": [
        {
          "output_type": "execute_result",
          "data": {
            "text/plain": [
              "4.915548866297606"
            ]
          },
          "metadata": {},
          "execution_count": 24
        }
      ],
      "source": [
        "def percentile_weight(male, x):\n",
        "    if male:\n",
        "        return norm.cdf(x, mu_W_m, sigma_W_m)\n",
        "    else:\n",
        "        return norm.cdf(x, mu_W_f, sigma_W_f)\n",
        "\n",
        "welfs_percentile_weight = percentile_weight(True,welfs_act_weight)*100\n",
        "welfs_percentile_weight"
      ]
    },
    {
      "cell_type": "markdown",
      "source": [
        "The probability of male weighting less than Welf is estimated to be ca 5%. Unlikely that he is overweight. "
      ],
      "metadata": {
        "id": "bykv9rnis6Gm"
      }
    },
    {
      "cell_type": "markdown",
      "metadata": {
        "id": "SFM5cc3s_nxo"
      },
      "source": [
        "<font color='red'>Tasks 4:</font> \n",
        "\n",
        "Pick your own (or a fictive person's) gender, weight, and height. Then\n",
        "1. Use the regression models to predict the person's weight based on his/her height and gender.\n",
        "2. Use the classification models for classifying whether the person is likely to be (fe-)male based on weight and height.\n",
        "3. Use the classification models to check whether (s)he is over- or underweight. Explain why this is a very naive (error prone) approach. "
      ]
    },
    {
      "cell_type": "markdown",
      "source": [
        "<font color='blue'>Answers 4:</font> \n",
        "1. Your answer ...\n",
        "2. Your answer ...\n",
        "3. Your answer ...\n"
      ],
      "metadata": {
        "id": "vbW0WSUFsewe"
      }
    },
    {
      "cell_type": "markdown",
      "source": [
        "### Advanced: Use a bi-variate Classification Model for Anomaly Detection"
      ],
      "metadata": {
        "id": "7juhm5wuuFZz"
      }
    },
    {
      "cell_type": "markdown",
      "source": [
        "This above approach is maybe too naive to be reasonably considered. "
      ],
      "metadata": {
        "id": "2i1KgVEOtNFh"
      }
    },
    {
      "cell_type": "markdown",
      "source": [
        "However, under the Naive Bayesian assumption that height and weight are independent of each other, we have already learnd two bi-variate joint Normal distributions (two models, one for men and one for women) that can be described by the respective weight and height means and standard deviations.\n",
        "\n",
        "We recall that the variance of such a distribution is its squared standard deviation and the the co-variance of two independent distributions is zero.\n",
        "\n",
        "This allows us to plot (a sample of) the learned joint distributions."
      ],
      "metadata": {
        "id": "dW0ObtUXyl_o"
      }
    },
    {
      "cell_type": "code",
      "source": [
        "mu_m = [mu_H_m, mu_W_m]\n",
        "cov_m = np.array([[sigma_H_m**2, 0], [0, sigma_W_m**2]])\n",
        "pts_m = np.random.multivariate_normal(mu_m, cov_m, size=500)\n",
        "\n",
        "mu_f = [mu_H_f, mu_W_f]\n",
        "cov_f = np.array([[sigma_H_f**2, 0], [0, sigma_W_f**2]])\n",
        "pts_f = np.random.multivariate_normal(mu_f, cov_m, size=500)"
      ],
      "metadata": {
        "id": "L8XtAg_ttHdJ"
      },
      "execution_count": 25,
      "outputs": []
    },
    {
      "cell_type": "code",
      "source": [
        "def plot_bivariate(all_pts, person):\n",
        "  pts = all_pts[0]\n",
        "  plt.plot(pts[:, 0], pts[:, 1], '.', alpha=0.3, color ='b')\n",
        "  pts = all_pts[1]\n",
        "  plt.plot(pts[:, 0], pts[:, 1], '.', alpha=0.3, color ='r')\n",
        "  plt.plot(person[0], person[1], '+', color ='k')\n",
        "  plt.axis('equal')\n",
        "  plt.grid()\n",
        "  plt.show()"
      ],
      "metadata": {
        "id": "bII5SV3jvRyr"
      },
      "execution_count": 26,
      "outputs": []
    },
    {
      "cell_type": "code",
      "source": [
        "welf = [welfs_act_height, welfs_act_weight]\n",
        "plot_bivariate([pts_m, pts_f], welf)"
      ],
      "metadata": {
        "colab": {
          "base_uri": "https://localhost:8080/",
          "height": 265
        },
        "id": "DAx1qHX4vjkQ",
        "outputId": "9dd499d0-ebee-45a6-8ad5-7834826b0194"
      },
      "execution_count": 27,
      "outputs": [
        {
          "output_type": "display_data",
          "data": {
            "text/plain": [
              "<Figure size 432x288 with 1 Axes>"
            ],
            "image/png": "[encoded data removed]"
          },
          "metadata": {
            "needs_background": "light"
          }
        }
      ]
    },
    {
      "cell_type": "markdown",
      "source": [
        "The black cross marks a concrete person's weight and height."
      ],
      "metadata": {
        "id": "tOLjr3KsRniX"
      }
    },
    {
      "cell_type": "markdown",
      "source": [
        "From the joint distribution of the right gender, we can derive the so-called conditional distributions, given a concrte height of a person. These conditional distributions are univariat Normal distributions, if the joint distribution was a multivariate Normal distribution. \n",
        "\n",
        "For instance, given Welf's height of $170$ cm, we can derive a distribution of weights of men with the same height. Recall that such a Normal distribution is uniquly defined my its mean $\\mu_{w|h=h_0}$ and standard deviation $\\sigma_{w|h=h_0}$, with $h_0$ the hight condition, e.g., $170$ cm. \n",
        "\n",
        "For our bi-variate Normal distributions it is \n",
        "\n",
        "$\\mu_{w|h=h_0} = \\mu_w + \\frac{\\mathit{cov}_{h,w} (h_0-\\mu_h)}{\\sigma_h^2}$\n",
        "\n",
        "$\\sigma_{w|h=h_0}=  \\sqrt{\\sigma_w^2 - \\frac{\\mathit{cov}_{h,w}^2}{\\sigma_h^2}}$\n",
        "\n",
        "with $\\mathit{cov}_{h,w}$ the covariance of height and weight, and ${\\sigma_h^2},{\\sigma_w^2}$ the variances of height and weight, resp.\n",
        "\n",
        "In the special case of independent marginal distributions, we have $\\mathit{cov}_{w,h}=0$ and, hence, $\\mu_{w|h=h_0}= \\mu_w$ and $\\sigma_{w|h=h_0}= \\sigma_w$, i.e., the conditional distributions are exactly the marginal distributions."
      ],
      "metadata": {
        "id": "G5tfjAHRRzE9"
      }
    },
    {
      "cell_type": "markdown",
      "source": [
        "Code for drawing joint and conditional dristributions adopted from [here](https://peterroelants.github.io/posts/multivariate-normal-primer/)."
      ],
      "metadata": {
        "id": "8s8azfwm8STc"
      }
    },
    {
      "cell_type": "code",
      "source": [
        "import matplotlib.gridspec as gridspec\n",
        "from mpl_toolkits.axes_grid1 import make_axes_locatable\n",
        "\n",
        "np.random.seed(42)\n",
        "\n",
        "def plot_conditional_distributions(mean, cov, condition):\n",
        "  # Get the mean values from the vector\n",
        "  mean_x = mean[0]\n",
        "  mean_y = mean[1]\n",
        "  # Get the blocks (single values in this case) from \n",
        "  #  the covariance matrix\n",
        "  A = cov[0, 0]\n",
        "  B = cov[1, 1]\n",
        "  C = cov[0, 1]  # = C transpose in this case\n",
        "\n",
        "  # Calculate x|y\n",
        "  y_condition = condition[1]  # To condition on y\n",
        "  mean_xgiveny = mean_x + (C * (1/B) * (y_condition - mean_y))\n",
        "  cov_xgiveny = A - C * (1/B) * C\n",
        "\n",
        "  # Calculate y|x\n",
        "  x_condition = condition[0]  # To condition on x\n",
        "  mean_ygivenx = mean_y + (C * (1/A) * (x_condition - mean_x))\n",
        "  cov_ygivenx = B - (C * (1/A) * C)\n",
        "\n",
        "  # Plot the conditional distributions\n",
        "  fig = plt.figure(figsize=(10, 10))\n",
        "  gs = gridspec.GridSpec(2, 2, width_ratios=[2, 1], height_ratios=[2, 1])\n",
        "  plt.suptitle('Conditional distributions', y=0.93)\n",
        "\n",
        "  # Plot surface on top left\n",
        "  ax1 = plt.subplot(gs[0])\n",
        "  x, y = np.mgrid[0:200:1, 0:200:1] \n",
        "  pos = np.dstack((x, y))\n",
        "  rv = multivariate_normal(mean, cov)\n",
        "  con = ax1.contourf(x, y, rv.pdf(pos), 33) \n",
        "  # y is conditioned upon\n",
        "  ax1.plot([150, 200], [y_condition, y_condition], 'r--')\n",
        "  # x is conditioned upon\n",
        "  ax1.plot([x_condition, x_condition], [60, 110], 'b--')\n",
        "  ax1.set_xlabel('height', fontsize=13)\n",
        "  ax1.set_ylabel('weight', fontsize=13)\n",
        "  ax1.yaxis.set_label_position('right')\n",
        "  ax1.axis([150,200, 60, 110])\n",
        "\n",
        "  # Plot y|x\n",
        "  ax2 = plt.subplot(gs[1])\n",
        "  yx = np.linspace(0, 200, num=200)\n",
        "  pyx = norm.pdf(yx, mean_ygivenx, np.sqrt(cov_ygivenx))\n",
        "  # Plot univariate distribution\n",
        "  ax2.plot(pyx, yx, 'b--', label=f'$p(w|h={x_condition:.1f})$')\n",
        "  ax2.grid()\n",
        "  ax2.legend(loc=0)\n",
        "  ax2.set_xlabel('density', fontsize=13)\n",
        "  ax2.set_ylim(60, 110)\n",
        "\n",
        "  # Plot x|y\n",
        "  ax3 = plt.subplot(gs[2])\n",
        "  xy = np.linspace(0, 200, num=200)\n",
        "  pxy = norm.pdf(xy, mean_xgiveny, np.sqrt(cov_xgiveny))\n",
        "  # Plot univariate distribution\n",
        "  ax3.plot(xy, pxy, 'r--', label=f'$p(h|w={y_condition:.1f})$')\n",
        "  ax3.grid()\n",
        "  ax3.legend(loc=0)\n",
        "  ax3.set_ylabel('density', fontsize=13)\n",
        "  ax3.yaxis.set_label_position('right')\n",
        "  ax3.set_xlim(150, 200)\n",
        "\n",
        "  # Clear axis 4 and plot colarbar in its place\n",
        "  ax4 = plt.subplot(gs[3])\n",
        "  ax4.set_visible(False)\n",
        "  divider = make_axes_locatable(ax4)\n",
        "  cax = divider.append_axes('left', size='20%', pad=0.05)\n",
        "  cbar = fig.colorbar(con, cax=cax)\n",
        "  cbar.ax.set_ylabel('density: $p(h, w)$', fontsize=13)\n",
        "  plt.show()\n",
        "\n",
        "  return mean_xgiveny, np.sqrt(cov_xgiveny), mean_ygivenx, np.sqrt(cov_ygivenx)"
      ],
      "metadata": {
        "id": "Lli_PJrx6scl"
      },
      "execution_count": 44,
      "outputs": []
    },
    {
      "cell_type": "markdown",
      "source": [
        "Here a plot and the parameters of the conditional distributions given Welf's hight and weight. Compare the mean $\\mu_{w|h=h_0}$ and standard deviation $\\sigma_{w|h=h_0}$ (printed below the plot) with the male population's mean and standard deviation derived earlier."
      ],
      "metadata": {
        "id": "MYqbIOTUVvff"
      }
    },
    {
      "cell_type": "code",
      "source": [
        "plot_conditional_distributions(np.array(mu_m), cov_m, welf)"
      ],
      "metadata": {
        "colab": {
          "base_uri": "https://localhost:8080/",
          "height": 645
        },
        "id": "xm5nUf-u-Ngh",
        "outputId": "35218f2f-d6a2-42af-b38a-ce14a29440e5"
      },
      "execution_count": 45,
      "outputs": [
        {
          "output_type": "display_data",
          "data": {
            "text/plain": [
              "<Figure size 720x720 with 5 Axes>"
            ],
            "image/png": "[encoded data removed]"
          },
          "metadata": {
            "needs_background": "light"
          }
        },
        {
          "output_type": "execute_result",
          "data": {
            "text/plain": [
              "(164.95246451882227, 3.6745805907606424, 79.15974947726602, 4.5333034419072495)"
            ]
          },
          "metadata": {},
          "execution_count": 45
        }
      ]
    },
    {
      "cell_type": "markdown",
      "source": [
        "But that was our initial (too) naive approach: we looked at the propability distributions regardless of the person's weight.\n",
        "\n",
        "To do better, we need to learn an additional model parameter: the correlation between the two variables for males and females, resp., or to conveniently enter into the $\\verb|plot_marginal_distributions| function, the covariance matrix."
      ],
      "metadata": {
        "id": "62tD2EABXSXK"
      }
    },
    {
      "cell_type": "markdown",
      "source": [
        "We get both calculated (\"learned\") as part of the pandas dataframe package that we use to capture the data."
      ],
      "metadata": {
        "id": "gTn-5393Xgsp"
      }
    },
    {
      "cell_type": "code",
      "source": [
        "males.corr()"
      ],
      "metadata": {
        "colab": {
          "base_uri": "https://localhost:8080/",
          "height": 112
        },
        "id": "dhEhySejcBGU",
        "outputId": "e0eb265b-97c5-4fbf-9bc4-ef20259830ef"
      },
      "execution_count": 30,
      "outputs": [
        {
          "output_type": "execute_result",
          "data": {
            "text/plain": [
              "          Height    Weight\n",
              "Height  1.000000  0.862979\n",
              "Weight  0.862979  1.000000"
            ],
            "text/html": [
              "\n",
              "  <div id=\"df-7e786dd8-8471-49d0-86a4-99ab2d68ae4c\">\n",
              "    <div class=\"colab-df-container\">\n",
              "      <div>\n",
              "<style scoped>\n",
              "    .dataframe tbody tr th:only-of-type {\n",
              "        vertical-align: middle;\n",
              "    }\n",
              "\n",
              "    .dataframe tbody tr th {\n",
              "        vertical-align: top;\n",
              "    }\n",
              "\n",
              "    .dataframe thead th {\n",
              "        text-align: right;\n",
              "    }\n",
              "</style>\n",
              "<table border=\"1\" class=\"dataframe\">\n",
              "  <thead>\n",
              "    <tr style=\"text-align: right;\">\n",
              "      <th></th>\n",
              "      <th>Height</th>\n",
              "      <th>Weight</th>\n",
              "    </tr>\n",
              "  </thead>\n",
              "  <tbody>\n",
              "    <tr>\n",
              "      <th>Height</th>\n",
              "      <td>1.000000</td>\n",
              "      <td>0.862979</td>\n",
              "    </tr>\n",
              "    <tr>\n",
              "      <th>Weight</th>\n",
              "      <td>0.862979</td>\n",
              "      <td>1.000000</td>\n",
              "    </tr>\n",
              "  </tbody>\n",
              "</table>\n",
              "</div>\n",
              "      <button class=\"colab-df-convert\" onclick=\"convertToInteractive('df-7e786dd8-8471-49d0-86a4-99ab2d68ae4c')\"\n",
              "              title=\"Convert this dataframe to an interactive table.\"\n",
              "              style=\"display:none;\">\n",
              "        \n",
              "  <svg xmlns=\"http://www.w3.org/2000/svg\" height=\"24px\"viewBox=\"0 0 24 24\"\n",
              "       width=\"24px\">\n",
              "    <path d=\"M0 0h24v24H0V0z\" fill=\"none\"/>\n",
              "    <path d=\"M18.56 5.44l.94 2.06.94-2.06 2.06-.94-2.06-.94-.94-2.06-.94 2.06-2.06.94zm-11 1L8.5 8.5l.94-2.06 2.06-.94-2.06-.94L8.5 2.5l-.94 2.06-2.06.94zm10 10l.94 2.06.94-2.06 2.06-.94-2.06-.94-.94-2.06-.94 2.06-2.06.94z\"/><path d=\"M17.41 7.96l-1.37-1.37c-.4-.4-.92-.59-1.43-.59-.52 0-1.04.2-1.43.59L10.3 9.45l-7.72 7.72c-.78.78-.78 2.05 0 2.83L4 21.41c.39.39.9.59 1.41.59.51 0 1.02-.2 1.41-.59l7.78-7.78 2.81-2.81c.8-.78.8-2.07 0-2.86zM5.41 20L4 18.59l7.72-7.72 1.47 1.35L5.41 20z\"/>\n",
              "  </svg>\n",
              "      </button>\n",
              "      \n",
              "  <style>\n",
              "    .colab-df-container {\n",
              "      display:flex;\n",
              "      flex-wrap:wrap;\n",
              "      gap: 12px;\n",
              "    }\n",
              "\n",
              "    .colab-df-convert {\n",
              "      background-color: #E8F0FE;\n",
              "      border: none;\n",
              "      border-radius: 50%;\n",
              "      cursor: pointer;\n",
              "      display: none;\n",
              "      fill: #1967D2;\n",
              "      height: 32px;\n",
              "      padding: 0 0 0 0;\n",
              "      width: 32px;\n",
              "    }\n",
              "\n",
              "    .colab-df-convert:hover {\n",
              "      background-color: #E2EBFA;\n",
              "      box-shadow: 0px 1px 2px rgba(60, 64, 67, 0.3), 0px 1px 3px 1px rgba(60, 64, 67, 0.15);\n",
              "      fill: #174EA6;\n",
              "    }\n",
              "\n",
              "    [theme=dark] .colab-df-convert {\n",
              "      background-color: #3B4455;\n",
              "      fill: #D2E3FC;\n",
              "    }\n",
              "\n",
              "    [theme=dark] .colab-df-convert:hover {\n",
              "      background-color: #434B5C;\n",
              "      box-shadow: 0px 1px 3px 1px rgba(0, 0, 0, 0.15);\n",
              "      filter: drop-shadow(0px 1px 2px rgba(0, 0, 0, 0.3));\n",
              "      fill: #FFFFFF;\n",
              "    }\n",
              "  </style>\n",
              "\n",
              "      <script>\n",
              "        const buttonEl =\n",
              "          document.querySelector('#df-7e786dd8-8471-49d0-86a4-99ab2d68ae4c button.colab-df-convert');\n",
              "        buttonEl.style.display =\n",
              "          google.colab.kernel.accessAllowed ? 'block' : 'none';\n",
              "\n",
              "        async function convertToInteractive(key) {\n",
              "          const element = document.querySelector('#df-7e786dd8-8471-49d0-86a4-99ab2d68ae4c');\n",
              "          const dataTable =\n",
              "            await google.colab.kernel.invokeFunction('convertToInteractive',\n",
              "                                                     [key], {});\n",
              "          if (!dataTable) return;\n",
              "\n",
              "          const docLinkHtml = 'Like what you see? Visit the ' +\n",
              "            '<a target=\"_blank\" href=https://colab.research.google.com/notebooks/data_table.ipynb>data table notebook</a>'\n",
              "            + ' to learn more about interactive tables.';\n",
              "          element.innerHTML = '';\n",
              "          dataTable['output_type'] = 'display_data';\n",
              "          await google.colab.output.renderOutput(dataTable, element);\n",
              "          const docLink = document.createElement('div');\n",
              "          docLink.innerHTML = docLinkHtml;\n",
              "          element.appendChild(docLink);\n",
              "        }\n",
              "      </script>\n",
              "    </div>\n",
              "  </div>\n",
              "  "
            ]
          },
          "metadata": {},
          "execution_count": 30
        }
      ]
    },
    {
      "cell_type": "code",
      "source": [
        "males.cov()"
      ],
      "metadata": {
        "colab": {
          "base_uri": "https://localhost:8080/",
          "height": 112
        },
        "id": "Qzw_RUoEYm4D",
        "outputId": "928d5e1b-1fab-407d-ce45-76bc2388d4fc"
      },
      "execution_count": 31,
      "outputs": [
        {
          "output_type": "execute_result",
          "data": {
            "text/plain": [
              "           Height     Weight\n",
              "Height  52.895657  56.315401\n",
              "Weight  56.315401  80.507074"
            ],
            "text/html": [
              "\n",
              "  <div id=\"df-550e864c-55db-4c0c-a66d-deb509af523b\">\n",
              "    <div class=\"colab-df-container\">\n",
              "      <div>\n",
              "<style scoped>\n",
              "    .dataframe tbody tr th:only-of-type {\n",
              "        vertical-align: middle;\n",
              "    }\n",
              "\n",
              "    .dataframe tbody tr th {\n",
              "        vertical-align: top;\n",
              "    }\n",
              "\n",
              "    .dataframe thead th {\n",
              "        text-align: right;\n",
              "    }\n",
              "</style>\n",
              "<table border=\"1\" class=\"dataframe\">\n",
              "  <thead>\n",
              "    <tr style=\"text-align: right;\">\n",
              "      <th></th>\n",
              "      <th>Height</th>\n",
              "      <th>Weight</th>\n",
              "    </tr>\n",
              "  </thead>\n",
              "  <tbody>\n",
              "    <tr>\n",
              "      <th>Height</th>\n",
              "      <td>52.895657</td>\n",
              "      <td>56.315401</td>\n",
              "    </tr>\n",
              "    <tr>\n",
              "      <th>Weight</th>\n",
              "      <td>56.315401</td>\n",
              "      <td>80.507074</td>\n",
              "    </tr>\n",
              "  </tbody>\n",
              "</table>\n",
              "</div>\n",
              "      <button class=\"colab-df-convert\" onclick=\"convertToInteractive('df-550e864c-55db-4c0c-a66d-deb509af523b')\"\n",
              "              title=\"Convert this dataframe to an interactive table.\"\n",
              "              style=\"display:none;\">\n",
              "        \n",
              "  <svg xmlns=\"http://www.w3.org/2000/svg\" height=\"24px\"viewBox=\"0 0 24 24\"\n",
              "       width=\"24px\">\n",
              "    <path d=\"M0 0h24v24H0V0z\" fill=\"none\"/>\n",
              "    <path d=\"M18.56 5.44l.94 2.06.94-2.06 2.06-.94-2.06-.94-.94-2.06-.94 2.06-2.06.94zm-11 1L8.5 8.5l.94-2.06 2.06-.94-2.06-.94L8.5 2.5l-.94 2.06-2.06.94zm10 10l.94 2.06.94-2.06 2.06-.94-2.06-.94-.94-2.06-.94 2.06-2.06.94z\"/><path d=\"M17.41 7.96l-1.37-1.37c-.4-.4-.92-.59-1.43-.59-.52 0-1.04.2-1.43.59L10.3 9.45l-7.72 7.72c-.78.78-.78 2.05 0 2.83L4 21.41c.39.39.9.59 1.41.59.51 0 1.02-.2 1.41-.59l7.78-7.78 2.81-2.81c.8-.78.8-2.07 0-2.86zM5.41 20L4 18.59l7.72-7.72 1.47 1.35L5.41 20z\"/>\n",
              "  </svg>\n",
              "      </button>\n",
              "      \n",
              "  <style>\n",
              "    .colab-df-container {\n",
              "      display:flex;\n",
              "      flex-wrap:wrap;\n",
              "      gap: 12px;\n",
              "    }\n",
              "\n",
              "    .colab-df-convert {\n",
              "      background-color: #E8F0FE;\n",
              "      border: none;\n",
              "      border-radius: 50%;\n",
              "      cursor: pointer;\n",
              "      display: none;\n",
              "      fill: #1967D2;\n",
              "      height: 32px;\n",
              "      padding: 0 0 0 0;\n",
              "      width: 32px;\n",
              "    }\n",
              "\n",
              "    .colab-df-convert:hover {\n",
              "      background-color: #E2EBFA;\n",
              "      box-shadow: 0px 1px 2px rgba(60, 64, 67, 0.3), 0px 1px 3px 1px rgba(60, 64, 67, 0.15);\n",
              "      fill: #174EA6;\n",
              "    }\n",
              "\n",
              "    [theme=dark] .colab-df-convert {\n",
              "      background-color: #3B4455;\n",
              "      fill: #D2E3FC;\n",
              "    }\n",
              "\n",
              "    [theme=dark] .colab-df-convert:hover {\n",
              "      background-color: #434B5C;\n",
              "      box-shadow: 0px 1px 3px 1px rgba(0, 0, 0, 0.15);\n",
              "      filter: drop-shadow(0px 1px 2px rgba(0, 0, 0, 0.3));\n",
              "      fill: #FFFFFF;\n",
              "    }\n",
              "  </style>\n",
              "\n",
              "      <script>\n",
              "        const buttonEl =\n",
              "          document.querySelector('#df-550e864c-55db-4c0c-a66d-deb509af523b button.colab-df-convert');\n",
              "        buttonEl.style.display =\n",
              "          google.colab.kernel.accessAllowed ? 'block' : 'none';\n",
              "\n",
              "        async function convertToInteractive(key) {\n",
              "          const element = document.querySelector('#df-550e864c-55db-4c0c-a66d-deb509af523b');\n",
              "          const dataTable =\n",
              "            await google.colab.kernel.invokeFunction('convertToInteractive',\n",
              "                                                     [key], {});\n",
              "          if (!dataTable) return;\n",
              "\n",
              "          const docLinkHtml = 'Like what you see? Visit the ' +\n",
              "            '<a target=\"_blank\" href=https://colab.research.google.com/notebooks/data_table.ipynb>data table notebook</a>'\n",
              "            + ' to learn more about interactive tables.';\n",
              "          element.innerHTML = '';\n",
              "          dataTable['output_type'] = 'display_data';\n",
              "          await google.colab.output.renderOutput(dataTable, element);\n",
              "          const docLink = document.createElement('div');\n",
              "          docLink.innerHTML = docLinkHtml;\n",
              "          element.appendChild(docLink);\n",
              "        }\n",
              "      </script>\n",
              "    </div>\n",
              "  </div>\n",
              "  "
            ]
          },
          "metadata": {},
          "execution_count": 31
        }
      ]
    },
    {
      "cell_type": "code",
      "source": [
        "females.corr()"
      ],
      "metadata": {
        "colab": {
          "base_uri": "https://localhost:8080/",
          "height": 112
        },
        "id": "wwoxRmBLalYp",
        "outputId": "7e5b9b79-d316-4039-b0f9-f49ded072382"
      },
      "execution_count": 32,
      "outputs": [
        {
          "output_type": "execute_result",
          "data": {
            "text/plain": [
              "          Height    Weight\n",
              "Height  1.000000  0.849609\n",
              "Weight  0.849609  1.000000"
            ],
            "text/html": [
              "\n",
              "  <div id=\"df-81dec5ea-1afe-405a-b3b2-6f4c971556ca\">\n",
              "    <div class=\"colab-df-container\">\n",
              "      <div>\n",
              "<style scoped>\n",
              "    .dataframe tbody tr th:only-of-type {\n",
              "        vertical-align: middle;\n",
              "    }\n",
              "\n",
              "    .dataframe tbody tr th {\n",
              "        vertical-align: top;\n",
              "    }\n",
              "\n",
              "    .dataframe thead th {\n",
              "        text-align: right;\n",
              "    }\n",
              "</style>\n",
              "<table border=\"1\" class=\"dataframe\">\n",
              "  <thead>\n",
              "    <tr style=\"text-align: right;\">\n",
              "      <th></th>\n",
              "      <th>Height</th>\n",
              "      <th>Weight</th>\n",
              "    </tr>\n",
              "  </thead>\n",
              "  <tbody>\n",
              "    <tr>\n",
              "      <th>Height</th>\n",
              "      <td>1.000000</td>\n",
              "      <td>0.849609</td>\n",
              "    </tr>\n",
              "    <tr>\n",
              "      <th>Weight</th>\n",
              "      <td>0.849609</td>\n",
              "      <td>1.000000</td>\n",
              "    </tr>\n",
              "  </tbody>\n",
              "</table>\n",
              "</div>\n",
              "      <button class=\"colab-df-convert\" onclick=\"convertToInteractive('df-81dec5ea-1afe-405a-b3b2-6f4c971556ca')\"\n",
              "              title=\"Convert this dataframe to an interactive table.\"\n",
              "              style=\"display:none;\">\n",
              "        \n",
              "  <svg xmlns=\"http://www.w3.org/2000/svg\" height=\"24px\"viewBox=\"0 0 24 24\"\n",
              "       width=\"24px\">\n",
              "    <path d=\"M0 0h24v24H0V0z\" fill=\"none\"/>\n",
              "    <path d=\"M18.56 5.44l.94 2.06.94-2.06 2.06-.94-2.06-.94-.94-2.06-.94 2.06-2.06.94zm-11 1L8.5 8.5l.94-2.06 2.06-.94-2.06-.94L8.5 2.5l-.94 2.06-2.06.94zm10 10l.94 2.06.94-2.06 2.06-.94-2.06-.94-.94-2.06-.94 2.06-2.06.94z\"/><path d=\"M17.41 7.96l-1.37-1.37c-.4-.4-.92-.59-1.43-.59-.52 0-1.04.2-1.43.59L10.3 9.45l-7.72 7.72c-.78.78-.78 2.05 0 2.83L4 21.41c.39.39.9.59 1.41.59.51 0 1.02-.2 1.41-.59l7.78-7.78 2.81-2.81c.8-.78.8-2.07 0-2.86zM5.41 20L4 18.59l7.72-7.72 1.47 1.35L5.41 20z\"/>\n",
              "  </svg>\n",
              "      </button>\n",
              "      \n",
              "  <style>\n",
              "    .colab-df-container {\n",
              "      display:flex;\n",
              "      flex-wrap:wrap;\n",
              "      gap: 12px;\n",
              "    }\n",
              "\n",
              "    .colab-df-convert {\n",
              "      background-color: #E8F0FE;\n",
              "      border: none;\n",
              "      border-radius: 50%;\n",
              "      cursor: pointer;\n",
              "      display: none;\n",
              "      fill: #1967D2;\n",
              "      height: 32px;\n",
              "      padding: 0 0 0 0;\n",
              "      width: 32px;\n",
              "    }\n",
              "\n",
              "    .colab-df-convert:hover {\n",
              "      background-color: #E2EBFA;\n",
              "      box-shadow: 0px 1px 2px rgba(60, 64, 67, 0.3), 0px 1px 3px 1px rgba(60, 64, 67, 0.15);\n",
              "      fill: #174EA6;\n",
              "    }\n",
              "\n",
              "    [theme=dark] .colab-df-convert {\n",
              "      background-color: #3B4455;\n",
              "      fill: #D2E3FC;\n",
              "    }\n",
              "\n",
              "    [theme=dark] .colab-df-convert:hover {\n",
              "      background-color: #434B5C;\n",
              "      box-shadow: 0px 1px 3px 1px rgba(0, 0, 0, 0.15);\n",
              "      filter: drop-shadow(0px 1px 2px rgba(0, 0, 0, 0.3));\n",
              "      fill: #FFFFFF;\n",
              "    }\n",
              "  </style>\n",
              "\n",
              "      <script>\n",
              "        const buttonEl =\n",
              "          document.querySelector('#df-81dec5ea-1afe-405a-b3b2-6f4c971556ca button.colab-df-convert');\n",
              "        buttonEl.style.display =\n",
              "          google.colab.kernel.accessAllowed ? 'block' : 'none';\n",
              "\n",
              "        async function convertToInteractive(key) {\n",
              "          const element = document.querySelector('#df-81dec5ea-1afe-405a-b3b2-6f4c971556ca');\n",
              "          const dataTable =\n",
              "            await google.colab.kernel.invokeFunction('convertToInteractive',\n",
              "                                                     [key], {});\n",
              "          if (!dataTable) return;\n",
              "\n",
              "          const docLinkHtml = 'Like what you see? Visit the ' +\n",
              "            '<a target=\"_blank\" href=https://colab.research.google.com/notebooks/data_table.ipynb>data table notebook</a>'\n",
              "            + ' to learn more about interactive tables.';\n",
              "          element.innerHTML = '';\n",
              "          dataTable['output_type'] = 'display_data';\n",
              "          await google.colab.output.renderOutput(dataTable, element);\n",
              "          const docLink = document.createElement('div');\n",
              "          docLink.innerHTML = docLinkHtml;\n",
              "          element.appendChild(docLink);\n",
              "        }\n",
              "      </script>\n",
              "    </div>\n",
              "  </div>\n",
              "  "
            ]
          },
          "metadata": {},
          "execution_count": 32
        }
      ]
    },
    {
      "cell_type": "code",
      "source": [
        "females.cov()"
      ],
      "metadata": {
        "colab": {
          "base_uri": "https://localhost:8080/",
          "height": 112
        },
        "id": "xh6JhdvQckGj",
        "outputId": "27f74eda-dbc0-4d57-bea4-f73543a8042d"
      },
      "execution_count": 33,
      "outputs": [
        {
          "output_type": "execute_result",
          "data": {
            "text/plain": [
              "           Height     Weight\n",
              "Height  46.902793  50.205407\n",
              "Weight  50.205407  74.449963"
            ],
            "text/html": [
              "\n",
              "  <div id=\"df-d0c9e8ce-7238-4149-ab02-50d88ba5d3fd\">\n",
              "    <div class=\"colab-df-container\">\n",
              "      <div>\n",
              "<style scoped>\n",
              "    .dataframe tbody tr th:only-of-type {\n",
              "        vertical-align: middle;\n",
              "    }\n",
              "\n",
              "    .dataframe tbody tr th {\n",
              "        vertical-align: top;\n",
              "    }\n",
              "\n",
              "    .dataframe thead th {\n",
              "        text-align: right;\n",
              "    }\n",
              "</style>\n",
              "<table border=\"1\" class=\"dataframe\">\n",
              "  <thead>\n",
              "    <tr style=\"text-align: right;\">\n",
              "      <th></th>\n",
              "      <th>Height</th>\n",
              "      <th>Weight</th>\n",
              "    </tr>\n",
              "  </thead>\n",
              "  <tbody>\n",
              "    <tr>\n",
              "      <th>Height</th>\n",
              "      <td>46.902793</td>\n",
              "      <td>50.205407</td>\n",
              "    </tr>\n",
              "    <tr>\n",
              "      <th>Weight</th>\n",
              "      <td>50.205407</td>\n",
              "      <td>74.449963</td>\n",
              "    </tr>\n",
              "  </tbody>\n",
              "</table>\n",
              "</div>\n",
              "      <button class=\"colab-df-convert\" onclick=\"convertToInteractive('df-d0c9e8ce-7238-4149-ab02-50d88ba5d3fd')\"\n",
              "              title=\"Convert this dataframe to an interactive table.\"\n",
              "              style=\"display:none;\">\n",
              "        \n",
              "  <svg xmlns=\"http://www.w3.org/2000/svg\" height=\"24px\"viewBox=\"0 0 24 24\"\n",
              "       width=\"24px\">\n",
              "    <path d=\"M0 0h24v24H0V0z\" fill=\"none\"/>\n",
              "    <path d=\"M18.56 5.44l.94 2.06.94-2.06 2.06-.94-2.06-.94-.94-2.06-.94 2.06-2.06.94zm-11 1L8.5 8.5l.94-2.06 2.06-.94-2.06-.94L8.5 2.5l-.94 2.06-2.06.94zm10 10l.94 2.06.94-2.06 2.06-.94-2.06-.94-.94-2.06-.94 2.06-2.06.94z\"/><path d=\"M17.41 7.96l-1.37-1.37c-.4-.4-.92-.59-1.43-.59-.52 0-1.04.2-1.43.59L10.3 9.45l-7.72 7.72c-.78.78-.78 2.05 0 2.83L4 21.41c.39.39.9.59 1.41.59.51 0 1.02-.2 1.41-.59l7.78-7.78 2.81-2.81c.8-.78.8-2.07 0-2.86zM5.41 20L4 18.59l7.72-7.72 1.47 1.35L5.41 20z\"/>\n",
              "  </svg>\n",
              "      </button>\n",
              "      \n",
              "  <style>\n",
              "    .colab-df-container {\n",
              "      display:flex;\n",
              "      flex-wrap:wrap;\n",
              "      gap: 12px;\n",
              "    }\n",
              "\n",
              "    .colab-df-convert {\n",
              "      background-color: #E8F0FE;\n",
              "      border: none;\n",
              "      border-radius: 50%;\n",
              "      cursor: pointer;\n",
              "      display: none;\n",
              "      fill: #1967D2;\n",
              "      height: 32px;\n",
              "      padding: 0 0 0 0;\n",
              "      width: 32px;\n",
              "    }\n",
              "\n",
              "    .colab-df-convert:hover {\n",
              "      background-color: #E2EBFA;\n",
              "      box-shadow: 0px 1px 2px rgba(60, 64, 67, 0.3), 0px 1px 3px 1px rgba(60, 64, 67, 0.15);\n",
              "      fill: #174EA6;\n",
              "    }\n",
              "\n",
              "    [theme=dark] .colab-df-convert {\n",
              "      background-color: #3B4455;\n",
              "      fill: #D2E3FC;\n",
              "    }\n",
              "\n",
              "    [theme=dark] .colab-df-convert:hover {\n",
              "      background-color: #434B5C;\n",
              "      box-shadow: 0px 1px 3px 1px rgba(0, 0, 0, 0.15);\n",
              "      filter: drop-shadow(0px 1px 2px rgba(0, 0, 0, 0.3));\n",
              "      fill: #FFFFFF;\n",
              "    }\n",
              "  </style>\n",
              "\n",
              "      <script>\n",
              "        const buttonEl =\n",
              "          document.querySelector('#df-d0c9e8ce-7238-4149-ab02-50d88ba5d3fd button.colab-df-convert');\n",
              "        buttonEl.style.display =\n",
              "          google.colab.kernel.accessAllowed ? 'block' : 'none';\n",
              "\n",
              "        async function convertToInteractive(key) {\n",
              "          const element = document.querySelector('#df-d0c9e8ce-7238-4149-ab02-50d88ba5d3fd');\n",
              "          const dataTable =\n",
              "            await google.colab.kernel.invokeFunction('convertToInteractive',\n",
              "                                                     [key], {});\n",
              "          if (!dataTable) return;\n",
              "\n",
              "          const docLinkHtml = 'Like what you see? Visit the ' +\n",
              "            '<a target=\"_blank\" href=https://colab.research.google.com/notebooks/data_table.ipynb>data table notebook</a>'\n",
              "            + ' to learn more about interactive tables.';\n",
              "          element.innerHTML = '';\n",
              "          dataTable['output_type'] = 'display_data';\n",
              "          await google.colab.output.renderOutput(dataTable, element);\n",
              "          const docLink = document.createElement('div');\n",
              "          docLink.innerHTML = docLinkHtml;\n",
              "          element.appendChild(docLink);\n",
              "        }\n",
              "      </script>\n",
              "    </div>\n",
              "  </div>\n",
              "  "
            ]
          },
          "metadata": {},
          "execution_count": 33
        }
      ]
    },
    {
      "cell_type": "markdown",
      "source": [
        "We note the expected high correlation between height and weight."
      ],
      "metadata": {
        "id": "3gos2X1bcqUv"
      }
    },
    {
      "cell_type": "code",
      "source": [
        "cov_m = males.cov().values\n",
        "pts_m = np.random.multivariate_normal(mu_m, cov_m, size=500)\n",
        "cov_f = females.cov().values\n",
        "pts_f = np.random.multivariate_normal(mu_f, cov_m, size=500)\n",
        "plot_bivariate([pts_m, pts_f], welf)"
      ],
      "metadata": {
        "colab": {
          "base_uri": "https://localhost:8080/",
          "height": 265
        },
        "id": "8C2kvt8lea17",
        "outputId": "9f0c4b9b-7239-49a3-d2fe-1f00de401286"
      },
      "execution_count": 34,
      "outputs": [
        {
          "output_type": "display_data",
          "data": {
            "text/plain": [
              "<Figure size 432x288 with 1 Axes>"
            ],
            "image/png": "[encoded data removed]"
          },
          "metadata": {
            "needs_background": "light"
          }
        }
      ]
    },
    {
      "cell_type": "markdown",
      "source": [
        "Now we are ready to draw the conditional distributions for a height $h_0$ and weight $w_0$ given and to calculate the corresponding parameters."
      ],
      "metadata": {
        "id": "apkRukd3gD9Y"
      }
    },
    {
      "cell_type": "code",
      "source": [
        "mu_H, sigma_H, mu_W, sigma_W = plot_conditional_distributions(np.array(mu_m), males.cov().values, welf)\n",
        "#alternatively, for women remove leading # in the line below  \n",
        "#mu_H, sigma_H, mu_W, sigma_W = plot_conditional_distributions(np.array(mu_f), females.cov().values, [170,70]) # some person's height and weight\n",
        "mu_H, sigma_H, mu_W, sigma_W"
      ],
      "metadata": {
        "colab": {
          "base_uri": "https://localhost:8080/",
          "height": 645
        },
        "id": "CqexozZkc0MO",
        "outputId": "b40b9cf8-739c-4d1e-9be5-51bafe80f1dd"
      },
      "execution_count": 35,
      "outputs": [
        {
          "output_type": "display_data",
          "data": {
            "text/plain": [
              "<Figure size 720x720 with 5 Axes>"
            ],
            "image/png": "[encoded data removed]"
          },
          "metadata": {
            "needs_background": "light"
          }
        },
        {
          "output_type": "execute_result",
          "data": {
            "text/plain": [
              "(164.95246451882227, 3.6745805907606424, 79.15974947726602, 4.5333034419072495)"
            ]
          },
          "metadata": {},
          "execution_count": 35
        }
      ]
    },
    {
      "cell_type": "code",
      "source": [
        "def percentile_conditional_weight(male, x, mu_W, sigma_W):\n",
        "    return norm.cdf(x, mu_W, sigma_W)\n",
        "\n",
        "welfs_percentile_weight = percentile_conditional_weight(True, welfs_act_weight, mu_W, sigma_W)*100\n",
        "welfs_percentile_weight"
      ],
      "metadata": {
        "colab": {
          "base_uri": "https://localhost:8080/"
        },
        "id": "525G_USogjR4",
        "outputId": "2c10693d-4241-4360-9141-8ef6ca0e24e0"
      },
      "execution_count": 36,
      "outputs": [
        {
          "output_type": "execute_result",
          "data": {
            "text/plain": [
              "2.1663376542286703"
            ]
          },
          "metadata": {},
          "execution_count": 36
        }
      ]
    },
    {
      "cell_type": "markdown",
      "source": [
        "The probability of male weighting less than Welf given his height is estimated to be ca 2%. He is maybe underweight. "
      ],
      "metadata": {
        "id": "uZu0PCjdh-tu"
      }
    }
  ],
  "metadata": {
    "kernelspec": {
      "display_name": "Python 3",
      "language": "python",
      "name": "python3"
    },
    "language_info": {
      "codemirror_mode": {
        "name": "ipython",
        "version": 3
      },
      "file_extension": ".py",
      "mimetype": "text/x-python",
      "name": "python",
      "nbconvert_exporter": "python",
      "pygments_lexer": "ipython3",
      "version": "3.7.4"
    },
    "colab": {
      "provenance": [],
      "include_colab_link": true
    }
  },
  "nbformat": 4,
  "nbformat_minor": 0
}