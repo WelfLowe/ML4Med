{
  "cells": [
    {
      "cell_type": "markdown",
      "metadata": {
        "id": "view-in-github",
        "colab_type": "text"
      },
      "source": [
        "<a href=\"https://colab.research.google.com/github/WelfLowe/ML4non-programmers/blob/main/AI_Technology_Introduction.ipynb\" target=\"_parent\"><img src=\"https://colab.research.google.com/assets/colab-badge.svg\" alt=\"Open In Colab\"/></a>"
      ]
    },
    {
      "cell_type": "markdown",
      "metadata": {
        "id": "mGJV_Wko_nxW"
      },
      "source": [
        "# Examples of regression and classification "
      ]
    },
    {
      "cell_type": "markdown",
      "metadata": {
        "id": "gwnDJ6V7_nxZ"
      },
      "source": [
        "We import some 3rd party libraries that we just use in our examples."
      ]
    },
    {
      "cell_type": "code",
      "execution_count": null,
      "metadata": {
        "id": "OnMzIq7X_nxa"
      },
      "outputs": [],
      "source": [
        "import pandas as pd\n",
        "import numpy as np\n",
        "from sklearn.linear_model import LinearRegression\n",
        "from scipy.stats import norm, multivariate_normal\n",
        "from sklearn.metrics import confusion_matrix\n",
        "import matplotlib.pyplot as plt  \n",
        "import seaborn as sn"
      ]
    },
    {
      "cell_type": "markdown",
      "metadata": {
        "id": "PUziyuEL_nxb"
      },
      "source": [
        "## Collect and Preprocess the Data"
      ]
    },
    {
      "cell_type": "markdown",
      "metadata": {
        "id": "A7yb7p_6_nxb"
      },
      "source": [
        "The data has been collected. We read the structured data that is stored in a file $\\verb|heights_weights.csv|$. Recall that we imported the corresponding library: $\\verb|import pandas as pd|$.\n",
        "\n",
        "Then we map inches to cm ($\\times 2.54$) and punds to kg ($\\times 0.45$). Then we plot the first 10 datapoints of the data table."
      ]
    },
    {
      "cell_type": "code",
      "execution_count": null,
      "metadata": {
        "scrolled": true,
        "colab": {
          "base_uri": "https://localhost:8080/",
          "height": 381
        },
        "id": "S4bGAzUb_nxc",
        "outputId": "d7cbb192-63c5-40bd-c2b1-49b8647603c7"
      },
      "outputs": [
        {
          "output_type": "stream",
          "name": "stdout",
          "text": [
            "10000\n"
          ]
        },
        {
          "output_type": "execute_result",
          "data": {
            "text/plain": [
              "       Height      Weight  Gender\n",
              "0  187.571423  109.720985       1\n",
              "1  174.706036   73.622732       1\n",
              "2  188.239668   96.497550       1\n",
              "3  182.196685   99.809504       1\n",
              "4  177.499761   93.598619       1\n",
              "5  170.822660   69.042216       1\n",
              "6  174.714106   83.428219       1\n",
              "7  173.605229   76.190352       1\n",
              "8  170.228132   79.800187       1\n",
              "9  161.179495   70.941642       1"
            ],
            "text/html": [
              "\n",
              "  <div id=\"df-91a38cad-39d2-4681-b3cf-2d4b8e6a5166\">\n",
              "    <div class=\"colab-df-container\">\n",
              "      <div>\n",
              "<style scoped>\n",
              "    .dataframe tbody tr th:only-of-type {\n",
              "        vertical-align: middle;\n",
              "    }\n",
              "\n",
              "    .dataframe tbody tr th {\n",
              "        vertical-align: top;\n",
              "    }\n",
              "\n",
              "    .dataframe thead th {\n",
              "        text-align: right;\n",
              "    }\n",
              "</style>\n",
              "<table border=\"1\" class=\"dataframe\">\n",
              "  <thead>\n",
              "    <tr style=\"text-align: right;\">\n",
              "      <th></th>\n",
              "      <th>Height</th>\n",
              "      <th>Weight</th>\n",
              "      <th>Gender</th>\n",
              "    </tr>\n",
              "  </thead>\n",
              "  <tbody>\n",
              "    <tr>\n",
              "      <th>0</th>\n",
              "      <td>187.571423</td>\n",
              "      <td>109.720985</td>\n",
              "      <td>1</td>\n",
              "    </tr>\n",
              "    <tr>\n",
              "      <th>1</th>\n",
              "      <td>174.706036</td>\n",
              "      <td>73.622732</td>\n",
              "      <td>1</td>\n",
              "    </tr>\n",
              "    <tr>\n",
              "      <th>2</th>\n",
              "      <td>188.239668</td>\n",
              "      <td>96.497550</td>\n",
              "      <td>1</td>\n",
              "    </tr>\n",
              "    <tr>\n",
              "      <th>3</th>\n",
              "      <td>182.196685</td>\n",
              "      <td>99.809504</td>\n",
              "      <td>1</td>\n",
              "    </tr>\n",
              "    <tr>\n",
              "      <th>4</th>\n",
              "      <td>177.499761</td>\n",
              "      <td>93.598619</td>\n",
              "      <td>1</td>\n",
              "    </tr>\n",
              "    <tr>\n",
              "      <th>5</th>\n",
              "      <td>170.822660</td>\n",
              "      <td>69.042216</td>\n",
              "      <td>1</td>\n",
              "    </tr>\n",
              "    <tr>\n",
              "      <th>6</th>\n",
              "      <td>174.714106</td>\n",
              "      <td>83.428219</td>\n",
              "      <td>1</td>\n",
              "    </tr>\n",
              "    <tr>\n",
              "      <th>7</th>\n",
              "      <td>173.605229</td>\n",
              "      <td>76.190352</td>\n",
              "      <td>1</td>\n",
              "    </tr>\n",
              "    <tr>\n",
              "      <th>8</th>\n",
              "      <td>170.228132</td>\n",
              "      <td>79.800187</td>\n",
              "      <td>1</td>\n",
              "    </tr>\n",
              "    <tr>\n",
              "      <th>9</th>\n",
              "      <td>161.179495</td>\n",
              "      <td>70.941642</td>\n",
              "      <td>1</td>\n",
              "    </tr>\n",
              "  </tbody>\n",
              "</table>\n",
              "</div>\n",
              "      <button class=\"colab-df-convert\" onclick=\"convertToInteractive('df-91a38cad-39d2-4681-b3cf-2d4b8e6a5166')\"\n",
              "              title=\"Convert this dataframe to an interactive table.\"\n",
              "              style=\"display:none;\">\n",
              "        \n",
              "  <svg xmlns=\"http://www.w3.org/2000/svg\" height=\"24px\"viewBox=\"0 0 24 24\"\n",
              "       width=\"24px\">\n",
              "    <path d=\"M0 0h24v24H0V0z\" fill=\"none\"/>\n",
              "    <path d=\"M18.56 5.44l.94 2.06.94-2.06 2.06-.94-2.06-.94-.94-2.06-.94 2.06-2.06.94zm-11 1L8.5 8.5l.94-2.06 2.06-.94-2.06-.94L8.5 2.5l-.94 2.06-2.06.94zm10 10l.94 2.06.94-2.06 2.06-.94-2.06-.94-.94-2.06-.94 2.06-2.06.94z\"/><path d=\"M17.41 7.96l-1.37-1.37c-.4-.4-.92-.59-1.43-.59-.52 0-1.04.2-1.43.59L10.3 9.45l-7.72 7.72c-.78.78-.78 2.05 0 2.83L4 21.41c.39.39.9.59 1.41.59.51 0 1.02-.2 1.41-.59l7.78-7.78 2.81-2.81c.8-.78.8-2.07 0-2.86zM5.41 20L4 18.59l7.72-7.72 1.47 1.35L5.41 20z\"/>\n",
              "  </svg>\n",
              "      </button>\n",
              "      \n",
              "  <style>\n",
              "    .colab-df-container {\n",
              "      display:flex;\n",
              "      flex-wrap:wrap;\n",
              "      gap: 12px;\n",
              "    }\n",
              "\n",
              "    .colab-df-convert {\n",
              "      background-color: #E8F0FE;\n",
              "      border: none;\n",
              "      border-radius: 50%;\n",
              "      cursor: pointer;\n",
              "      display: none;\n",
              "      fill: #1967D2;\n",
              "      height: 32px;\n",
              "      padding: 0 0 0 0;\n",
              "      width: 32px;\n",
              "    }\n",
              "\n",
              "    .colab-df-convert:hover {\n",
              "      background-color: #E2EBFA;\n",
              "      box-shadow: 0px 1px 2px rgba(60, 64, 67, 0.3), 0px 1px 3px 1px rgba(60, 64, 67, 0.15);\n",
              "      fill: #174EA6;\n",
              "    }\n",
              "\n",
              "    [theme=dark] .colab-df-convert {\n",
              "      background-color: #3B4455;\n",
              "      fill: #D2E3FC;\n",
              "    }\n",
              "\n",
              "    [theme=dark] .colab-df-convert:hover {\n",
              "      background-color: #434B5C;\n",
              "      box-shadow: 0px 1px 3px 1px rgba(0, 0, 0, 0.15);\n",
              "      filter: drop-shadow(0px 1px 2px rgba(0, 0, 0, 0.3));\n",
              "      fill: #FFFFFF;\n",
              "    }\n",
              "  </style>\n",
              "\n",
              "      <script>\n",
              "        const buttonEl =\n",
              "          document.querySelector('#df-91a38cad-39d2-4681-b3cf-2d4b8e6a5166 button.colab-df-convert');\n",
              "        buttonEl.style.display =\n",
              "          google.colab.kernel.accessAllowed ? 'block' : 'none';\n",
              "\n",
              "        async function convertToInteractive(key) {\n",
              "          const element = document.querySelector('#df-91a38cad-39d2-4681-b3cf-2d4b8e6a5166');\n",
              "          const dataTable =\n",
              "            await google.colab.kernel.invokeFunction('convertToInteractive',\n",
              "                                                     [key], {});\n",
              "          if (!dataTable) return;\n",
              "\n",
              "          const docLinkHtml = 'Like what you see? Visit the ' +\n",
              "            '<a target=\"_blank\" href=https://colab.research.google.com/notebooks/data_table.ipynb>data table notebook</a>'\n",
              "            + ' to learn more about interactive tables.';\n",
              "          element.innerHTML = '';\n",
              "          dataTable['output_type'] = 'display_data';\n",
              "          await google.colab.output.renderOutput(dataTable, element);\n",
              "          const docLink = document.createElement('div');\n",
              "          docLink.innerHTML = docLinkHtml;\n",
              "          element.appendChild(docLink);\n",
              "        }\n",
              "      </script>\n",
              "    </div>\n",
              "  </div>\n",
              "  "
            ]
          },
          "metadata": {},
          "execution_count": 2
        }
      ],
      "source": [
        "data_url = \"https://raw.githubusercontent.com/WelfLowe/ML4non-programmers/main/heights_weights.csv\"\n",
        "data = pd.read_csv(data_url)\n",
        "\n",
        "#For local file access in a Jupyter Notebook use this line instead\n",
        "#data = pd.read_csv (r'./heights_weights.csv')\n",
        "data['Height'] = data['Height'].map(lambda x: x * 2.54)\n",
        "data['Weight'] = data['Weight'].map(lambda x: x * 0.453592)\n",
        "print(data.shape[0])\n",
        "data.head(10)"
      ]
    },
    {
      "cell_type": "markdown",
      "metadata": {
        "id": "Y3fKF4TX_nxd"
      },
      "source": [
        "We produce the table for the men ($\\verb|'Gender'==1|$) and plot the first five datapoints."
      ]
    },
    {
      "cell_type": "code",
      "execution_count": null,
      "metadata": {
        "scrolled": true,
        "colab": {
          "base_uri": "https://localhost:8080/",
          "height": 206
        },
        "id": "6jN1PUjq_nxd",
        "outputId": "b82213ac-968a-4313-f8a2-3d68325cfe53"
      },
      "outputs": [
        {
          "output_type": "execute_result",
          "data": {
            "text/plain": [
              "       Height      Weight\n",
              "0  187.571423  109.720985\n",
              "1  174.706036   73.622732\n",
              "2  188.239668   96.497550\n",
              "3  182.196685   99.809504\n",
              "4  177.499761   93.598619"
            ],
            "text/html": [
              "\n",
              "  <div id=\"df-a890ade6-6b1e-4603-bcdc-e5de6a45dbb2\">\n",
              "    <div class=\"colab-df-container\">\n",
              "      <div>\n",
              "<style scoped>\n",
              "    .dataframe tbody tr th:only-of-type {\n",
              "        vertical-align: middle;\n",
              "    }\n",
              "\n",
              "    .dataframe tbody tr th {\n",
              "        vertical-align: top;\n",
              "    }\n",
              "\n",
              "    .dataframe thead th {\n",
              "        text-align: right;\n",
              "    }\n",
              "</style>\n",
              "<table border=\"1\" class=\"dataframe\">\n",
              "  <thead>\n",
              "    <tr style=\"text-align: right;\">\n",
              "      <th></th>\n",
              "      <th>Height</th>\n",
              "      <th>Weight</th>\n",
              "    </tr>\n",
              "  </thead>\n",
              "  <tbody>\n",
              "    <tr>\n",
              "      <th>0</th>\n",
              "      <td>187.571423</td>\n",
              "      <td>109.720985</td>\n",
              "    </tr>\n",
              "    <tr>\n",
              "      <th>1</th>\n",
              "      <td>174.706036</td>\n",
              "      <td>73.622732</td>\n",
              "    </tr>\n",
              "    <tr>\n",
              "      <th>2</th>\n",
              "      <td>188.239668</td>\n",
              "      <td>96.497550</td>\n",
              "    </tr>\n",
              "    <tr>\n",
              "      <th>3</th>\n",
              "      <td>182.196685</td>\n",
              "      <td>99.809504</td>\n",
              "    </tr>\n",
              "    <tr>\n",
              "      <th>4</th>\n",
              "      <td>177.499761</td>\n",
              "      <td>93.598619</td>\n",
              "    </tr>\n",
              "  </tbody>\n",
              "</table>\n",
              "</div>\n",
              "      <button class=\"colab-df-convert\" onclick=\"convertToInteractive('df-a890ade6-6b1e-4603-bcdc-e5de6a45dbb2')\"\n",
              "              title=\"Convert this dataframe to an interactive table.\"\n",
              "              style=\"display:none;\">\n",
              "        \n",
              "  <svg xmlns=\"http://www.w3.org/2000/svg\" height=\"24px\"viewBox=\"0 0 24 24\"\n",
              "       width=\"24px\">\n",
              "    <path d=\"M0 0h24v24H0V0z\" fill=\"none\"/>\n",
              "    <path d=\"M18.56 5.44l.94 2.06.94-2.06 2.06-.94-2.06-.94-.94-2.06-.94 2.06-2.06.94zm-11 1L8.5 8.5l.94-2.06 2.06-.94-2.06-.94L8.5 2.5l-.94 2.06-2.06.94zm10 10l.94 2.06.94-2.06 2.06-.94-2.06-.94-.94-2.06-.94 2.06-2.06.94z\"/><path d=\"M17.41 7.96l-1.37-1.37c-.4-.4-.92-.59-1.43-.59-.52 0-1.04.2-1.43.59L10.3 9.45l-7.72 7.72c-.78.78-.78 2.05 0 2.83L4 21.41c.39.39.9.59 1.41.59.51 0 1.02-.2 1.41-.59l7.78-7.78 2.81-2.81c.8-.78.8-2.07 0-2.86zM5.41 20L4 18.59l7.72-7.72 1.47 1.35L5.41 20z\"/>\n",
              "  </svg>\n",
              "      </button>\n",
              "      \n",
              "  <style>\n",
              "    .colab-df-container {\n",
              "      display:flex;\n",
              "      flex-wrap:wrap;\n",
              "      gap: 12px;\n",
              "    }\n",
              "\n",
              "    .colab-df-convert {\n",
              "      background-color: #E8F0FE;\n",
              "      border: none;\n",
              "      border-radius: 50%;\n",
              "      cursor: pointer;\n",
              "      display: none;\n",
              "      fill: #1967D2;\n",
              "      height: 32px;\n",
              "      padding: 0 0 0 0;\n",
              "      width: 32px;\n",
              "    }\n",
              "\n",
              "    .colab-df-convert:hover {\n",
              "      background-color: #E2EBFA;\n",
              "      box-shadow: 0px 1px 2px rgba(60, 64, 67, 0.3), 0px 1px 3px 1px rgba(60, 64, 67, 0.15);\n",
              "      fill: #174EA6;\n",
              "    }\n",
              "\n",
              "    [theme=dark] .colab-df-convert {\n",
              "      background-color: #3B4455;\n",
              "      fill: #D2E3FC;\n",
              "    }\n",
              "\n",
              "    [theme=dark] .colab-df-convert:hover {\n",
              "      background-color: #434B5C;\n",
              "      box-shadow: 0px 1px 3px 1px rgba(0, 0, 0, 0.15);\n",
              "      filter: drop-shadow(0px 1px 2px rgba(0, 0, 0, 0.3));\n",
              "      fill: #FFFFFF;\n",
              "    }\n",
              "  </style>\n",
              "\n",
              "      <script>\n",
              "        const buttonEl =\n",
              "          document.querySelector('#df-a890ade6-6b1e-4603-bcdc-e5de6a45dbb2 button.colab-df-convert');\n",
              "        buttonEl.style.display =\n",
              "          google.colab.kernel.accessAllowed ? 'block' : 'none';\n",
              "\n",
              "        async function convertToInteractive(key) {\n",
              "          const element = document.querySelector('#df-a890ade6-6b1e-4603-bcdc-e5de6a45dbb2');\n",
              "          const dataTable =\n",
              "            await google.colab.kernel.invokeFunction('convertToInteractive',\n",
              "                                                     [key], {});\n",
              "          if (!dataTable) return;\n",
              "\n",
              "          const docLinkHtml = 'Like what you see? Visit the ' +\n",
              "            '<a target=\"_blank\" href=https://colab.research.google.com/notebooks/data_table.ipynb>data table notebook</a>'\n",
              "            + ' to learn more about interactive tables.';\n",
              "          element.innerHTML = '';\n",
              "          dataTable['output_type'] = 'display_data';\n",
              "          await google.colab.output.renderOutput(dataTable, element);\n",
              "          const docLink = document.createElement('div');\n",
              "          docLink.innerHTML = docLinkHtml;\n",
              "          element.appendChild(docLink);\n",
              "        }\n",
              "      </script>\n",
              "    </div>\n",
              "  </div>\n",
              "  "
            ]
          },
          "metadata": {},
          "execution_count": 3
        }
      ],
      "source": [
        "male =  data['Gender']==1\n",
        "males = data[male]\n",
        "males = males.drop('Gender', axis=1)\n",
        "males.head()"
      ]
    },
    {
      "cell_type": "markdown",
      "metadata": {
        "id": "7lxu-MKN_nxe"
      },
      "source": [
        "Same for the women ($\\verb|'Gender'==0|$)."
      ]
    },
    {
      "cell_type": "code",
      "execution_count": null,
      "metadata": {
        "scrolled": true,
        "colab": {
          "base_uri": "https://localhost:8080/",
          "height": 206
        },
        "id": "Dc4qPoAO_nxe",
        "outputId": "b9191e49-2202-4ec2-ad43-9fcd9316110b"
      },
      "outputs": [
        {
          "output_type": "execute_result",
          "data": {
            "text/plain": [
              "          Height     Weight\n",
              "5000  149.633259  46.306448\n",
              "5001  165.684232  64.095191\n",
              "5002  160.957270  59.439332\n",
              "5003  163.779193  58.137572\n",
              "5004  156.954464  58.867808"
            ],
            "text/html": [
              "\n",
              "  <div id=\"df-2d80479d-89cf-450b-b6c8-e7366591c77d\">\n",
              "    <div class=\"colab-df-container\">\n",
              "      <div>\n",
              "<style scoped>\n",
              "    .dataframe tbody tr th:only-of-type {\n",
              "        vertical-align: middle;\n",
              "    }\n",
              "\n",
              "    .dataframe tbody tr th {\n",
              "        vertical-align: top;\n",
              "    }\n",
              "\n",
              "    .dataframe thead th {\n",
              "        text-align: right;\n",
              "    }\n",
              "</style>\n",
              "<table border=\"1\" class=\"dataframe\">\n",
              "  <thead>\n",
              "    <tr style=\"text-align: right;\">\n",
              "      <th></th>\n",
              "      <th>Height</th>\n",
              "      <th>Weight</th>\n",
              "    </tr>\n",
              "  </thead>\n",
              "  <tbody>\n",
              "    <tr>\n",
              "      <th>5000</th>\n",
              "      <td>149.633259</td>\n",
              "      <td>46.306448</td>\n",
              "    </tr>\n",
              "    <tr>\n",
              "      <th>5001</th>\n",
              "      <td>165.684232</td>\n",
              "      <td>64.095191</td>\n",
              "    </tr>\n",
              "    <tr>\n",
              "      <th>5002</th>\n",
              "      <td>160.957270</td>\n",
              "      <td>59.439332</td>\n",
              "    </tr>\n",
              "    <tr>\n",
              "      <th>5003</th>\n",
              "      <td>163.779193</td>\n",
              "      <td>58.137572</td>\n",
              "    </tr>\n",
              "    <tr>\n",
              "      <th>5004</th>\n",
              "      <td>156.954464</td>\n",
              "      <td>58.867808</td>\n",
              "    </tr>\n",
              "  </tbody>\n",
              "</table>\n",
              "</div>\n",
              "      <button class=\"colab-df-convert\" onclick=\"convertToInteractive('df-2d80479d-89cf-450b-b6c8-e7366591c77d')\"\n",
              "              title=\"Convert this dataframe to an interactive table.\"\n",
              "              style=\"display:none;\">\n",
              "        \n",
              "  <svg xmlns=\"http://www.w3.org/2000/svg\" height=\"24px\"viewBox=\"0 0 24 24\"\n",
              "       width=\"24px\">\n",
              "    <path d=\"M0 0h24v24H0V0z\" fill=\"none\"/>\n",
              "    <path d=\"M18.56 5.44l.94 2.06.94-2.06 2.06-.94-2.06-.94-.94-2.06-.94 2.06-2.06.94zm-11 1L8.5 8.5l.94-2.06 2.06-.94-2.06-.94L8.5 2.5l-.94 2.06-2.06.94zm10 10l.94 2.06.94-2.06 2.06-.94-2.06-.94-.94-2.06-.94 2.06-2.06.94z\"/><path d=\"M17.41 7.96l-1.37-1.37c-.4-.4-.92-.59-1.43-.59-.52 0-1.04.2-1.43.59L10.3 9.45l-7.72 7.72c-.78.78-.78 2.05 0 2.83L4 21.41c.39.39.9.59 1.41.59.51 0 1.02-.2 1.41-.59l7.78-7.78 2.81-2.81c.8-.78.8-2.07 0-2.86zM5.41 20L4 18.59l7.72-7.72 1.47 1.35L5.41 20z\"/>\n",
              "  </svg>\n",
              "      </button>\n",
              "      \n",
              "  <style>\n",
              "    .colab-df-container {\n",
              "      display:flex;\n",
              "      flex-wrap:wrap;\n",
              "      gap: 12px;\n",
              "    }\n",
              "\n",
              "    .colab-df-convert {\n",
              "      background-color: #E8F0FE;\n",
              "      border: none;\n",
              "      border-radius: 50%;\n",
              "      cursor: pointer;\n",
              "      display: none;\n",
              "      fill: #1967D2;\n",
              "      height: 32px;\n",
              "      padding: 0 0 0 0;\n",
              "      width: 32px;\n",
              "    }\n",
              "\n",
              "    .colab-df-convert:hover {\n",
              "      background-color: #E2EBFA;\n",
              "      box-shadow: 0px 1px 2px rgba(60, 64, 67, 0.3), 0px 1px 3px 1px rgba(60, 64, 67, 0.15);\n",
              "      fill: #174EA6;\n",
              "    }\n",
              "\n",
              "    [theme=dark] .colab-df-convert {\n",
              "      background-color: #3B4455;\n",
              "      fill: #D2E3FC;\n",
              "    }\n",
              "\n",
              "    [theme=dark] .colab-df-convert:hover {\n",
              "      background-color: #434B5C;\n",
              "      box-shadow: 0px 1px 3px 1px rgba(0, 0, 0, 0.15);\n",
              "      filter: drop-shadow(0px 1px 2px rgba(0, 0, 0, 0.3));\n",
              "      fill: #FFFFFF;\n",
              "    }\n",
              "  </style>\n",
              "\n",
              "      <script>\n",
              "        const buttonEl =\n",
              "          document.querySelector('#df-2d80479d-89cf-450b-b6c8-e7366591c77d button.colab-df-convert');\n",
              "        buttonEl.style.display =\n",
              "          google.colab.kernel.accessAllowed ? 'block' : 'none';\n",
              "\n",
              "        async function convertToInteractive(key) {\n",
              "          const element = document.querySelector('#df-2d80479d-89cf-450b-b6c8-e7366591c77d');\n",
              "          const dataTable =\n",
              "            await google.colab.kernel.invokeFunction('convertToInteractive',\n",
              "                                                     [key], {});\n",
              "          if (!dataTable) return;\n",
              "\n",
              "          const docLinkHtml = 'Like what you see? Visit the ' +\n",
              "            '<a target=\"_blank\" href=https://colab.research.google.com/notebooks/data_table.ipynb>data table notebook</a>'\n",
              "            + ' to learn more about interactive tables.';\n",
              "          element.innerHTML = '';\n",
              "          dataTable['output_type'] = 'display_data';\n",
              "          await google.colab.output.renderOutput(dataTable, element);\n",
              "          const docLink = document.createElement('div');\n",
              "          docLink.innerHTML = docLinkHtml;\n",
              "          element.appendChild(docLink);\n",
              "        }\n",
              "      </script>\n",
              "    </div>\n",
              "  </div>\n",
              "  "
            ]
          },
          "metadata": {},
          "execution_count": 4
        }
      ],
      "source": [
        "female =  data['Gender']==0\n",
        "females = data[female]\n",
        "females = females.drop('Gender', axis=1)\n",
        "females.head()"
      ]
    },
    {
      "cell_type": "markdown",
      "metadata": {
        "id": "hdYiFDZl_nxf"
      },
      "source": [
        "Convert the data table into another format, into a so-called $\\verb|numpy|$ arrays. Recall that we imported the corresponding libarary: $\\verb|import numpy as np|$."
      ]
    },
    {
      "cell_type": "code",
      "execution_count": null,
      "metadata": {
        "id": "ZKQ0Td4x_nxf"
      },
      "outputs": [],
      "source": [
        "#Heights ad weights for males\n",
        "H_m = males.iloc[:, 0].values.reshape(-1, 1)  # values converts it into a numpy array\n",
        "W_m = males.iloc[:, 1].values.reshape(-1, 1)  # -1 means that calculate the dimension of rows, but have 1 column\n",
        "\n",
        "#Heights ad weights for females\n",
        "H_f = females.iloc[:, 0].values.reshape(-1, 1)  # values converts it into a numpy array\n",
        "W_f = females.iloc[:, 1].values.reshape(-1, 1)  # -1 means that calculate the dimension of rows, but have 1 column"
      ]
    },
    {
      "cell_type": "markdown",
      "source": [
        "Each of the four arrays, the heights and weight of males ($\\verb|H_m|$, $\\verb|W_m|$) and of females ($\\verb|H_f|$, $\\verb|W_f|$) is an array with 5000 entries. We check this:"
      ],
      "metadata": {
        "id": "LvmpuFLRHMkT"
      }
    },
    {
      "cell_type": "code",
      "source": [
        "H_m.shape"
      ],
      "metadata": {
        "colab": {
          "base_uri": "https://localhost:8080/"
        },
        "id": "lZNIT2MaHA4G",
        "outputId": "16eb68d6-a38c-4170-891b-e20281073a3c"
      },
      "execution_count": null,
      "outputs": [
        {
          "output_type": "execute_result",
          "data": {
            "text/plain": [
              "(5000, 1)"
            ]
          },
          "metadata": {},
          "execution_count": 6
        }
      ]
    },
    {
      "cell_type": "markdown",
      "metadata": {
        "id": "x1_GNBTb_nxg"
      },
      "source": [
        "## Train the Models"
      ]
    },
    {
      "cell_type": "markdown",
      "metadata": {
        "id": "QC8FAvyg_nxg"
      },
      "source": [
        "### Linear Regression Models"
      ]
    },
    {
      "cell_type": "markdown",
      "source": [
        "First we build (train) two regression models to predict the weight of a person from his/her height."
      ],
      "metadata": {
        "id": "8kx-VhMVJT-C"
      }
    },
    {
      "cell_type": "markdown",
      "metadata": {
        "id": "5LgBzBk8_nxg"
      },
      "source": [
        "We define a training function. It merely uses the trainging function $\\verb|fit|$ that is predefined in $\\verb|LinearRegression|$. Note, that we imported the corresponding libarary: $\\verb|from sklearn.linear_model import LinearRegression|$.\n",
        "\n",
        "Optionally, we then plot the trained model, a linear function, and all datapoints. Note, that we imported the plotting libarary for that: $\\verb|import matplotlib.pyplot as plt|$."
      ]
    },
    {
      "cell_type": "code",
      "execution_count": null,
      "metadata": {
        "id": "hpxs2pn5_nxh"
      },
      "outputs": [],
      "source": [
        "def linear_regression(X, Y, verbose):\n",
        "    lr = LinearRegression()  # create object for the class\n",
        "    lr.fit(X, Y)  # perform linear regression\n",
        "    Y_pred = lr.predict(X)  # make predictions\n",
        "    if verbose:\n",
        "        title = (\"Fit Values: a={:.2f} and b={:.2f}\".format(lr.coef_[0][0], lr.intercept_[0]))\n",
        "        plt.scatter(X, Y)\n",
        "        plt.plot(X, Y_pred, color='red')\n",
        "        plt.title(title)\n",
        "        plt.show()\n",
        "    return lr"
      ]
    },
    {
      "cell_type": "markdown",
      "metadata": {
        "id": "YYWac_ub_nxh"
      },
      "source": [
        "We call the training function for the men to get a linear regression model. It is defined by two parameters ($\\verb|a_m|$, $\\verb|b_m|$) that determine the red line, a visualization of our model. Each dot in the visualization shows one data point of the training with the persons height and weight."
      ]
    },
    {
      "cell_type": "code",
      "execution_count": null,
      "metadata": {
        "scrolled": true,
        "colab": {
          "base_uri": "https://localhost:8080/",
          "height": 281
        },
        "id": "XC8Jcw4O_nxh",
        "outputId": "800324ef-9a14-4e4d-f7bd-7fd736364ca7"
      },
      "outputs": [
        {
          "output_type": "display_data",
          "data": {
            "text/plain": [
              "<Figure size 432x288 with 1 Axes>"
            ],
            "image/png": "[encoded data removed]"
          },
          "metadata": {
            "needs_background": "light"
          }
        }
      ],
      "source": [
        "lr = linear_regression(H_m, W_m, True)\n",
        "a_m = lr.coef_[0][0]\n",
        "b_m = lr.intercept_[0]"
      ]
    },
    {
      "cell_type": "markdown",
      "metadata": {
        "id": "y2kzPgAJ_nxh"
      },
      "source": [
        "We call the same training function to build and visualize the prediction model for the women."
      ]
    },
    {
      "cell_type": "code",
      "execution_count": null,
      "metadata": {
        "scrolled": false,
        "colab": {
          "base_uri": "https://localhost:8080/",
          "height": 281
        },
        "id": "WMaL57dL_nxi",
        "outputId": "97aab555-01ae-4505-f6b3-c4235c674db0"
      },
      "outputs": [
        {
          "output_type": "display_data",
          "data": {
            "text/plain": [
              "<Figure size 432x288 with 1 Axes>"
            ],
            "image/png": "[encoded data removed]"
          },
          "metadata": {
            "needs_background": "light"
          }
        }
      ],
      "source": [
        "lr = linear_regression(H_f, W_f, True)\n",
        "a_f = lr.coef_[0][0]\n",
        "b_f = lr.intercept_[0]"
      ]
    },
    {
      "cell_type": "markdown",
      "metadata": {
        "id": "ztMu3C_m_nxi"
      },
      "source": [
        "We define an additional function for visualizing two (or more) models in one plot and call this function on the trained models."
      ]
    },
    {
      "cell_type": "code",
      "execution_count": null,
      "metadata": {
        "id": "KUoMERVp_nxi"
      },
      "outputs": [],
      "source": [
        "def plot_lines(X, aa, bb, cc):\n",
        "    for i in range(0,len(aa)):\n",
        "        Y = aa[i]*X+bb[i]\n",
        "        plt.plot(X, Y, cc[i])\n",
        "    plt.show()"
      ]
    },
    {
      "cell_type": "code",
      "execution_count": null,
      "metadata": {
        "scrolled": true,
        "colab": {
          "base_uri": "https://localhost:8080/",
          "height": 265
        },
        "id": "S6W7P5WL_nxi",
        "outputId": "211c22c4-0104-42b6-bbc0-bfd347f381c7"
      },
      "outputs": [
        {
          "output_type": "display_data",
          "data": {
            "text/plain": [
              "<Figure size 432x288 with 1 Axes>"
            ],
            "image/png": "[encoded data removed]"
          },
          "metadata": {
            "needs_background": "light"
          }
        }
      ],
      "source": [
        "X = np.arange(150, 190, 1)\n",
        "plot_lines(X, [a_m, a_f], [b_m,b_f], ['b', 'r'])"
      ]
    },
    {
      "cell_type": "markdown",
      "metadata": {
        "id": "pIroZE1j_nxj"
      },
      "source": [
        "<font color='red'>Tasks 1:</font> \n",
        "1. In the regression models, what are the predictor and what are the response variables?\n",
        "2. Specify the trained regression models mapping height to weight for men and woman, resp, by giving their parameters and parameter values.\n",
        "3. What is your interpretation of the two models when looking at the plots?\n",
        "4. Was this supervised, unsupervised, or reinforcement lerning and why?"
      ]
    },
    {
      "cell_type": "markdown",
      "source": [
        "<font color='blue'>Answers 1:</font> \n",
        "1. Your answer ...\n",
        "2. Your answer ...\n",
        "3. Your answer ...\n",
        "4. Your answer ...\n"
      ],
      "metadata": {
        "id": "SrFPup6TKVzO"
      }
    },
    {
      "cell_type": "markdown",
      "metadata": {
        "id": "p9ra2mk7_nxj"
      },
      "source": [
        "### Classification Models"
      ]
    },
    {
      "cell_type": "markdown",
      "source": [
        "Second we build (train) two classification models to classify the geder from weight and height of a person, resp."
      ],
      "metadata": {
        "id": "nqZzrk0fMEAw"
      }
    },
    {
      "cell_type": "markdown",
      "metadata": {
        "id": "qKHsqkBy_nxj"
      },
      "source": [
        "Again, we define a training function. It merely uses the trainging function $\\verb|fit|$ that is predefined in the $\\verb|norm|$ library. Note, that we imported the corresponding libarary: $\\verb|from scipy.stats import norm|$.\n",
        "\n",
        "Optionally, we then plot the trained model, a fitted normal distribution given by $\\mu$ and $\\sigma$ together with a histogram of all datapoints using again the plotting libarary."
      ]
    },
    {
      "cell_type": "code",
      "execution_count": null,
      "metadata": {
        "id": "aW1tKhDK_nxj"
      },
      "outputs": [],
      "source": [
        "def fit_normal(X, verbose):\n",
        "    mu, std = norm.fit(X)\n",
        "    if verbose:\n",
        "        # Plot the histogram.\n",
        "        plt.hist(X, bins=25, density=True, alpha=0.6, color='b')\n",
        "        # Plot the PDF.\n",
        "        xmin, xmax = plt.xlim()\n",
        "        x = np.linspace(xmin, xmax, 100)\n",
        "        p = norm.pdf(x, mu, std)\n",
        "        plt.plot(x, p, linewidth=2, color='red')\n",
        "        title = \"Fit Values: mu {:.2f} and sigma {:.2f}\".format(mu, std)\n",
        "        plt.title(title)\n",
        "        plt.show()\n",
        "    return mu, std"
      ]
    },
    {
      "cell_type": "markdown",
      "metadata": {
        "id": "M-AJDeu-_nxj"
      },
      "source": [
        "We call the training function four times to get the model parameters for the males' hights and weights, resp., ..."
      ]
    },
    {
      "cell_type": "code",
      "execution_count": null,
      "metadata": {
        "scrolled": false,
        "colab": {
          "base_uri": "https://localhost:8080/",
          "height": 545
        },
        "id": "3s7W_S4P_nxk",
        "outputId": "b43c9d38-3f3b-42eb-cb39-e89ea35d0ee2"
      },
      "outputs": [
        {
          "output_type": "display_data",
          "data": {
            "text/plain": [
              "<Figure size 432x288 with 1 Axes>"
            ],
            "image/png": "[encoded data removed]"
          },
          "metadata": {
            "needs_background": "light"
          }
        },
        {
          "output_type": "display_data",
          "data": {
            "text/plain": [
              "<Figure size 432x288 with 1 Axes>"
            ],
            "image/png": "[encoded data removed]"
          },
          "metadata": {
            "needs_background": "light"
          }
        }
      ],
      "source": [
        "mu_H_m, sigma_H_m = fit_normal(H_m, True)\n",
        "mu_W_m, sigma_W_m = fit_normal(W_m, True)"
      ]
    },
    {
      "cell_type": "markdown",
      "metadata": {
        "id": "6rOgArR1_nxk"
      },
      "source": [
        "... and for the hights and weights of the females."
      ]
    },
    {
      "cell_type": "code",
      "execution_count": null,
      "metadata": {
        "scrolled": false,
        "colab": {
          "base_uri": "https://localhost:8080/",
          "height": 545
        },
        "id": "RucVnqIB_nxk",
        "outputId": "dbae429d-a696-4310-9121-550261716edf"
      },
      "outputs": [
        {
          "output_type": "display_data",
          "data": {
            "text/plain": [
              "<Figure size 432x288 with 1 Axes>"
            ],
            "image/png": "[encoded data removed]"
          },
          "metadata": {
            "needs_background": "light"
          }
        },
        {
          "output_type": "display_data",
          "data": {
            "text/plain": [
              "<Figure size 432x288 with 1 Axes>"
            ],
            "image/png": "[encoded data removed]"
          },
          "metadata": {
            "needs_background": "light"
          }
        }
      ],
      "source": [
        "mu_H_f, sigma_H_f = fit_normal(H_f, True)\n",
        "mu_W_f, sigma_W_f = fit_normal(W_f, True)"
      ]
    },
    {
      "cell_type": "markdown",
      "metadata": {
        "id": "4r5UfH0p_nxk"
      },
      "source": [
        "We define an additional function for plotting the classification models, i.e.,  two distributions of males and females. It can be called for both the height and for the weight distributions."
      ]
    },
    {
      "cell_type": "code",
      "execution_count": null,
      "metadata": {
        "id": "b_kj34Wf_nxk"
      },
      "outputs": [],
      "source": [
        "def plot_norm(mus, sigmas, cc):\n",
        "    low = mus[0]-4*sigmas[0]\n",
        "    high = mus[0]+4*sigmas[0]\n",
        "    for i in range(1,len(mus)):\n",
        "        low = min(low, mus[i]-4*sigmas[i])\n",
        "        high = max(high, mus[i]+4*sigmas[i])\n",
        "    x_axis = np.arange(low, high, 0.1)\n",
        "    for i in range(0,len(mus)):\n",
        "        plt.plot(x_axis, norm.pdf(x_axis, mus[i], sigmas[i]), cc[i])\n",
        "    plt.show()"
      ]
    },
    {
      "cell_type": "markdown",
      "metadata": {
        "id": "9xFw2lZ7_nxk"
      },
      "source": [
        "We call it for plotting the weight distributions ..."
      ]
    },
    {
      "cell_type": "code",
      "execution_count": null,
      "metadata": {
        "scrolled": true,
        "colab": {
          "base_uri": "https://localhost:8080/",
          "height": 265
        },
        "id": "NqGDWPf6_nxl",
        "outputId": "37e4bad2-c8c1-48d7-b159-307a02e4b800"
      },
      "outputs": [
        {
          "output_type": "display_data",
          "data": {
            "text/plain": [
              "<Figure size 432x288 with 1 Axes>"
            ],
            "image/png": "[encoded data removed]"
          },
          "metadata": {
            "needs_background": "light"
          }
        }
      ],
      "source": [
        "plot_norm([mu_W_m,mu_W_f],[sigma_W_m,sigma_W_f], ['b','r'])"
      ]
    },
    {
      "cell_type": "markdown",
      "metadata": {
        "id": "0itxnVhO_nxl"
      },
      "source": [
        "... and the height distributions."
      ]
    },
    {
      "cell_type": "code",
      "execution_count": null,
      "metadata": {
        "scrolled": true,
        "colab": {
          "base_uri": "https://localhost:8080/",
          "height": 265
        },
        "id": "_AXmZBVJ_nxl",
        "outputId": "cbd1614f-0c8e-41d3-b89f-ad71ede03dcc"
      },
      "outputs": [
        {
          "output_type": "display_data",
          "data": {
            "text/plain": [
              "<Figure size 432x288 with 1 Axes>"
            ],
            "image/png": "[encoded data removed]"
          },
          "metadata": {
            "needs_background": "light"
          }
        }
      ],
      "source": [
        "plot_norm([mu_H_m,mu_H_f],[sigma_H_m,sigma_H_f], ['b','r'])"
      ]
    },
    {
      "cell_type": "markdown",
      "source": [
        "As there are differences for women and men, we can use the variables weight and height for classifying the gender of a person. This leads to a (bivariate Naive Bayesian) classification model."
      ],
      "metadata": {
        "id": "IiqY8jF_n-ms"
      }
    },
    {
      "cell_type": "markdown",
      "metadata": {
        "id": "WcjpUo3i_nxl"
      },
      "source": [
        "<font color='red'>Tasks 2:</font> \n",
        "1. We defined two classification models, what are their predictors and responses, respectively?\n",
        "2. Specify the two trained classification models by giving their parameters and parameter values, resp.\n",
        "3. What is your interpretation of the two models when looking at the plots?\n",
        "4. What are implicit assumptions on the collected data making the models valid?"
      ]
    },
    {
      "cell_type": "markdown",
      "source": [
        "<font color='blue'>Answers 2:</font> \n",
        "1. Your answer ...\n",
        "2. Your answer ...\n",
        "3. Your answer ...\n",
        "4. Your answer ...\n"
      ],
      "metadata": {
        "id": "aVbTnw96PA6F"
      }
    },
    {
      "cell_type": "markdown",
      "metadata": {
        "id": "E_xAd05H_nxl"
      },
      "source": [
        "## Evaluate and Use the Models"
      ]
    },
    {
      "cell_type": "markdown",
      "metadata": {
        "id": "9HK4ldd5_nxl"
      },
      "source": [
        "### Use Linear Regression for Prediction"
      ]
    },
    {
      "cell_type": "markdown",
      "metadata": {
        "id": "knRkpQQk_nxm"
      },
      "source": [
        "We use the regression models to predict the weight based on height and gender. Therefore, we apply the male or female model on the actual persons height."
      ]
    },
    {
      "cell_type": "code",
      "execution_count": null,
      "metadata": {
        "colab": {
          "base_uri": "https://localhost:8080/"
        },
        "id": "ZLSynX8h_nxm",
        "outputId": "ae5da985-f932-4bef-ccc8-031cdcb499a7"
      },
      "outputs": [
        {
          "output_type": "execute_result",
          "data": {
            "text/plain": [
              "-9.159749477266047"
            ]
          },
          "metadata": {},
          "execution_count": 18
        }
      ],
      "source": [
        "def predict_weight(male, height):\n",
        "    if male:\n",
        "        return a_m*height + b_m\n",
        "    else:\n",
        "        return a_f*height + b_f\n",
        "\n",
        "welfs_act_weight = 70 #in kg\n",
        "welfs_act_height = 170 #in cm\n",
        "welfs_predicted_weight = predict_weight(male=True, height=welfs_act_height) #result in kg\n",
        "welfs_err = welfs_act_weight-welfs_predicted_weight #in kg\n",
        "welfs_err "
      ]
    },
    {
      "cell_type": "markdown",
      "source": [
        "You could add a new code box right after the one you displayed. In there, you could define new variables, e.g., $\\verb|my_actual_weight|$, $\\verb|my_actual_height|$ and set the actual values in kg and cm, resp. Then you could call the $\\verb|predict_weight|$ function that *uses* the trained model. If you are a woman, you would set $\\verb|male=False|$; set the height to $\\verb|my_actual_height|$. Then you could print the predicted weight and the error, i.e., the difference between the actual and the predicted weights. See the code box below. Don’t forget to run the code by pushing the “play” button (white triangle in black circle) on every code box in the document from top to this one."
      ],
      "metadata": {
        "id": "IPM147xAJUJg"
      }
    },
    {
      "cell_type": "code",
      "source": [
        "my_act_weight = 70 #in kg\n",
        "my_act_height = 170 #in cm\n",
        "my_predicted_weight = predict_weight(male=False, height=my_act_height) #result in kg\n",
        "print(my_predicted_weight)\n",
        "my_prediction_err = my_act_weight-my_predicted_weight #in kg\n",
        "print(my_prediction_err) "
      ],
      "metadata": {
        "id": "6Rq3FIlCFkIf",
        "outputId": "bb6a0b10-14d0-4fea-8ddf-5b4242b87946",
        "colab": {
          "base_uri": "https://localhost:8080/"
        }
      },
      "execution_count": null,
      "outputs": [
        {
          "output_type": "stream",
          "name": "stdout",
          "text": [
            "70.38073291330946\n",
            "-0.38073291330945835\n"
          ]
        }
      ]
    },
    {
      "cell_type": "markdown",
      "metadata": {
        "id": "U1ZsGnuX_nxm"
      },
      "source": [
        "### Use the Classification Models for (Naive Bayesian) Classification"
      ]
    },
    {
      "cell_type": "markdown",
      "metadata": {
        "id": "wDxLgTq1_nxm"
      },
      "source": [
        "We use the trained classification models for classifying whether a person is likely to be (fe-)male based on weight and height. Under Naive Bayesian assumption, we multiply the probabilities of of a weight and height to occur in the male and female distributions. The higher joint probability determines the suggested gender. "
      ]
    },
    {
      "cell_type": "code",
      "execution_count": null,
      "metadata": {
        "id": "HO4R4pW-_nxm"
      },
      "outputs": [],
      "source": [
        "def male_female(act_weight,act_height): \n",
        "    p_male = norm.pdf(act_weight, mu_W_m, sigma_W_m)*norm.pdf(act_height, mu_H_m, sigma_H_m)\n",
        "    p_female = norm.pdf(act_weight, mu_W_f, sigma_W_f)*norm.pdf(act_height, mu_H_f, sigma_H_f)\n",
        "    if p_male > p_female:\n",
        "        return 1\n",
        "    else:\n",
        "        return 0    "
      ]
    },
    {
      "cell_type": "code",
      "execution_count": null,
      "metadata": {
        "scrolled": false,
        "colab": {
          "base_uri": "https://localhost:8080/"
        },
        "id": "xvr2y9hE_nxm",
        "outputId": "b495290c-2a7d-4fdc-e69b-c0b47757782b"
      },
      "outputs": [
        {
          "output_type": "stream",
          "name": "stdout",
          "text": [
            "Female\n"
          ]
        }
      ],
      "source": [
        "if male_female(welfs_act_weight, welfs_act_height):\n",
        "    print(\"Male\")\n",
        "else:\n",
        "    print(\"Female\")    "
      ]
    },
    {
      "cell_type": "markdown",
      "metadata": {
        "id": "kmrWribU_nxn"
      },
      "source": [
        ":)"
      ]
    },
    {
      "cell_type": "markdown",
      "metadata": {
        "id": "-rgY5GWo_nxn"
      },
      "source": [
        "Classify all datapoints."
      ]
    },
    {
      "cell_type": "code",
      "execution_count": null,
      "metadata": {
        "scrolled": false,
        "colab": {
          "base_uri": "https://localhost:8080/",
          "height": 363
        },
        "id": "IiI3Ce0F_nxn",
        "outputId": "9386b172-a2ac-4080-a120-d931d3dfea81"
      },
      "outputs": [
        {
          "output_type": "execute_result",
          "data": {
            "text/plain": [
              "   True Gender  Pred Gender\n",
              "0            1            1\n",
              "1            1            1\n",
              "2            1            1\n",
              "3            1            1\n",
              "4            1            1\n",
              "5            1            0\n",
              "6            1            1\n",
              "7            1            1\n",
              "8            1            1\n",
              "9            1            0"
            ],
            "text/html": [
              "\n",
              "  <div id=\"df-5dcc5f2f-52c4-4471-8fd8-ff28992f3332\">\n",
              "    <div class=\"colab-df-container\">\n",
              "      <div>\n",
              "<style scoped>\n",
              "    .dataframe tbody tr th:only-of-type {\n",
              "        vertical-align: middle;\n",
              "    }\n",
              "\n",
              "    .dataframe tbody tr th {\n",
              "        vertical-align: top;\n",
              "    }\n",
              "\n",
              "    .dataframe thead th {\n",
              "        text-align: right;\n",
              "    }\n",
              "</style>\n",
              "<table border=\"1\" class=\"dataframe\">\n",
              "  <thead>\n",
              "    <tr style=\"text-align: right;\">\n",
              "      <th></th>\n",
              "      <th>True Gender</th>\n",
              "      <th>Pred Gender</th>\n",
              "    </tr>\n",
              "  </thead>\n",
              "  <tbody>\n",
              "    <tr>\n",
              "      <th>0</th>\n",
              "      <td>1</td>\n",
              "      <td>1</td>\n",
              "    </tr>\n",
              "    <tr>\n",
              "      <th>1</th>\n",
              "      <td>1</td>\n",
              "      <td>1</td>\n",
              "    </tr>\n",
              "    <tr>\n",
              "      <th>2</th>\n",
              "      <td>1</td>\n",
              "      <td>1</td>\n",
              "    </tr>\n",
              "    <tr>\n",
              "      <th>3</th>\n",
              "      <td>1</td>\n",
              "      <td>1</td>\n",
              "    </tr>\n",
              "    <tr>\n",
              "      <th>4</th>\n",
              "      <td>1</td>\n",
              "      <td>1</td>\n",
              "    </tr>\n",
              "    <tr>\n",
              "      <th>5</th>\n",
              "      <td>1</td>\n",
              "      <td>0</td>\n",
              "    </tr>\n",
              "    <tr>\n",
              "      <th>6</th>\n",
              "      <td>1</td>\n",
              "      <td>1</td>\n",
              "    </tr>\n",
              "    <tr>\n",
              "      <th>7</th>\n",
              "      <td>1</td>\n",
              "      <td>1</td>\n",
              "    </tr>\n",
              "    <tr>\n",
              "      <th>8</th>\n",
              "      <td>1</td>\n",
              "      <td>1</td>\n",
              "    </tr>\n",
              "    <tr>\n",
              "      <th>9</th>\n",
              "      <td>1</td>\n",
              "      <td>0</td>\n",
              "    </tr>\n",
              "  </tbody>\n",
              "</table>\n",
              "</div>\n",
              "      <button class=\"colab-df-convert\" onclick=\"convertToInteractive('df-5dcc5f2f-52c4-4471-8fd8-ff28992f3332')\"\n",
              "              title=\"Convert this dataframe to an interactive table.\"\n",
              "              style=\"display:none;\">\n",
              "        \n",
              "  <svg xmlns=\"http://www.w3.org/2000/svg\" height=\"24px\"viewBox=\"0 0 24 24\"\n",
              "       width=\"24px\">\n",
              "    <path d=\"M0 0h24v24H0V0z\" fill=\"none\"/>\n",
              "    <path d=\"M18.56 5.44l.94 2.06.94-2.06 2.06-.94-2.06-.94-.94-2.06-.94 2.06-2.06.94zm-11 1L8.5 8.5l.94-2.06 2.06-.94-2.06-.94L8.5 2.5l-.94 2.06-2.06.94zm10 10l.94 2.06.94-2.06 2.06-.94-2.06-.94-.94-2.06-.94 2.06-2.06.94z\"/><path d=\"M17.41 7.96l-1.37-1.37c-.4-.4-.92-.59-1.43-.59-.52 0-1.04.2-1.43.59L10.3 9.45l-7.72 7.72c-.78.78-.78 2.05 0 2.83L4 21.41c.39.39.9.59 1.41.59.51 0 1.02-.2 1.41-.59l7.78-7.78 2.81-2.81c.8-.78.8-2.07 0-2.86zM5.41 20L4 18.59l7.72-7.72 1.47 1.35L5.41 20z\"/>\n",
              "  </svg>\n",
              "      </button>\n",
              "      \n",
              "  <style>\n",
              "    .colab-df-container {\n",
              "      display:flex;\n",
              "      flex-wrap:wrap;\n",
              "      gap: 12px;\n",
              "    }\n",
              "\n",
              "    .colab-df-convert {\n",
              "      background-color: #E8F0FE;\n",
              "      border: none;\n",
              "      border-radius: 50%;\n",
              "      cursor: pointer;\n",
              "      display: none;\n",
              "      fill: #1967D2;\n",
              "      height: 32px;\n",
              "      padding: 0 0 0 0;\n",
              "      width: 32px;\n",
              "    }\n",
              "\n",
              "    .colab-df-convert:hover {\n",
              "      background-color: #E2EBFA;\n",
              "      box-shadow: 0px 1px 2px rgba(60, 64, 67, 0.3), 0px 1px 3px 1px rgba(60, 64, 67, 0.15);\n",
              "      fill: #174EA6;\n",
              "    }\n",
              "\n",
              "    [theme=dark] .colab-df-convert {\n",
              "      background-color: #3B4455;\n",
              "      fill: #D2E3FC;\n",
              "    }\n",
              "\n",
              "    [theme=dark] .colab-df-convert:hover {\n",
              "      background-color: #434B5C;\n",
              "      box-shadow: 0px 1px 3px 1px rgba(0, 0, 0, 0.15);\n",
              "      filter: drop-shadow(0px 1px 2px rgba(0, 0, 0, 0.3));\n",
              "      fill: #FFFFFF;\n",
              "    }\n",
              "  </style>\n",
              "\n",
              "      <script>\n",
              "        const buttonEl =\n",
              "          document.querySelector('#df-5dcc5f2f-52c4-4471-8fd8-ff28992f3332 button.colab-df-convert');\n",
              "        buttonEl.style.display =\n",
              "          google.colab.kernel.accessAllowed ? 'block' : 'none';\n",
              "\n",
              "        async function convertToInteractive(key) {\n",
              "          const element = document.querySelector('#df-5dcc5f2f-52c4-4471-8fd8-ff28992f3332');\n",
              "          const dataTable =\n",
              "            await google.colab.kernel.invokeFunction('convertToInteractive',\n",
              "                                                     [key], {});\n",
              "          if (!dataTable) return;\n",
              "\n",
              "          const docLinkHtml = 'Like what you see? Visit the ' +\n",
              "            '<a target=\"_blank\" href=https://colab.research.google.com/notebooks/data_table.ipynb>data table notebook</a>'\n",
              "            + ' to learn more about interactive tables.';\n",
              "          element.innerHTML = '';\n",
              "          dataTable['output_type'] = 'display_data';\n",
              "          await google.colab.output.renderOutput(dataTable, element);\n",
              "          const docLink = document.createElement('div');\n",
              "          docLink.innerHTML = docLinkHtml;\n",
              "          element.appendChild(docLink);\n",
              "        }\n",
              "      </script>\n",
              "    </div>\n",
              "  </div>\n",
              "  "
            ]
          },
          "metadata": {},
          "execution_count": 22
        }
      ],
      "source": [
        "df_test = pd.DataFrame()\n",
        "df_test['True Gender'] = data['Gender']\n",
        "df_test['Pred Gender'] = data.apply(lambda x: male_female(x['Weight'] , x['Height']), axis=1)\n",
        "df_test.head(10)"
      ]
    },
    {
      "cell_type": "markdown",
      "metadata": {
        "id": "iSpdMvJc_nxn"
      },
      "source": [
        "Show confusion matrix."
      ]
    },
    {
      "cell_type": "code",
      "execution_count": null,
      "metadata": {
        "colab": {
          "base_uri": "https://localhost:8080/",
          "height": 265
        },
        "id": "SzjWgEwm_nxn",
        "outputId": "a88a0f5b-6856-45ef-af87-c764f7eabc75"
      },
      "outputs": [
        {
          "output_type": "display_data",
          "data": {
            "text/plain": [
              "<Figure size 432x288 with 2 Axes>"
            ],
            "image/png": "[encoded data removed]"
          },
          "metadata": {
            "needs_background": "light"
          }
        }
      ],
      "source": [
        "cf_matrix = confusion_matrix(df_test.iloc[:, 0].values.reshape(-1, 1) , df_test.iloc[:, 1].values.reshape(-1, 1)) \n",
        "df_cm = pd.DataFrame(cf_matrix, range(2), range(2))\n",
        "sn.heatmap(df_cm, annot=True)\n",
        "plt.show()"
      ]
    },
    {
      "cell_type": "markdown",
      "source": [
        "<font color='red'>Tasks 3:</font> \n",
        "\n",
        "1. What is the problem with training and validating the model using the same datapoints?\n",
        "2. How could we mitigate this problem?\n"
      ],
      "metadata": {
        "id": "cIxNm_Vxrh5S"
      }
    },
    {
      "cell_type": "markdown",
      "source": [
        "<font color='blue'>Answers 3:</font> \n",
        "1. Your answer ...\n",
        "2. Your answer ..."
      ],
      "metadata": {
        "id": "vD9GzSicscSP"
      }
    },
    {
      "cell_type": "markdown",
      "metadata": {
        "id": "qztGwDdX_nxn"
      },
      "source": [
        "### Use the univariate Classification Models for Anomaly Detection"
      ]
    },
    {
      "cell_type": "markdown",
      "metadata": {
        "id": "BAWiKkXQ_nxo"
      },
      "source": [
        "Use the trained classification models to check whether (s)he is over- or underweighted. We check how likely it is to find another person of the same gender with a equal or lower weight (in percent). "
      ]
    },
    {
      "cell_type": "markdown",
      "source": [
        "This is unsuperwised learning as we do not have used any ground truth on what should be considered over- or underweight."
      ],
      "metadata": {
        "id": "rDPf_j4btkdh"
      }
    },
    {
      "cell_type": "code",
      "execution_count": null,
      "metadata": {
        "colab": {
          "base_uri": "https://localhost:8080/"
        },
        "id": "Xc_qXuAq_nxo",
        "outputId": "1770b308-d981-4ac1-c18f-66435ba59978"
      },
      "outputs": [
        {
          "output_type": "execute_result",
          "data": {
            "text/plain": [
              "4.915548866297606"
            ]
          },
          "metadata": {},
          "execution_count": 24
        }
      ],
      "source": [
        "def percentile_weight(male, x):\n",
        "    if male:\n",
        "        return norm.cdf(x, mu_W_m, sigma_W_m)\n",
        "    else:\n",
        "        return norm.cdf(x, mu_W_f, sigma_W_f)\n",
        "\n",
        "welfs_percentile_weight = percentile_weight(True,welfs_act_weight)*100\n",
        "welfs_percentile_weight"
      ]
    },
    {
      "cell_type": "markdown",
      "source": [
        "The probability of male weighting less than Welf is estimated to be ca 5%. Unlikely that he is overweight. "
      ],
      "metadata": {
        "id": "bykv9rnis6Gm"
      }
    },
    {
      "cell_type": "markdown",
      "metadata": {
        "id": "SFM5cc3s_nxo"
      },
      "source": [
        "<font color='red'>Tasks 4:</font> \n",
        "\n",
        "Pick your own (or a fictive person's) gender, weight, and height. Then\n",
        "1. Use the regression models to predict the person's weight based on his/her height and gender.\n",
        "2. Use the classification models for classifying whether the person is likely to be (fe-)male based on weight and height.\n",
        "3. Use the classification models to check whether (s)he is over- or underweight. Explain why this is a very naive (error prone) approach. "
      ]
    },
    {
      "cell_type": "markdown",
      "source": [
        "<font color='blue'>Answers 4:</font> \n",
        "1. Your answer ...\n",
        "2. Your answer ...\n",
        "3. Your answer ...\n"
      ],
      "metadata": {
        "id": "vbW0WSUFsewe"
      }
    },
    {
      "cell_type": "markdown",
      "source": [
        "### Advanced: Use a Bi-variate Normal Distribution Model for Anomaly Detection"
      ],
      "metadata": {
        "id": "7juhm5wuuFZz"
      }
    },
    {
      "cell_type": "markdown",
      "source": [
        "This above approach is maybe too naive to be reasonably considered. "
      ],
      "metadata": {
        "id": "2i1KgVEOtNFh"
      }
    },
    {
      "cell_type": "markdown",
      "source": [
        "However, under the Naive Bayesian assumption that height and weight are independent of each other, we have already learnd two bi-variate joint Normal distributions--two models, one for men and one for women--that can be described by the respective weight and height means and standard deviations.\n",
        "\n",
        "We recall from statistics that the variance of such a distribution is its squared standard deviation and that the co-variance of two independent distributions is zero.\n",
        "\n",
        "This allows us to plot (a sample of) the learned joint distributions."
      ],
      "metadata": {
        "id": "dW0ObtUXyl_o"
      }
    },
    {
      "cell_type": "code",
      "source": [
        "mu_m = [mu_H_m, mu_W_m]\n",
        "cov_m = np.array([[sigma_H_m**2, 0], [0, sigma_W_m**2]])\n",
        "pts_m = np.random.multivariate_normal(mu_m, cov_m, size=500)\n",
        "\n",
        "mu_f = [mu_H_f, mu_W_f]\n",
        "cov_f = np.array([[sigma_H_f**2, 0], [0, sigma_W_f**2]])\n",
        "pts_f = np.random.multivariate_normal(mu_f, cov_m, size=500)"
      ],
      "metadata": {
        "id": "L8XtAg_ttHdJ"
      },
      "execution_count": null,
      "outputs": []
    },
    {
      "cell_type": "code",
      "source": [
        "def plot_bivariate(all_pts, person):\n",
        "  pts = all_pts[0]\n",
        "  plt.plot(pts[:, 0], pts[:, 1], '.', alpha=0.3, color ='b')\n",
        "  pts = all_pts[1]\n",
        "  plt.plot(pts[:, 0], pts[:, 1], '.', alpha=0.3, color ='r')\n",
        "  plt.plot(person[0], person[1], '+', color ='k')\n",
        "  plt.axis('equal')\n",
        "  plt.grid()\n",
        "  plt.show()"
      ],
      "metadata": {
        "id": "bII5SV3jvRyr"
      },
      "execution_count": null,
      "outputs": []
    },
    {
      "cell_type": "code",
      "source": [
        "welf = [welfs_act_height, welfs_act_weight]\n",
        "plot_bivariate([pts_m, pts_f], welf)"
      ],
      "metadata": {
        "colab": {
          "base_uri": "https://localhost:8080/",
          "height": 265
        },
        "id": "DAx1qHX4vjkQ",
        "outputId": "e72ec47e-b0d5-4428-c86e-85e2ac9e2d58"
      },
      "execution_count": null,
      "outputs": [
        {
          "output_type": "display_data",
          "data": {
            "text/plain": [
              "<Figure size 432x288 with 1 Axes>"
            ],
            "image/png": "[encoded data removed]"
          },
          "metadata": {
            "needs_background": "light"
          }
        }
      ]
    },
    {
      "cell_type": "markdown",
      "source": [
        "The black cross marks a concrete person's weight and height, here Welf's."
      ],
      "metadata": {
        "id": "tOLjr3KsRniX"
      }
    },
    {
      "cell_type": "markdown",
      "source": [
        "From the joint distribution of the right gender, we can derive the so-called conditional distributions, given a concrte height of a person. These conditional distributions are univariat Normal distributions, if the joint distribution was a multivariate Normal distribution. \n",
        "\n",
        "For instance, given Welf's height of $170$ cm, we can derive a distribution of weights of men with the same height. Recall that such a Normal distribution is uniquly defined my its mean $\\mu_{w|h=h_0}$ and standard deviation $\\sigma_{w|h=h_0}$, with $h_0$ the hight condition, e.g., $170$ cm. \n",
        "\n",
        "For our bi-variate Normal distributions it is \n",
        "\n",
        "$\\mu_{w|h=h_0} = \\mu_w + \\frac{\\mathit{cov}_{h,w} (h_0-\\mu_h)}{\\sigma_h^2}$\n",
        "\n",
        "$\\sigma_{w|h=h_0}=  \\sqrt{\\sigma_w^2 - \\frac{\\mathit{cov}_{h,w}^2}{\\sigma_h^2}}$\n",
        "\n",
        "with $\\mathit{cov}_{h,w}$ the covariance of height and weight, and ${\\sigma_h^2},{\\sigma_w^2}$ the variances of height and weight, resp.\n",
        "\n",
        "In the special case of independent distributions of height and weight, the so-called marginal distributions, we have $\\mathit{cov}_{h,w}=0$. Easy calculations show that in this case $\\mu_{w|h=h_0}= \\mu_w$ and $\\sigma_{w|h=h_0}= \\sigma_w$, i.e., the conditional distributions are exactly the marginal distributions."
      ],
      "metadata": {
        "id": "G5tfjAHRRzE9"
      }
    },
    {
      "cell_type": "markdown",
      "source": [
        "The function below for drawing joint and conditional dristributions was adopted from [here](https://peterroelants.github.io/posts/multivariate-normal-primer/). More general discussions (and code) on joint and conditional multivatiate Normal distributions are available [here](https://python.quantecon.org/multivariate_normal.html)."
      ],
      "metadata": {
        "id": "8s8azfwm8STc"
      }
    },
    {
      "cell_type": "code",
      "source": [
        "import matplotlib.gridspec as gridspec\n",
        "from mpl_toolkits.axes_grid1 import make_axes_locatable\n",
        "\n",
        "def plot_conditional_distributions(mean, cov, condition):\n",
        "  # Get the mean values from the vector\n",
        "  mean_x = mean[0]\n",
        "  mean_y = mean[1]\n",
        "  # Get the values from the covariance matrix\n",
        "  A = cov[0, 0]\n",
        "  B = cov[1, 1]\n",
        "  C = cov[0, 1] \n",
        "\n",
        "  # Calculate x|y\n",
        "  y_condition = condition[1]  # To condition on y\n",
        "  mean_xgiveny = mean_x + (C * (1/B) * (y_condition - mean_y))\n",
        "  cov_xgiveny = A - C * (1/B) * C\n",
        "\n",
        "  # Calculate y|x\n",
        "  x_condition = condition[0]  # To condition on x\n",
        "  mean_ygivenx = mean_y + (C * (1/A) * (x_condition - mean_x))\n",
        "  cov_ygivenx = B - (C * (1/A) * C)\n",
        "\n",
        "  # Plot the conditional distributions\n",
        "  fig = plt.figure(figsize=(10, 10))\n",
        "  gs = gridspec.GridSpec(2, 2, width_ratios=[2, 1], height_ratios=[2, 1])\n",
        "  plt.suptitle('Conditional distributions', y=0.93)\n",
        "\n",
        "  # Plot surface on top left\n",
        "  ax1 = plt.subplot(gs[0])\n",
        "  x, y = np.mgrid[0:200:1, 0:200:1] \n",
        "  pos = np.dstack((x, y))\n",
        "  rv = multivariate_normal(mean, cov)\n",
        "  con = ax1.contourf(x, y, rv.pdf(pos), 33) \n",
        "  # y is conditioned upon\n",
        "  ax1.plot([150, 200], [y_condition, y_condition], 'r--')\n",
        "  # x is conditioned upon\n",
        "  ax1.plot([x_condition, x_condition], [60, 110], 'b--')\n",
        "  ax1.set_xlabel('height', fontsize=13)\n",
        "  ax1.set_ylabel('weight', fontsize=13)\n",
        "  ax1.yaxis.set_label_position('right')\n",
        "  ax1.axis([150,200, 60, 110])\n",
        "\n",
        "  # Plot y|x\n",
        "  ax2 = plt.subplot(gs[1])\n",
        "  yx = np.linspace(0, 200, num=200)\n",
        "  pyx = norm.pdf(yx, mean_ygivenx, np.sqrt(cov_ygivenx))\n",
        "  # Plot univariate distribution\n",
        "  ax2.plot(pyx, yx, 'b--', label=f'$p(w|h={x_condition:.1f})$')\n",
        "  ax2.grid()\n",
        "  ax2.legend(loc=0)\n",
        "  ax2.set_xlabel('density', fontsize=13)\n",
        "  ax2.set_ylim(60, 110)\n",
        "\n",
        "  # Plot x|y\n",
        "  ax3 = plt.subplot(gs[2])\n",
        "  xy = np.linspace(0, 200, num=200)\n",
        "  pxy = norm.pdf(xy, mean_xgiveny, np.sqrt(cov_xgiveny))\n",
        "  # Plot univariate distribution\n",
        "  ax3.plot(xy, pxy, 'r--', label=f'$p(h|w={y_condition:.1f})$')\n",
        "  ax3.grid()\n",
        "  ax3.legend(loc=0)\n",
        "  ax3.set_ylabel('density', fontsize=13)\n",
        "  ax3.yaxis.set_label_position('right')\n",
        "  ax3.set_xlim(150, 200)\n",
        "\n",
        "  # Clear axis 4 and plot colarbar in its place\n",
        "  ax4 = plt.subplot(gs[3])\n",
        "  ax4.set_visible(False)\n",
        "  divider = make_axes_locatable(ax4)\n",
        "  cax = divider.append_axes('left', size='20%', pad=0.05)\n",
        "  cbar = fig.colorbar(con, cax=cax)\n",
        "  cbar.ax.set_ylabel('density: $p(h, w)$', fontsize=13)\n",
        "  plt.show()\n",
        "\n",
        "  return mean_xgiveny, np.sqrt(cov_xgiveny), mean_ygivenx, np.sqrt(cov_ygivenx)"
      ],
      "metadata": {
        "id": "Lli_PJrx6scl"
      },
      "execution_count": null,
      "outputs": []
    },
    {
      "cell_type": "markdown",
      "source": [
        "Here a plot and the parameters of the conditional distributions models given Welf's hight and weight. Compare the mean $\\mu_{w|h=h_0}$ and standard deviation $\\sigma_{w|h=h_0}$ (printed below the plot) with the male population's mean and standard deviation derived earlier."
      ],
      "metadata": {
        "id": "MYqbIOTUVvff"
      }
    },
    {
      "cell_type": "code",
      "source": [
        "plot_conditional_distributions(np.array(mu_m), cov_m, welf)"
      ],
      "metadata": {
        "colab": {
          "base_uri": "https://localhost:8080/",
          "height": 645
        },
        "id": "xm5nUf-u-Ngh",
        "outputId": "63f7de6f-613a-4dd2-bd53-7e0a5c83b163"
      },
      "execution_count": null,
      "outputs": [
        {
          "output_type": "display_data",
          "data": {
            "text/plain": [
              "<Figure size 720x720 with 5 Axes>"
            ],
            "image/png": "[encoded data removed]"
          },
          "metadata": {
            "needs_background": "light"
          }
        },
        {
          "output_type": "execute_result",
          "data": {
            "text/plain": [
              "(175.32691860193597, 7.272212730459375, 84.83105736611134, 8.971676137452457)"
            ]
          },
          "metadata": {},
          "execution_count": 29
        }
      ]
    },
    {
      "cell_type": "markdown",
      "source": [
        "But that was our initial (too) naive approach: we looked at the propability distributions regardless of the person's weight.\n",
        "\n",
        "To do better, we need to learn an additional model parameter: the correlation between the two variables for males and females, resp., or to conveniently enter into the $\\verb|plot_marginal_distributions|$ function, the covariance matrix."
      ],
      "metadata": {
        "id": "62tD2EABXSXK"
      }
    },
    {
      "cell_type": "markdown",
      "source": [
        "We get both calculated (\"learned\") as part of the pandas dataframe package that we use to capture the data."
      ],
      "metadata": {
        "id": "gTn-5393Xgsp"
      }
    },
    {
      "cell_type": "code",
      "source": [
        "males.corr()"
      ],
      "metadata": {
        "colab": {
          "base_uri": "https://localhost:8080/",
          "height": 112
        },
        "id": "dhEhySejcBGU",
        "outputId": "2dd46db6-6194-454a-de9b-c630aa3a982b"
      },
      "execution_count": null,
      "outputs": [
        {
          "output_type": "execute_result",
          "data": {
            "text/plain": [
              "          Height    Weight\n",
              "Height  1.000000  0.862979\n",
              "Weight  0.862979  1.000000"
            ],
            "text/html": [
              "\n",
              "  <div id=\"df-1dc0f679-8233-46f1-98d3-6974c0180226\">\n",
              "    <div class=\"colab-df-container\">\n",
              "      <div>\n",
              "<style scoped>\n",
              "    .dataframe tbody tr th:only-of-type {\n",
              "        vertical-align: middle;\n",
              "    }\n",
              "\n",
              "    .dataframe tbody tr th {\n",
              "        vertical-align: top;\n",
              "    }\n",
              "\n",
              "    .dataframe thead th {\n",
              "        text-align: right;\n",
              "    }\n",
              "</style>\n",
              "<table border=\"1\" class=\"dataframe\">\n",
              "  <thead>\n",
              "    <tr style=\"text-align: right;\">\n",
              "      <th></th>\n",
              "      <th>Height</th>\n",
              "      <th>Weight</th>\n",
              "    </tr>\n",
              "  </thead>\n",
              "  <tbody>\n",
              "    <tr>\n",
              "      <th>Height</th>\n",
              "      <td>1.000000</td>\n",
              "      <td>0.862979</td>\n",
              "    </tr>\n",
              "    <tr>\n",
              "      <th>Weight</th>\n",
              "      <td>0.862979</td>\n",
              "      <td>1.000000</td>\n",
              "    </tr>\n",
              "  </tbody>\n",
              "</table>\n",
              "</div>\n",
              "      <button class=\"colab-df-convert\" onclick=\"convertToInteractive('df-1dc0f679-8233-46f1-98d3-6974c0180226')\"\n",
              "              title=\"Convert this dataframe to an interactive table.\"\n",
              "              style=\"display:none;\">\n",
              "        \n",
              "  <svg xmlns=\"http://www.w3.org/2000/svg\" height=\"24px\"viewBox=\"0 0 24 24\"\n",
              "       width=\"24px\">\n",
              "    <path d=\"M0 0h24v24H0V0z\" fill=\"none\"/>\n",
              "    <path d=\"M18.56 5.44l.94 2.06.94-2.06 2.06-.94-2.06-.94-.94-2.06-.94 2.06-2.06.94zm-11 1L8.5 8.5l.94-2.06 2.06-.94-2.06-.94L8.5 2.5l-.94 2.06-2.06.94zm10 10l.94 2.06.94-2.06 2.06-.94-2.06-.94-.94-2.06-.94 2.06-2.06.94z\"/><path d=\"M17.41 7.96l-1.37-1.37c-.4-.4-.92-.59-1.43-.59-.52 0-1.04.2-1.43.59L10.3 9.45l-7.72 7.72c-.78.78-.78 2.05 0 2.83L4 21.41c.39.39.9.59 1.41.59.51 0 1.02-.2 1.41-.59l7.78-7.78 2.81-2.81c.8-.78.8-2.07 0-2.86zM5.41 20L4 18.59l7.72-7.72 1.47 1.35L5.41 20z\"/>\n",
              "  </svg>\n",
              "      </button>\n",
              "      \n",
              "  <style>\n",
              "    .colab-df-container {\n",
              "      display:flex;\n",
              "      flex-wrap:wrap;\n",
              "      gap: 12px;\n",
              "    }\n",
              "\n",
              "    .colab-df-convert {\n",
              "      background-color: #E8F0FE;\n",
              "      border: none;\n",
              "      border-radius: 50%;\n",
              "      cursor: pointer;\n",
              "      display: none;\n",
              "      fill: #1967D2;\n",
              "      height: 32px;\n",
              "      padding: 0 0 0 0;\n",
              "      width: 32px;\n",
              "    }\n",
              "\n",
              "    .colab-df-convert:hover {\n",
              "      background-color: #E2EBFA;\n",
              "      box-shadow: 0px 1px 2px rgba(60, 64, 67, 0.3), 0px 1px 3px 1px rgba(60, 64, 67, 0.15);\n",
              "      fill: #174EA6;\n",
              "    }\n",
              "\n",
              "    [theme=dark] .colab-df-convert {\n",
              "      background-color: #3B4455;\n",
              "      fill: #D2E3FC;\n",
              "    }\n",
              "\n",
              "    [theme=dark] .colab-df-convert:hover {\n",
              "      background-color: #434B5C;\n",
              "      box-shadow: 0px 1px 3px 1px rgba(0, 0, 0, 0.15);\n",
              "      filter: drop-shadow(0px 1px 2px rgba(0, 0, 0, 0.3));\n",
              "      fill: #FFFFFF;\n",
              "    }\n",
              "  </style>\n",
              "\n",
              "      <script>\n",
              "        const buttonEl =\n",
              "          document.querySelector('#df-1dc0f679-8233-46f1-98d3-6974c0180226 button.colab-df-convert');\n",
              "        buttonEl.style.display =\n",
              "          google.colab.kernel.accessAllowed ? 'block' : 'none';\n",
              "\n",
              "        async function convertToInteractive(key) {\n",
              "          const element = document.querySelector('#df-1dc0f679-8233-46f1-98d3-6974c0180226');\n",
              "          const dataTable =\n",
              "            await google.colab.kernel.invokeFunction('convertToInteractive',\n",
              "                                                     [key], {});\n",
              "          if (!dataTable) return;\n",
              "\n",
              "          const docLinkHtml = 'Like what you see? Visit the ' +\n",
              "            '<a target=\"_blank\" href=https://colab.research.google.com/notebooks/data_table.ipynb>data table notebook</a>'\n",
              "            + ' to learn more about interactive tables.';\n",
              "          element.innerHTML = '';\n",
              "          dataTable['output_type'] = 'display_data';\n",
              "          await google.colab.output.renderOutput(dataTable, element);\n",
              "          const docLink = document.createElement('div');\n",
              "          docLink.innerHTML = docLinkHtml;\n",
              "          element.appendChild(docLink);\n",
              "        }\n",
              "      </script>\n",
              "    </div>\n",
              "  </div>\n",
              "  "
            ]
          },
          "metadata": {},
          "execution_count": 30
        }
      ]
    },
    {
      "cell_type": "code",
      "source": [
        "males.cov()"
      ],
      "metadata": {
        "colab": {
          "base_uri": "https://localhost:8080/",
          "height": 112
        },
        "id": "Qzw_RUoEYm4D",
        "outputId": "81355e73-8941-466e-f0c9-722f74219756"
      },
      "execution_count": null,
      "outputs": [
        {
          "output_type": "execute_result",
          "data": {
            "text/plain": [
              "           Height     Weight\n",
              "Height  52.895657  56.315401\n",
              "Weight  56.315401  80.507074"
            ],
            "text/html": [
              "\n",
              "  <div id=\"df-ad105a1b-742c-4035-9e6d-3490cc06222b\">\n",
              "    <div class=\"colab-df-container\">\n",
              "      <div>\n",
              "<style scoped>\n",
              "    .dataframe tbody tr th:only-of-type {\n",
              "        vertical-align: middle;\n",
              "    }\n",
              "\n",
              "    .dataframe tbody tr th {\n",
              "        vertical-align: top;\n",
              "    }\n",
              "\n",
              "    .dataframe thead th {\n",
              "        text-align: right;\n",
              "    }\n",
              "</style>\n",
              "<table border=\"1\" class=\"dataframe\">\n",
              "  <thead>\n",
              "    <tr style=\"text-align: right;\">\n",
              "      <th></th>\n",
              "      <th>Height</th>\n",
              "      <th>Weight</th>\n",
              "    </tr>\n",
              "  </thead>\n",
              "  <tbody>\n",
              "    <tr>\n",
              "      <th>Height</th>\n",
              "      <td>52.895657</td>\n",
              "      <td>56.315401</td>\n",
              "    </tr>\n",
              "    <tr>\n",
              "      <th>Weight</th>\n",
              "      <td>56.315401</td>\n",
              "      <td>80.507074</td>\n",
              "    </tr>\n",
              "  </tbody>\n",
              "</table>\n",
              "</div>\n",
              "      <button class=\"colab-df-convert\" onclick=\"convertToInteractive('df-ad105a1b-742c-4035-9e6d-3490cc06222b')\"\n",
              "              title=\"Convert this dataframe to an interactive table.\"\n",
              "              style=\"display:none;\">\n",
              "        \n",
              "  <svg xmlns=\"http://www.w3.org/2000/svg\" height=\"24px\"viewBox=\"0 0 24 24\"\n",
              "       width=\"24px\">\n",
              "    <path d=\"M0 0h24v24H0V0z\" fill=\"none\"/>\n",
              "    <path d=\"M18.56 5.44l.94 2.06.94-2.06 2.06-.94-2.06-.94-.94-2.06-.94 2.06-2.06.94zm-11 1L8.5 8.5l.94-2.06 2.06-.94-2.06-.94L8.5 2.5l-.94 2.06-2.06.94zm10 10l.94 2.06.94-2.06 2.06-.94-2.06-.94-.94-2.06-.94 2.06-2.06.94z\"/><path d=\"M17.41 7.96l-1.37-1.37c-.4-.4-.92-.59-1.43-.59-.52 0-1.04.2-1.43.59L10.3 9.45l-7.72 7.72c-.78.78-.78 2.05 0 2.83L4 21.41c.39.39.9.59 1.41.59.51 0 1.02-.2 1.41-.59l7.78-7.78 2.81-2.81c.8-.78.8-2.07 0-2.86zM5.41 20L4 18.59l7.72-7.72 1.47 1.35L5.41 20z\"/>\n",
              "  </svg>\n",
              "      </button>\n",
              "      \n",
              "  <style>\n",
              "    .colab-df-container {\n",
              "      display:flex;\n",
              "      flex-wrap:wrap;\n",
              "      gap: 12px;\n",
              "    }\n",
              "\n",
              "    .colab-df-convert {\n",
              "      background-color: #E8F0FE;\n",
              "      border: none;\n",
              "      border-radius: 50%;\n",
              "      cursor: pointer;\n",
              "      display: none;\n",
              "      fill: #1967D2;\n",
              "      height: 32px;\n",
              "      padding: 0 0 0 0;\n",
              "      width: 32px;\n",
              "    }\n",
              "\n",
              "    .colab-df-convert:hover {\n",
              "      background-color: #E2EBFA;\n",
              "      box-shadow: 0px 1px 2px rgba(60, 64, 67, 0.3), 0px 1px 3px 1px rgba(60, 64, 67, 0.15);\n",
              "      fill: #174EA6;\n",
              "    }\n",
              "\n",
              "    [theme=dark] .colab-df-convert {\n",
              "      background-color: #3B4455;\n",
              "      fill: #D2E3FC;\n",
              "    }\n",
              "\n",
              "    [theme=dark] .colab-df-convert:hover {\n",
              "      background-color: #434B5C;\n",
              "      box-shadow: 0px 1px 3px 1px rgba(0, 0, 0, 0.15);\n",
              "      filter: drop-shadow(0px 1px 2px rgba(0, 0, 0, 0.3));\n",
              "      fill: #FFFFFF;\n",
              "    }\n",
              "  </style>\n",
              "\n",
              "      <script>\n",
              "        const buttonEl =\n",
              "          document.querySelector('#df-ad105a1b-742c-4035-9e6d-3490cc06222b button.colab-df-convert');\n",
              "        buttonEl.style.display =\n",
              "          google.colab.kernel.accessAllowed ? 'block' : 'none';\n",
              "\n",
              "        async function convertToInteractive(key) {\n",
              "          const element = document.querySelector('#df-ad105a1b-742c-4035-9e6d-3490cc06222b');\n",
              "          const dataTable =\n",
              "            await google.colab.kernel.invokeFunction('convertToInteractive',\n",
              "                                                     [key], {});\n",
              "          if (!dataTable) return;\n",
              "\n",
              "          const docLinkHtml = 'Like what you see? Visit the ' +\n",
              "            '<a target=\"_blank\" href=https://colab.research.google.com/notebooks/data_table.ipynb>data table notebook</a>'\n",
              "            + ' to learn more about interactive tables.';\n",
              "          element.innerHTML = '';\n",
              "          dataTable['output_type'] = 'display_data';\n",
              "          await google.colab.output.renderOutput(dataTable, element);\n",
              "          const docLink = document.createElement('div');\n",
              "          docLink.innerHTML = docLinkHtml;\n",
              "          element.appendChild(docLink);\n",
              "        }\n",
              "      </script>\n",
              "    </div>\n",
              "  </div>\n",
              "  "
            ]
          },
          "metadata": {},
          "execution_count": 31
        }
      ]
    },
    {
      "cell_type": "code",
      "source": [
        "females.corr()"
      ],
      "metadata": {
        "colab": {
          "base_uri": "https://localhost:8080/",
          "height": 112
        },
        "id": "wwoxRmBLalYp",
        "outputId": "a5a3be04-e755-41e8-a6b0-c8f8e1bd2e36"
      },
      "execution_count": null,
      "outputs": [
        {
          "output_type": "execute_result",
          "data": {
            "text/plain": [
              "          Height    Weight\n",
              "Height  1.000000  0.849609\n",
              "Weight  0.849609  1.000000"
            ],
            "text/html": [
              "\n",
              "  <div id=\"df-d8ecdd08-789e-426a-81b8-73ce6bd255ad\">\n",
              "    <div class=\"colab-df-container\">\n",
              "      <div>\n",
              "<style scoped>\n",
              "    .dataframe tbody tr th:only-of-type {\n",
              "        vertical-align: middle;\n",
              "    }\n",
              "\n",
              "    .dataframe tbody tr th {\n",
              "        vertical-align: top;\n",
              "    }\n",
              "\n",
              "    .dataframe thead th {\n",
              "        text-align: right;\n",
              "    }\n",
              "</style>\n",
              "<table border=\"1\" class=\"dataframe\">\n",
              "  <thead>\n",
              "    <tr style=\"text-align: right;\">\n",
              "      <th></th>\n",
              "      <th>Height</th>\n",
              "      <th>Weight</th>\n",
              "    </tr>\n",
              "  </thead>\n",
              "  <tbody>\n",
              "    <tr>\n",
              "      <th>Height</th>\n",
              "      <td>1.000000</td>\n",
              "      <td>0.849609</td>\n",
              "    </tr>\n",
              "    <tr>\n",
              "      <th>Weight</th>\n",
              "      <td>0.849609</td>\n",
              "      <td>1.000000</td>\n",
              "    </tr>\n",
              "  </tbody>\n",
              "</table>\n",
              "</div>\n",
              "      <button class=\"colab-df-convert\" onclick=\"convertToInteractive('df-d8ecdd08-789e-426a-81b8-73ce6bd255ad')\"\n",
              "              title=\"Convert this dataframe to an interactive table.\"\n",
              "              style=\"display:none;\">\n",
              "        \n",
              "  <svg xmlns=\"http://www.w3.org/2000/svg\" height=\"24px\"viewBox=\"0 0 24 24\"\n",
              "       width=\"24px\">\n",
              "    <path d=\"M0 0h24v24H0V0z\" fill=\"none\"/>\n",
              "    <path d=\"M18.56 5.44l.94 2.06.94-2.06 2.06-.94-2.06-.94-.94-2.06-.94 2.06-2.06.94zm-11 1L8.5 8.5l.94-2.06 2.06-.94-2.06-.94L8.5 2.5l-.94 2.06-2.06.94zm10 10l.94 2.06.94-2.06 2.06-.94-2.06-.94-.94-2.06-.94 2.06-2.06.94z\"/><path d=\"M17.41 7.96l-1.37-1.37c-.4-.4-.92-.59-1.43-.59-.52 0-1.04.2-1.43.59L10.3 9.45l-7.72 7.72c-.78.78-.78 2.05 0 2.83L4 21.41c.39.39.9.59 1.41.59.51 0 1.02-.2 1.41-.59l7.78-7.78 2.81-2.81c.8-.78.8-2.07 0-2.86zM5.41 20L4 18.59l7.72-7.72 1.47 1.35L5.41 20z\"/>\n",
              "  </svg>\n",
              "      </button>\n",
              "      \n",
              "  <style>\n",
              "    .colab-df-container {\n",
              "      display:flex;\n",
              "      flex-wrap:wrap;\n",
              "      gap: 12px;\n",
              "    }\n",
              "\n",
              "    .colab-df-convert {\n",
              "      background-color: #E8F0FE;\n",
              "      border: none;\n",
              "      border-radius: 50%;\n",
              "      cursor: pointer;\n",
              "      display: none;\n",
              "      fill: #1967D2;\n",
              "      height: 32px;\n",
              "      padding: 0 0 0 0;\n",
              "      width: 32px;\n",
              "    }\n",
              "\n",
              "    .colab-df-convert:hover {\n",
              "      background-color: #E2EBFA;\n",
              "      box-shadow: 0px 1px 2px rgba(60, 64, 67, 0.3), 0px 1px 3px 1px rgba(60, 64, 67, 0.15);\n",
              "      fill: #174EA6;\n",
              "    }\n",
              "\n",
              "    [theme=dark] .colab-df-convert {\n",
              "      background-color: #3B4455;\n",
              "      fill: #D2E3FC;\n",
              "    }\n",
              "\n",
              "    [theme=dark] .colab-df-convert:hover {\n",
              "      background-color: #434B5C;\n",
              "      box-shadow: 0px 1px 3px 1px rgba(0, 0, 0, 0.15);\n",
              "      filter: drop-shadow(0px 1px 2px rgba(0, 0, 0, 0.3));\n",
              "      fill: #FFFFFF;\n",
              "    }\n",
              "  </style>\n",
              "\n",
              "      <script>\n",
              "        const buttonEl =\n",
              "          document.querySelector('#df-d8ecdd08-789e-426a-81b8-73ce6bd255ad button.colab-df-convert');\n",
              "        buttonEl.style.display =\n",
              "          google.colab.kernel.accessAllowed ? 'block' : 'none';\n",
              "\n",
              "        async function convertToInteractive(key) {\n",
              "          const element = document.querySelector('#df-d8ecdd08-789e-426a-81b8-73ce6bd255ad');\n",
              "          const dataTable =\n",
              "            await google.colab.kernel.invokeFunction('convertToInteractive',\n",
              "                                                     [key], {});\n",
              "          if (!dataTable) return;\n",
              "\n",
              "          const docLinkHtml = 'Like what you see? Visit the ' +\n",
              "            '<a target=\"_blank\" href=https://colab.research.google.com/notebooks/data_table.ipynb>data table notebook</a>'\n",
              "            + ' to learn more about interactive tables.';\n",
              "          element.innerHTML = '';\n",
              "          dataTable['output_type'] = 'display_data';\n",
              "          await google.colab.output.renderOutput(dataTable, element);\n",
              "          const docLink = document.createElement('div');\n",
              "          docLink.innerHTML = docLinkHtml;\n",
              "          element.appendChild(docLink);\n",
              "        }\n",
              "      </script>\n",
              "    </div>\n",
              "  </div>\n",
              "  "
            ]
          },
          "metadata": {},
          "execution_count": 32
        }
      ]
    },
    {
      "cell_type": "code",
      "source": [
        "females.cov()"
      ],
      "metadata": {
        "colab": {
          "base_uri": "https://localhost:8080/",
          "height": 112
        },
        "id": "xh6JhdvQckGj",
        "outputId": "a94d056b-edab-4a24-934d-1def5e77b6dc"
      },
      "execution_count": null,
      "outputs": [
        {
          "output_type": "execute_result",
          "data": {
            "text/plain": [
              "           Height     Weight\n",
              "Height  46.902793  50.205407\n",
              "Weight  50.205407  74.449963"
            ],
            "text/html": [
              "\n",
              "  <div id=\"df-9cecdedf-2626-47cc-b16d-9125f82788cb\">\n",
              "    <div class=\"colab-df-container\">\n",
              "      <div>\n",
              "<style scoped>\n",
              "    .dataframe tbody tr th:only-of-type {\n",
              "        vertical-align: middle;\n",
              "    }\n",
              "\n",
              "    .dataframe tbody tr th {\n",
              "        vertical-align: top;\n",
              "    }\n",
              "\n",
              "    .dataframe thead th {\n",
              "        text-align: right;\n",
              "    }\n",
              "</style>\n",
              "<table border=\"1\" class=\"dataframe\">\n",
              "  <thead>\n",
              "    <tr style=\"text-align: right;\">\n",
              "      <th></th>\n",
              "      <th>Height</th>\n",
              "      <th>Weight</th>\n",
              "    </tr>\n",
              "  </thead>\n",
              "  <tbody>\n",
              "    <tr>\n",
              "      <th>Height</th>\n",
              "      <td>46.902793</td>\n",
              "      <td>50.205407</td>\n",
              "    </tr>\n",
              "    <tr>\n",
              "      <th>Weight</th>\n",
              "      <td>50.205407</td>\n",
              "      <td>74.449963</td>\n",
              "    </tr>\n",
              "  </tbody>\n",
              "</table>\n",
              "</div>\n",
              "      <button class=\"colab-df-convert\" onclick=\"convertToInteractive('df-9cecdedf-2626-47cc-b16d-9125f82788cb')\"\n",
              "              title=\"Convert this dataframe to an interactive table.\"\n",
              "              style=\"display:none;\">\n",
              "        \n",
              "  <svg xmlns=\"http://www.w3.org/2000/svg\" height=\"24px\"viewBox=\"0 0 24 24\"\n",
              "       width=\"24px\">\n",
              "    <path d=\"M0 0h24v24H0V0z\" fill=\"none\"/>\n",
              "    <path d=\"M18.56 5.44l.94 2.06.94-2.06 2.06-.94-2.06-.94-.94-2.06-.94 2.06-2.06.94zm-11 1L8.5 8.5l.94-2.06 2.06-.94-2.06-.94L8.5 2.5l-.94 2.06-2.06.94zm10 10l.94 2.06.94-2.06 2.06-.94-2.06-.94-.94-2.06-.94 2.06-2.06.94z\"/><path d=\"M17.41 7.96l-1.37-1.37c-.4-.4-.92-.59-1.43-.59-.52 0-1.04.2-1.43.59L10.3 9.45l-7.72 7.72c-.78.78-.78 2.05 0 2.83L4 21.41c.39.39.9.59 1.41.59.51 0 1.02-.2 1.41-.59l7.78-7.78 2.81-2.81c.8-.78.8-2.07 0-2.86zM5.41 20L4 18.59l7.72-7.72 1.47 1.35L5.41 20z\"/>\n",
              "  </svg>\n",
              "      </button>\n",
              "      \n",
              "  <style>\n",
              "    .colab-df-container {\n",
              "      display:flex;\n",
              "      flex-wrap:wrap;\n",
              "      gap: 12px;\n",
              "    }\n",
              "\n",
              "    .colab-df-convert {\n",
              "      background-color: #E8F0FE;\n",
              "      border: none;\n",
              "      border-radius: 50%;\n",
              "      cursor: pointer;\n",
              "      display: none;\n",
              "      fill: #1967D2;\n",
              "      height: 32px;\n",
              "      padding: 0 0 0 0;\n",
              "      width: 32px;\n",
              "    }\n",
              "\n",
              "    .colab-df-convert:hover {\n",
              "      background-color: #E2EBFA;\n",
              "      box-shadow: 0px 1px 2px rgba(60, 64, 67, 0.3), 0px 1px 3px 1px rgba(60, 64, 67, 0.15);\n",
              "      fill: #174EA6;\n",
              "    }\n",
              "\n",
              "    [theme=dark] .colab-df-convert {\n",
              "      background-color: #3B4455;\n",
              "      fill: #D2E3FC;\n",
              "    }\n",
              "\n",
              "    [theme=dark] .colab-df-convert:hover {\n",
              "      background-color: #434B5C;\n",
              "      box-shadow: 0px 1px 3px 1px rgba(0, 0, 0, 0.15);\n",
              "      filter: drop-shadow(0px 1px 2px rgba(0, 0, 0, 0.3));\n",
              "      fill: #FFFFFF;\n",
              "    }\n",
              "  </style>\n",
              "\n",
              "      <script>\n",
              "        const buttonEl =\n",
              "          document.querySelector('#df-9cecdedf-2626-47cc-b16d-9125f82788cb button.colab-df-convert');\n",
              "        buttonEl.style.display =\n",
              "          google.colab.kernel.accessAllowed ? 'block' : 'none';\n",
              "\n",
              "        async function convertToInteractive(key) {\n",
              "          const element = document.querySelector('#df-9cecdedf-2626-47cc-b16d-9125f82788cb');\n",
              "          const dataTable =\n",
              "            await google.colab.kernel.invokeFunction('convertToInteractive',\n",
              "                                                     [key], {});\n",
              "          if (!dataTable) return;\n",
              "\n",
              "          const docLinkHtml = 'Like what you see? Visit the ' +\n",
              "            '<a target=\"_blank\" href=https://colab.research.google.com/notebooks/data_table.ipynb>data table notebook</a>'\n",
              "            + ' to learn more about interactive tables.';\n",
              "          element.innerHTML = '';\n",
              "          dataTable['output_type'] = 'display_data';\n",
              "          await google.colab.output.renderOutput(dataTable, element);\n",
              "          const docLink = document.createElement('div');\n",
              "          docLink.innerHTML = docLinkHtml;\n",
              "          element.appendChild(docLink);\n",
              "        }\n",
              "      </script>\n",
              "    </div>\n",
              "  </div>\n",
              "  "
            ]
          },
          "metadata": {},
          "execution_count": 33
        }
      ]
    },
    {
      "cell_type": "markdown",
      "source": [
        "We note the expected high correlation between height and weight for both genders, which also shows in the plots of the distributions below."
      ],
      "metadata": {
        "id": "3gos2X1bcqUv"
      }
    },
    {
      "cell_type": "code",
      "source": [
        "cov_m = males.cov().values\n",
        "pts_m = np.random.multivariate_normal(mu_m, cov_m, size=500)\n",
        "cov_f = females.cov().values\n",
        "pts_f = np.random.multivariate_normal(mu_f, cov_m, size=500)\n",
        "plot_bivariate([pts_m, pts_f], welf)"
      ],
      "metadata": {
        "colab": {
          "base_uri": "https://localhost:8080/",
          "height": 265
        },
        "id": "8C2kvt8lea17",
        "outputId": "2d4898d2-408e-41af-ef94-6598e1489583"
      },
      "execution_count": null,
      "outputs": [
        {
          "output_type": "display_data",
          "data": {
            "text/plain": [
              "<Figure size 432x288 with 1 Axes>"
            ],
            "image/png": "[encoded data removed]"
          },
          "metadata": {
            "needs_background": "light"
          }
        }
      ]
    },
    {
      "cell_type": "markdown",
      "source": [
        "Now we are ready to draw the conditional distributions for given height $h_0$ and weight $w_0$ of a person and to calculate the corresponding parameters."
      ],
      "metadata": {
        "id": "apkRukd3gD9Y"
      }
    },
    {
      "cell_type": "code",
      "source": [
        "mu_H, sigma_H, mu_W, sigma_W = plot_conditional_distributions(np.array(mu_m), males.cov().values, welf)\n",
        "#alternatively, for women remove leading # in the line below  \n",
        "#mu_H, sigma_H, mu_W, sigma_W = plot_conditional_distributions(np.array(mu_f), females.cov().values, [170,70]) # some person's height and weight\n",
        "mu_H, sigma_H, mu_W, sigma_W"
      ],
      "metadata": {
        "colab": {
          "base_uri": "https://localhost:8080/",
          "height": 645
        },
        "id": "CqexozZkc0MO",
        "outputId": "a794b665-0f28-4884-9e84-0057c477918c"
      },
      "execution_count": null,
      "outputs": [
        {
          "output_type": "display_data",
          "data": {
            "text/plain": [
              "<Figure size 720x720 with 5 Axes>"
            ],
            "image/png": "[encoded data removed]"
          },
          "metadata": {
            "needs_background": "light"
          }
        },
        {
          "output_type": "execute_result",
          "data": {
            "text/plain": [
              "(164.95246451882227, 3.6745805907606424, 79.15974947726602, 4.5333034419072495)"
            ]
          },
          "metadata": {},
          "execution_count": 35
        }
      ]
    },
    {
      "cell_type": "code",
      "source": [
        "def percentile_conditional_weight(male, x, mu_W, sigma_W):\n",
        "    return norm.cdf(x, mu_W, sigma_W)\n",
        "\n",
        "welfs_percentile_weight = percentile_conditional_weight(True, welfs_act_weight, mu_W, sigma_W)*100\n",
        "welfs_percentile_weight"
      ],
      "metadata": {
        "colab": {
          "base_uri": "https://localhost:8080/"
        },
        "id": "525G_USogjR4",
        "outputId": "53853310-1876-4509-be6f-8fb8f7ff9c2f"
      },
      "execution_count": null,
      "outputs": [
        {
          "output_type": "execute_result",
          "data": {
            "text/plain": [
              "2.1663376542286703"
            ]
          },
          "metadata": {},
          "execution_count": 36
        }
      ]
    },
    {
      "cell_type": "markdown",
      "source": [
        "The probability of man weighting less than Welf given his height is estimated to be ca 2%. He is maybe underweight. "
      ],
      "metadata": {
        "id": "uZu0PCjdh-tu"
      }
    },
    {
      "cell_type": "markdown",
      "source": [
        "<font color='red'>Tasks A:</font> \n",
        "\n",
        "Pick your own (or a fictive person's) gender, weight, and height. Then\n",
        "1. Use the conditional Normal distribution model for (wo)men to check whether (s)he is over- or underweight. \n",
        "2. Explain why it was necessary to consider the correlation between height and weight to get more accurate (less naive) estimates compared to those from <font color='red'>Tasks 4</font>. "
      ],
      "metadata": {
        "id": "X9a4oMZmkj3I"
      }
    },
    {
      "cell_type": "markdown",
      "source": [
        "<font color='blue'>Answers A:</font> \n",
        "1. Your answer ...\n",
        "2. Your answer ..."
      ],
      "metadata": {
        "id": "YjGRyypFlPi-"
      }
    }
  ],
  "metadata": {
    "kernelspec": {
      "display_name": "Python 3",
      "language": "python",
      "name": "python3"
    },
    "language_info": {
      "codemirror_mode": {
        "name": "ipython",
        "version": 3
      },
      "file_extension": ".py",
      "mimetype": "text/x-python",
      "name": "python",
      "nbconvert_exporter": "python",
      "pygments_lexer": "ipython3",
      "version": "3.7.4"
    },
    "colab": {
      "provenance": [],
      "include_colab_link": true
    }
  },
  "nbformat": 4,
  "nbformat_minor": 0
}